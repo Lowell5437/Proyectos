{
 "cells": [
  {
   "cell_type": "code",
   "execution_count": 7,
   "id": "dafa4487",
   "metadata": {},
   "outputs": [],
   "source": [
    "import psycopg2 as pg\n",
    "from psycopg2.extensions import ISOLATION_LEVEL_AUTOCOMMIT"
   ]
  },
  {
   "cell_type": "code",
   "execution_count": 8,
   "id": "8d2e7897",
   "metadata": {},
   "outputs": [],
   "source": [
    "conn = pg.connect(\n",
    "    dbname='postgres',\n",
    "    user='postgres',\n",
    "    password='CENSURADO',\n",
    "    host='localhost',\n",
    "    port='5432'\n",
    ")"
   ]
  },
  {
   "cell_type": "code",
   "execution_count": 9,
   "id": "9f8c48cd",
   "metadata": {},
   "outputs": [],
   "source": [
    "cur = conn.cursor()"
   ]
  },
  {
   "cell_type": "code",
   "execution_count": 3,
   "id": "2771cd71",
   "metadata": {},
   "outputs": [],
   "source": [
    "conn.set_isolation_level(ISOLATION_LEVEL_AUTOCOMMIT)"
   ]
  },
  {
   "cell_type": "code",
   "execution_count": null,
   "id": "3f9264c3",
   "metadata": {},
   "outputs": [],
   "source": [
    "# Check if database exists, create if not\n",
    "cur.execute(\"SELECT 1 FROM pg_database WHERE datname='phoenix';\")\n",
    "if not cur.fetchone():\n",
    "\tcur.execute('CREATE DATABASE phoenix;')\n",
    "\n",
    "# Check if user exists, create if not\n",
    "cur.execute(\"SELECT 1 FROM pg_roles WHERE rolname='phoenix';\")\n",
    "if not cur.fetchone():\n",
    "\tcur.execute(\"CREATE USER phoenix WITH PASSWORD 'CENSURADO';\")\n",
    "\n",
    "cur.execute('GRANT ALL PRIVILEGES ON DATABASE phoenix TO phoenix;')"
   ]
  },
  {
   "cell_type": "code",
   "execution_count": 12,
   "id": "b1ae7a57",
   "metadata": {},
   "outputs": [],
   "source": [
    "cur.close()\n",
    "conn.close()"
   ]
  }
 ],
 "metadata": {
  "kernelspec": {
   "display_name": "user",
   "language": "python",
   "name": "python3"
  },
  "language_info": {
   "codemirror_mode": {
    "name": "ipython",
    "version": 3
   },
   "file_extension": ".py",
   "mimetype": "text/x-python",
   "name": "python",
   "nbconvert_exporter": "python",
   "pygments_lexer": "ipython3",
   "version": "3.12.9"
  }
 },
 "nbformat": 4,
 "nbformat_minor": 5
}
