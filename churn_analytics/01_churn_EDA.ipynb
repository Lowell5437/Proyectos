{
 "cells": [
  {
   "cell_type": "code",
   "execution_count": 1,
   "id": "30ad41ba",
   "metadata": {},
   "outputs": [],
   "source": [
    "import numpy as np\n",
    "import pandas as pd\n",
    "import matplotlib.pyplot as plt\n",
    "import seaborn as sns\n",
    "import psycopg2 as pg"
   ]
  },
  {
   "cell_type": "code",
   "execution_count": 2,
   "id": "d50f5a58",
   "metadata": {},
   "outputs": [],
   "source": [
    "conn = pg.connect(\n",
    "    host='localhost',\n",
    "    database='phoenix',\n",
    "    port=5432,\n",
    "    user='postgres',\n",
    "    password='adminphoenix'\n",
    ")\n",
    "cursor = conn.cursor()"
   ]
  },
  {
   "cell_type": "code",
   "execution_count": 3,
   "id": "fea4fbc6",
   "metadata": {},
   "outputs": [
    {
     "name": "stderr",
     "output_type": "stream",
     "text": [
      "C:\\Users\\User\\AppData\\Local\\Temp\\ipykernel_21344\\4111480195.py:1: UserWarning: pandas only supports SQLAlchemy connectable (engine/connection) or database string URI or sqlite3 DBAPI2 connection. Other DBAPI2 objects are not tested. Please consider using SQLAlchemy.\n",
      "  churn = pd.read_sql_query(\"\"\"SELECT * FROM churnbase\"\"\",\n"
     ]
    }
   ],
   "source": [
    "churn = pd.read_sql_query(\"\"\"SELECT * FROM churnbase\"\"\",\n",
    "                          conn)\n",
    "cursor.close()\n",
    "conn.close()"
   ]
  },
  {
   "cell_type": "markdown",
   "id": "1dbc083c",
   "metadata": {},
   "source": [
    "# Análisis Inicial"
   ]
  },
  {
   "cell_type": "markdown",
   "id": "90f5068f",
   "metadata": {},
   "source": [
    "## Info"
   ]
  },
  {
   "cell_type": "code",
   "execution_count": 4,
   "id": "c1c521cb",
   "metadata": {},
   "outputs": [
    {
     "name": "stdout",
     "output_type": "stream",
     "text": [
      "<class 'pandas.core.frame.DataFrame'>\n",
      "RangeIndex: 541909 entries, 0 to 541908\n",
      "Data columns (total 8 columns):\n",
      " #   Column       Non-Null Count   Dtype         \n",
      "---  ------       --------------   -----         \n",
      " 0   InvoiceNo    541909 non-null  object        \n",
      " 1   StockCode    541909 non-null  object        \n",
      " 2   Description  541909 non-null  object        \n",
      " 3   Quantity     541909 non-null  int64         \n",
      " 4   InvoiceDate  541909 non-null  datetime64[ns]\n",
      " 5   UnitPrice    541909 non-null  float64       \n",
      " 6   CustomerID   541909 non-null  object        \n",
      " 7   Country      541909 non-null  object        \n",
      "dtypes: datetime64[ns](1), float64(1), int64(1), object(5)\n",
      "memory usage: 167.7 MB\n"
     ]
    }
   ],
   "source": [
    "churn.info(memory_usage='deep',\n",
    "        show_counts=True,\n",
    "        verbose=True)"
   ]
  },
  {
   "cell_type": "markdown",
   "id": "63b48d07",
   "metadata": {},
   "source": [
    "## Variables Numéricas"
   ]
  },
  {
   "cell_type": "code",
   "execution_count": 5,
   "id": "240bb0ad",
   "metadata": {},
   "outputs": [
    {
     "data": {
      "application/vnd.microsoft.datawrangler.viewer.v0+json": {
       "columns": [
        {
         "name": "index",
         "rawType": "object",
         "type": "string"
        },
        {
         "name": "Quantity",
         "rawType": "float64",
         "type": "float"
        },
        {
         "name": "UnitPrice",
         "rawType": "float64",
         "type": "float"
        }
       ],
       "ref": "0d4bceb5-04f3-4d87-bca9-e106181e4f8b",
       "rows": [
        [
         "count",
         "541909.0",
         "541909.0"
        ],
        [
         "mean",
         "9.55224954743324",
         "4.611113626088514"
        ],
        [
         "std",
         "218.08115785023384",
         "96.7598530611794"
        ],
        [
         "min",
         "-80995.0",
         "-11062.06"
        ],
        [
         "25%",
         "1.0",
         "1.25"
        ],
        [
         "50%",
         "3.0",
         "2.08"
        ],
        [
         "75%",
         "10.0",
         "4.13"
        ],
        [
         "max",
         "80995.0",
         "38970.0"
        ]
       ],
       "shape": {
        "columns": 2,
        "rows": 8
       }
      },
      "text/html": [
       "<div>\n",
       "<style scoped>\n",
       "    .dataframe tbody tr th:only-of-type {\n",
       "        vertical-align: middle;\n",
       "    }\n",
       "\n",
       "    .dataframe tbody tr th {\n",
       "        vertical-align: top;\n",
       "    }\n",
       "\n",
       "    .dataframe thead th {\n",
       "        text-align: right;\n",
       "    }\n",
       "</style>\n",
       "<table border=\"1\" class=\"dataframe\">\n",
       "  <thead>\n",
       "    <tr style=\"text-align: right;\">\n",
       "      <th></th>\n",
       "      <th>Quantity</th>\n",
       "      <th>UnitPrice</th>\n",
       "    </tr>\n",
       "  </thead>\n",
       "  <tbody>\n",
       "    <tr>\n",
       "      <th>count</th>\n",
       "      <td>541909.000000</td>\n",
       "      <td>541909.000000</td>\n",
       "    </tr>\n",
       "    <tr>\n",
       "      <th>mean</th>\n",
       "      <td>9.552250</td>\n",
       "      <td>4.611114</td>\n",
       "    </tr>\n",
       "    <tr>\n",
       "      <th>std</th>\n",
       "      <td>218.081158</td>\n",
       "      <td>96.759853</td>\n",
       "    </tr>\n",
       "    <tr>\n",
       "      <th>min</th>\n",
       "      <td>-80995.000000</td>\n",
       "      <td>-11062.060000</td>\n",
       "    </tr>\n",
       "    <tr>\n",
       "      <th>25%</th>\n",
       "      <td>1.000000</td>\n",
       "      <td>1.250000</td>\n",
       "    </tr>\n",
       "    <tr>\n",
       "      <th>50%</th>\n",
       "      <td>3.000000</td>\n",
       "      <td>2.080000</td>\n",
       "    </tr>\n",
       "    <tr>\n",
       "      <th>75%</th>\n",
       "      <td>10.000000</td>\n",
       "      <td>4.130000</td>\n",
       "    </tr>\n",
       "    <tr>\n",
       "      <th>max</th>\n",
       "      <td>80995.000000</td>\n",
       "      <td>38970.000000</td>\n",
       "    </tr>\n",
       "  </tbody>\n",
       "</table>\n",
       "</div>"
      ],
      "text/plain": [
       "            Quantity      UnitPrice\n",
       "count  541909.000000  541909.000000\n",
       "mean        9.552250       4.611114\n",
       "std       218.081158      96.759853\n",
       "min    -80995.000000  -11062.060000\n",
       "25%         1.000000       1.250000\n",
       "50%         3.000000       2.080000\n",
       "75%        10.000000       4.130000\n",
       "max     80995.000000   38970.000000"
      ]
     },
     "execution_count": 5,
     "metadata": {},
     "output_type": "execute_result"
    }
   ],
   "source": [
    "churn.describe(include='number')"
   ]
  },
  {
   "cell_type": "markdown",
   "id": "9c09cc1c",
   "metadata": {},
   "source": [
    "### Exploración Quantity <= 0"
   ]
  },
  {
   "cell_type": "code",
   "execution_count": 6,
   "id": "0a16ad29",
   "metadata": {},
   "outputs": [
    {
     "data": {
      "application/vnd.microsoft.datawrangler.viewer.v0+json": {
       "columns": [
        {
         "name": "index",
         "rawType": "int64",
         "type": "integer"
        },
        {
         "name": "InvoiceNo",
         "rawType": "object",
         "type": "string"
        },
        {
         "name": "StockCode",
         "rawType": "object",
         "type": "string"
        },
        {
         "name": "Description",
         "rawType": "object",
         "type": "string"
        },
        {
         "name": "Quantity",
         "rawType": "int64",
         "type": "integer"
        },
        {
         "name": "InvoiceDate",
         "rawType": "datetime64[ns]",
         "type": "datetime"
        },
        {
         "name": "UnitPrice",
         "rawType": "float64",
         "type": "float"
        },
        {
         "name": "CustomerID",
         "rawType": "object",
         "type": "string"
        },
        {
         "name": "Country",
         "rawType": "object",
         "type": "string"
        }
       ],
       "ref": "d455f387-b202-478d-8b8b-b14b8228363f",
       "rows": [
        [
         "141",
         "C536379",
         "D",
         "Discount",
         "-1",
         "2010-12-01 09:41:00",
         "27.5",
         "14527",
         "United Kingdom"
        ],
        [
         "540087",
         "C581465",
         "22171",
         "3 HOOK PHOTO SHELF ANTIQUE WHITE",
         "-1",
         "2011-12-08 18:59:00",
         "8.5",
         "15755",
         "United Kingdom"
        ],
        [
         "154",
         "C536383",
         "35004C",
         "SET OF 3 COLOURED  FLYING DUCKS",
         "-1",
         "2010-12-01 09:49:00",
         "4.65",
         "15311",
         "United Kingdom"
        ],
        [
         "540084",
         "C581464",
         "23458",
         "DOLLY CABINET 3 DRAWERS ",
         "-1",
         "2011-12-08 18:57:00",
         "14.95",
         "15951",
         "United Kingdom"
        ],
        [
         "1446",
         "C536543",
         "22632",
         "HAND WARMER RED RETROSPOT",
         "-1",
         "2010-12-01 14:30:00",
         "2.1",
         "17841",
         "United Kingdom"
        ],
        [
         "291231",
         "C562438",
         "22423",
         "REGENCY CAKESTAND 3 TIER",
         "-1",
         "2011-08-04 17:58:00",
         "12.75",
         "14621",
         "United Kingdom"
        ],
        [
         "291675",
         "C562514",
         "M",
         "Manual",
         "-1",
         "2011-08-05 12:20:00",
         "11.95",
         "13408",
         "United Kingdom"
        ],
        [
         "291676",
         "C562515",
         "M",
         "Manual",
         "-1",
         "2011-08-05 12:22:00",
         "43.63",
         "13408",
         "United Kingdom"
        ],
        [
         "291841",
         "C562522",
         "22169",
         "FAMILY ALBUM WHITE PICTURE FRAME",
         "-1",
         "2011-08-05 12:49:00",
         "8.5",
         "13813",
         "Germany"
        ],
        [
         "291842",
         "C562522",
         "22139",
         "RETROSPOT TEA SET CERAMIC 11 PC ",
         "-1",
         "2011-08-05 12:49:00",
         "4.95",
         "13813",
         "Germany"
        ],
        [
         "292831",
         "C562561",
         "22656",
         "VINTAGE BLUE KITCHEN CABINET",
         "-1",
         "2011-08-05 17:13:00",
         "125.0",
         "16729",
         "United Kingdom"
        ],
        [
         "293102",
         "C562577",
         "23207",
         "LUNCH BAG ALPHABET DESIGN",
         "-1",
         "2011-08-07 13:09:00",
         "1.65",
         "15518",
         "United Kingdom"
        ],
        [
         "293156",
         "C562582",
         "20751",
         "FUNKY WASHING UP GLOVES ASSORTED",
         "-1",
         "2011-08-07 13:53:00",
         "2.1",
         "15640",
         "United Kingdom"
        ],
        [
         "293157",
         "C562582",
         "21843",
         "RED RETROSPOT CAKE STAND",
         "-1",
         "2011-08-07 13:53:00",
         "10.95",
         "15640",
         "United Kingdom"
        ],
        [
         "293158",
         "C562582",
         "21452",
         "TOADSTOOL MONEY BOX",
         "-1",
         "2011-08-07 13:53:00",
         "2.95",
         "15640",
         "United Kingdom"
        ],
        [
         "293160",
         "C562582",
         "23008",
         "DOLLY GIRL BABY GIFT SET",
         "-1",
         "2011-08-07 13:53:00",
         "16.95",
         "15640",
         "United Kingdom"
        ],
        [
         "293161",
         "C562582",
         "22634",
         "CHILDS BREAKFAST SET SPACEBOY ",
         "-1",
         "2011-08-07 13:53:00",
         "9.95",
         "15640",
         "United Kingdom"
        ],
        [
         "293162",
         "C562582",
         "21452",
         "TOADSTOOL MONEY BOX",
         "-1",
         "2011-08-07 13:53:00",
         "2.95",
         "15640",
         "United Kingdom"
        ],
        [
         "293164",
         "C562582",
         "22241",
         "GARLAND WOODEN HAPPY EASTER",
         "-1",
         "2011-08-07 13:53:00",
         "1.25",
         "15640",
         "United Kingdom"
        ],
        [
         "293409",
         "C562597",
         "M",
         "Manual",
         "-1",
         "2011-08-08 09:48:00",
         "6.76",
         "15518",
         "United Kingdom"
        ],
        [
         "538559",
         "C581409",
         "84946",
         "ANTIQUE SILVER T-LIGHT GLASS",
         "-1",
         "2011-12-08 14:08:00",
         "1.25",
         "12476",
         "Germany"
        ],
        [
         "538563",
         "C581409",
         "23114",
         "VINTAGE LEAF CHOPPING BOARD  ",
         "-1",
         "2011-12-08 14:08:00",
         "4.95",
         "12476",
         "Germany"
        ],
        [
         "538564",
         "C581409",
         "23245",
         "SET OF 3 REGENCY CAKE TINS",
         "-1",
         "2011-12-08 14:08:00",
         "4.95",
         "12476",
         "Germany"
        ],
        [
         "538565",
         "C581409",
         "23462",
         "ROCOCO WALL MIRROR WHITE",
         "-1",
         "2011-12-08 14:08:00",
         "19.95",
         "12476",
         "Germany"
        ],
        [
         "538566",
         "C581409",
         "22781",
         "GUMBALL MAGAZINE RACK",
         "-1",
         "2011-12-08 14:08:00",
         "7.65",
         "12476",
         "Germany"
        ],
        [
         "3702",
         "C536642",
         "21463",
         "MIRRORED DISCO BALL ",
         "-1",
         "2010-12-02 11:56:00",
         "5.95",
         "14390",
         "United Kingdom"
        ],
        [
         "3922",
         "C536734",
         "85048",
         "15CM CHRISTMAS GLASS BALL 20 LIGHTS",
         "-1",
         "2010-12-02 12:50:00",
         "7.95",
         "16042",
         "United Kingdom"
        ],
        [
         "4299",
         "C536758",
         "21314",
         "SMALL GLASS HEART TRINKET POT",
         "-1",
         "2010-12-02 14:25:00",
         "2.1",
         "13767",
         "United Kingdom"
        ],
        [
         "4317",
         "C536760",
         "22175",
         "PINK OWL SOFT TOY",
         "-1",
         "2010-12-02 14:29:00",
         "2.95",
         "17547",
         "United Kingdom"
        ],
        [
         "4952",
         "C536828",
         "22832",
         "BROCANTE SHELF WITH HOOKS",
         "-1",
         "2010-12-02 17:35:00",
         "10.75",
         "14264",
         "United Kingdom"
        ],
        [
         "4954",
         "C536829",
         "71477",
         "COLOUR GLASS. STAR T-LIGHT HOLDER",
         "-1",
         "2010-12-02 17:36:00",
         "3.25",
         "13295",
         "United Kingdom"
        ],
        [
         "4890",
         "C536814",
         "21258",
         "VICTORIAN SEWING BOX LARGE",
         "-1",
         "2010-12-02 17:03:00",
         "12.75",
         "13958",
         "United Kingdom"
        ],
        [
         "4891",
         "C536815",
         "85175",
         "CACTI T-LIGHT CANDLES",
         "-1",
         "2010-12-02 17:05:00",
         "0.42",
         "14443",
         "United Kingdom"
        ],
        [
         "4892",
         "C536815",
         "22178",
         "VICTORIAN GLASS HANGING T-LIGHT",
         "-1",
         "2010-12-02 17:05:00",
         "1.25",
         "14443",
         "United Kingdom"
        ],
        [
         "4894",
         "C536817",
         "22187",
         "GREEN CHRISTMAS TREE CARD HOLDER",
         "-1",
         "2010-12-02 17:08:00",
         "4.25",
         "14156",
         "EIRE"
        ],
        [
         "4895",
         "C536817",
         "71477",
         "COLOUR GLASS. STAR T-LIGHT HOLDER",
         "-1",
         "2010-12-02 17:08:00",
         "3.25",
         "14156",
         "EIRE"
        ],
        [
         "537578",
         "C581322",
         "22666",
         "RECIPE BOX PANTRY YELLOW DESIGN",
         "-1",
         "2011-12-08 11:51:00",
         "2.95",
         "18223",
         "United Kingdom"
        ],
        [
         "537605",
         "C581323",
         "21533",
         "RETROSPOT LARGE MILK JUG",
         "-1",
         "2011-12-08 11:53:00",
         "4.25",
         "14442",
         "Channel Islands"
        ],
        [
         "537501",
         "C581305",
         "82484",
         "WOOD BLACK BOARD ANT WHITE FINISH",
         "-1",
         "2011-12-08 11:42:00",
         "7.95",
         "16933",
         "United Kingdom"
        ],
        [
         "537574",
         "C581316",
         "23020",
         "GLASS  SONGBIRD STORAGE JAR",
         "-1",
         "2011-12-08 11:46:00",
         "12.5",
         "12523",
         "France"
        ],
        [
         "537575",
         "C581316",
         "21531",
         "RED RETROSPOT SUGAR JAM BOWL",
         "-1",
         "2011-12-08 11:46:00",
         "2.55",
         "12523",
         "France"
        ],
        [
         "537576",
         "C581316",
         "23174",
         "REGENCY SUGAR BOWL GREEN",
         "-1",
         "2011-12-08 11:46:00",
         "4.15",
         "12523",
         "France"
        ],
        [
         "537577",
         "C581322",
         "22909",
         "SET OF 20 VINTAGE CHRISTMAS NAPKINS",
         "-1",
         "2011-12-08 11:51:00",
         "0.85",
         "18223",
         "United Kingdom"
        ],
        [
         "4896",
         "C536818",
         "84947",
         "ANTIQUE SILVER TEA GLASS ENGRAVED",
         "-1",
         "2010-12-02 17:09:00",
         "1.25",
         "16995",
         "United Kingdom"
        ],
        [
         "4914",
         "C536820",
         "22877",
         "NUMBER TILE COTTAGE GARDEN 9",
         "-1",
         "2010-12-02 17:14:00",
         "1.95",
         "18168",
         "United Kingdom"
        ],
        [
         "4915",
         "C536820",
         "22869",
         "NUMBER TILE COTTAGE GARDEN 1",
         "-1",
         "2010-12-02 17:14:00",
         "1.95",
         "18168",
         "United Kingdom"
        ],
        [
         "4916",
         "C536820",
         "22878",
         "NUMBER TILE COTTAGE GARDEN No",
         "-1",
         "2010-12-02 17:14:00",
         "2.1",
         "18168",
         "United Kingdom"
        ],
        [
         "4917",
         "C536820",
         "21843",
         "RED RETROSPOT CAKE STAND",
         "-1",
         "2010-12-02 17:14:00",
         "10.95",
         "18168",
         "United Kingdom"
        ],
        [
         "4942",
         "C536822",
         "21430",
         "SET/3 RED GINGHAM ROSE STORAGE BOX",
         "-1",
         "2010-12-02 17:19:00",
         "3.75",
         "14625",
         "United Kingdom"
        ],
        [
         "4947",
         "C536825",
         "22617",
         "BAKING SET SPACEBOY DESIGN",
         "-1",
         "2010-12-02 17:27:00",
         "4.95",
         "15384",
         "United Kingdom"
        ]
       ],
       "shape": {
        "columns": 8,
        "rows": 10624
       }
      },
      "text/html": [
       "<div>\n",
       "<style scoped>\n",
       "    .dataframe tbody tr th:only-of-type {\n",
       "        vertical-align: middle;\n",
       "    }\n",
       "\n",
       "    .dataframe tbody tr th {\n",
       "        vertical-align: top;\n",
       "    }\n",
       "\n",
       "    .dataframe thead th {\n",
       "        text-align: right;\n",
       "    }\n",
       "</style>\n",
       "<table border=\"1\" class=\"dataframe\">\n",
       "  <thead>\n",
       "    <tr style=\"text-align: right;\">\n",
       "      <th></th>\n",
       "      <th>InvoiceNo</th>\n",
       "      <th>StockCode</th>\n",
       "      <th>Description</th>\n",
       "      <th>Quantity</th>\n",
       "      <th>InvoiceDate</th>\n",
       "      <th>UnitPrice</th>\n",
       "      <th>CustomerID</th>\n",
       "      <th>Country</th>\n",
       "    </tr>\n",
       "  </thead>\n",
       "  <tbody>\n",
       "    <tr>\n",
       "      <th>141</th>\n",
       "      <td>C536379</td>\n",
       "      <td>D</td>\n",
       "      <td>Discount</td>\n",
       "      <td>-1</td>\n",
       "      <td>2010-12-01 09:41:00</td>\n",
       "      <td>27.50</td>\n",
       "      <td>14527</td>\n",
       "      <td>United Kingdom</td>\n",
       "    </tr>\n",
       "    <tr>\n",
       "      <th>540087</th>\n",
       "      <td>C581465</td>\n",
       "      <td>22171</td>\n",
       "      <td>3 HOOK PHOTO SHELF ANTIQUE WHITE</td>\n",
       "      <td>-1</td>\n",
       "      <td>2011-12-08 18:59:00</td>\n",
       "      <td>8.50</td>\n",
       "      <td>15755</td>\n",
       "      <td>United Kingdom</td>\n",
       "    </tr>\n",
       "    <tr>\n",
       "      <th>154</th>\n",
       "      <td>C536383</td>\n",
       "      <td>35004C</td>\n",
       "      <td>SET OF 3 COLOURED  FLYING DUCKS</td>\n",
       "      <td>-1</td>\n",
       "      <td>2010-12-01 09:49:00</td>\n",
       "      <td>4.65</td>\n",
       "      <td>15311</td>\n",
       "      <td>United Kingdom</td>\n",
       "    </tr>\n",
       "    <tr>\n",
       "      <th>540084</th>\n",
       "      <td>C581464</td>\n",
       "      <td>23458</td>\n",
       "      <td>DOLLY CABINET 3 DRAWERS</td>\n",
       "      <td>-1</td>\n",
       "      <td>2011-12-08 18:57:00</td>\n",
       "      <td>14.95</td>\n",
       "      <td>15951</td>\n",
       "      <td>United Kingdom</td>\n",
       "    </tr>\n",
       "    <tr>\n",
       "      <th>1446</th>\n",
       "      <td>C536543</td>\n",
       "      <td>22632</td>\n",
       "      <td>HAND WARMER RED RETROSPOT</td>\n",
       "      <td>-1</td>\n",
       "      <td>2010-12-01 14:30:00</td>\n",
       "      <td>2.10</td>\n",
       "      <td>17841</td>\n",
       "      <td>United Kingdom</td>\n",
       "    </tr>\n",
       "    <tr>\n",
       "      <th>...</th>\n",
       "      <td>...</td>\n",
       "      <td>...</td>\n",
       "      <td>...</td>\n",
       "      <td>...</td>\n",
       "      <td>...</td>\n",
       "      <td>...</td>\n",
       "      <td>...</td>\n",
       "      <td>...</td>\n",
       "    </tr>\n",
       "    <tr>\n",
       "      <th>4298</th>\n",
       "      <td>C536757</td>\n",
       "      <td>84347</td>\n",
       "      <td>ROTATING SILVER ANGELS T-LIGHT HLDR</td>\n",
       "      <td>-9360</td>\n",
       "      <td>2010-12-02 14:23:00</td>\n",
       "      <td>0.03</td>\n",
       "      <td>15838</td>\n",
       "      <td>United Kingdom</td>\n",
       "    </tr>\n",
       "    <tr>\n",
       "      <th>225589</th>\n",
       "      <td>556691</td>\n",
       "      <td>23005</td>\n",
       "      <td>printing smudges/thrown away</td>\n",
       "      <td>-9600</td>\n",
       "      <td>2011-06-14 10:37:00</td>\n",
       "      <td>0.00</td>\n",
       "      <td>NaN</td>\n",
       "      <td>United Kingdom</td>\n",
       "    </tr>\n",
       "    <tr>\n",
       "      <th>225588</th>\n",
       "      <td>556690</td>\n",
       "      <td>23005</td>\n",
       "      <td>printing smudges/thrown away</td>\n",
       "      <td>-9600</td>\n",
       "      <td>2011-06-14 10:37:00</td>\n",
       "      <td>0.00</td>\n",
       "      <td>NaN</td>\n",
       "      <td>United Kingdom</td>\n",
       "    </tr>\n",
       "    <tr>\n",
       "      <th>61716</th>\n",
       "      <td>C541433</td>\n",
       "      <td>23166</td>\n",
       "      <td>MEDIUM CERAMIC TOP STORAGE JAR</td>\n",
       "      <td>-74215</td>\n",
       "      <td>2011-01-18 10:17:00</td>\n",
       "      <td>1.04</td>\n",
       "      <td>12346</td>\n",
       "      <td>United Kingdom</td>\n",
       "    </tr>\n",
       "    <tr>\n",
       "      <th>540425</th>\n",
       "      <td>C581484</td>\n",
       "      <td>23843</td>\n",
       "      <td>PAPER CRAFT , LITTLE BIRDIE</td>\n",
       "      <td>-80995</td>\n",
       "      <td>2011-12-09 09:27:00</td>\n",
       "      <td>2.08</td>\n",
       "      <td>16446</td>\n",
       "      <td>United Kingdom</td>\n",
       "    </tr>\n",
       "  </tbody>\n",
       "</table>\n",
       "<p>10624 rows × 8 columns</p>\n",
       "</div>"
      ],
      "text/plain": [
       "       InvoiceNo StockCode                          Description  Quantity  \\\n",
       "141      C536379         D                             Discount        -1   \n",
       "540087   C581465     22171     3 HOOK PHOTO SHELF ANTIQUE WHITE        -1   \n",
       "154      C536383    35004C      SET OF 3 COLOURED  FLYING DUCKS        -1   \n",
       "540084   C581464     23458             DOLLY CABINET 3 DRAWERS         -1   \n",
       "1446     C536543     22632            HAND WARMER RED RETROSPOT        -1   \n",
       "...          ...       ...                                  ...       ...   \n",
       "4298     C536757     84347  ROTATING SILVER ANGELS T-LIGHT HLDR     -9360   \n",
       "225589    556691     23005         printing smudges/thrown away     -9600   \n",
       "225588    556690     23005         printing smudges/thrown away     -9600   \n",
       "61716    C541433     23166       MEDIUM CERAMIC TOP STORAGE JAR    -74215   \n",
       "540425   C581484     23843          PAPER CRAFT , LITTLE BIRDIE    -80995   \n",
       "\n",
       "               InvoiceDate  UnitPrice CustomerID         Country  \n",
       "141    2010-12-01 09:41:00      27.50      14527  United Kingdom  \n",
       "540087 2011-12-08 18:59:00       8.50      15755  United Kingdom  \n",
       "154    2010-12-01 09:49:00       4.65      15311  United Kingdom  \n",
       "540084 2011-12-08 18:57:00      14.95      15951  United Kingdom  \n",
       "1446   2010-12-01 14:30:00       2.10      17841  United Kingdom  \n",
       "...                    ...        ...        ...             ...  \n",
       "4298   2010-12-02 14:23:00       0.03      15838  United Kingdom  \n",
       "225589 2011-06-14 10:37:00       0.00        NaN  United Kingdom  \n",
       "225588 2011-06-14 10:37:00       0.00        NaN  United Kingdom  \n",
       "61716  2011-01-18 10:17:00       1.04      12346  United Kingdom  \n",
       "540425 2011-12-09 09:27:00       2.08      16446  United Kingdom  \n",
       "\n",
       "[10624 rows x 8 columns]"
      ]
     },
     "execution_count": 6,
     "metadata": {},
     "output_type": "execute_result"
    }
   ],
   "source": [
    "churn[churn['Quantity'] <= 0].sort_values(by='Quantity', ascending=False)"
   ]
  },
  {
   "cell_type": "code",
   "execution_count": 7,
   "id": "3206f73f",
   "metadata": {},
   "outputs": [
    {
     "data": {
      "application/vnd.microsoft.datawrangler.viewer.v0+json": {
       "columns": [
        {
         "name": "index",
         "rawType": "int64",
         "type": "integer"
        },
        {
         "name": "InvoiceNo",
         "rawType": "object",
         "type": "string"
        },
        {
         "name": "StockCode",
         "rawType": "object",
         "type": "string"
        },
        {
         "name": "Description",
         "rawType": "object",
         "type": "string"
        },
        {
         "name": "Quantity",
         "rawType": "int64",
         "type": "integer"
        },
        {
         "name": "InvoiceDate",
         "rawType": "datetime64[ns]",
         "type": "datetime"
        },
        {
         "name": "UnitPrice",
         "rawType": "float64",
         "type": "float"
        },
        {
         "name": "CustomerID",
         "rawType": "object",
         "type": "string"
        },
        {
         "name": "Country",
         "rawType": "object",
         "type": "string"
        }
       ],
       "ref": "93e24de2-2bad-40ed-8ba3-729f90e9cb2e",
       "rows": [
        [
         "141",
         "C536379",
         "D",
         "Discount",
         "-1",
         "2010-12-01 09:41:00",
         "27.5",
         "14527",
         "United Kingdom"
        ]
       ],
       "shape": {
        "columns": 8,
        "rows": 1
       }
      },
      "text/html": [
       "<div>\n",
       "<style scoped>\n",
       "    .dataframe tbody tr th:only-of-type {\n",
       "        vertical-align: middle;\n",
       "    }\n",
       "\n",
       "    .dataframe tbody tr th {\n",
       "        vertical-align: top;\n",
       "    }\n",
       "\n",
       "    .dataframe thead th {\n",
       "        text-align: right;\n",
       "    }\n",
       "</style>\n",
       "<table border=\"1\" class=\"dataframe\">\n",
       "  <thead>\n",
       "    <tr style=\"text-align: right;\">\n",
       "      <th></th>\n",
       "      <th>InvoiceNo</th>\n",
       "      <th>StockCode</th>\n",
       "      <th>Description</th>\n",
       "      <th>Quantity</th>\n",
       "      <th>InvoiceDate</th>\n",
       "      <th>UnitPrice</th>\n",
       "      <th>CustomerID</th>\n",
       "      <th>Country</th>\n",
       "    </tr>\n",
       "  </thead>\n",
       "  <tbody>\n",
       "    <tr>\n",
       "      <th>141</th>\n",
       "      <td>C536379</td>\n",
       "      <td>D</td>\n",
       "      <td>Discount</td>\n",
       "      <td>-1</td>\n",
       "      <td>2010-12-01 09:41:00</td>\n",
       "      <td>27.5</td>\n",
       "      <td>14527</td>\n",
       "      <td>United Kingdom</td>\n",
       "    </tr>\n",
       "  </tbody>\n",
       "</table>\n",
       "</div>"
      ],
      "text/plain": [
       "    InvoiceNo StockCode Description  Quantity         InvoiceDate  UnitPrice  \\\n",
       "141   C536379         D    Discount        -1 2010-12-01 09:41:00       27.5   \n",
       "\n",
       "    CustomerID         Country  \n",
       "141      14527  United Kingdom  "
      ]
     },
     "execution_count": 7,
     "metadata": {},
     "output_type": "execute_result"
    }
   ],
   "source": [
    "churn[churn['InvoiceNo'] == 'C536379']"
   ]
  },
  {
   "cell_type": "code",
   "execution_count": 8,
   "id": "6af50a7b",
   "metadata": {},
   "outputs": [
    {
     "data": {
      "application/vnd.microsoft.datawrangler.viewer.v0+json": {
       "columns": [
        {
         "name": "index",
         "rawType": "int64",
         "type": "integer"
        },
        {
         "name": "InvoiceNo",
         "rawType": "object",
         "type": "string"
        },
        {
         "name": "StockCode",
         "rawType": "object",
         "type": "string"
        },
        {
         "name": "Description",
         "rawType": "object",
         "type": "string"
        },
        {
         "name": "Quantity",
         "rawType": "int64",
         "type": "integer"
        },
        {
         "name": "InvoiceDate",
         "rawType": "datetime64[ns]",
         "type": "datetime"
        },
        {
         "name": "UnitPrice",
         "rawType": "float64",
         "type": "float"
        },
        {
         "name": "CustomerID",
         "rawType": "object",
         "type": "string"
        },
        {
         "name": "Country",
         "rawType": "object",
         "type": "string"
        }
       ],
       "ref": "c321565c-98e9-47c4-9eb0-014a24ef0dfd",
       "rows": [
        [
         "141",
         "C536379",
         "D",
         "Discount",
         "-1",
         "2010-12-01 09:41:00",
         "27.5",
         "14527",
         "United Kingdom"
        ],
        [
         "8969",
         "537159",
         "22112",
         "CHOCOLATE HOT WATER BOTTLE",
         "6",
         "2010-12-05 13:17:00",
         "4.95",
         "14527",
         "United Kingdom"
        ],
        [
         "8970",
         "537159",
         "22111",
         "SCOTTIE DOG HOT WATER BOTTLE",
         "1",
         "2010-12-05 13:17:00",
         "4.95",
         "14527",
         "United Kingdom"
        ],
        [
         "8971",
         "537159",
         "21479",
         "WHITE SKULL HOT WATER BOTTLE ",
         "1",
         "2010-12-05 13:17:00",
         "3.75",
         "14527",
         "United Kingdom"
        ],
        [
         "8972",
         "537159",
         "22114",
         "HOT WATER BOTTLE TEA AND SYMPATHY",
         "6",
         "2010-12-05 13:17:00",
         "3.95",
         "14527",
         "United Kingdom"
        ],
        [
         "8973",
         "537159",
         "35598B",
         "BLACK CHRISTMAS TREE 60CM",
         "1",
         "2010-12-05 13:17:00",
         "2.95",
         "14527",
         "United Kingdom"
        ],
        [
         "8974",
         "537159",
         "22866",
         "HAND WARMER SCOTTY DOG DESIGN",
         "3",
         "2010-12-05 13:17:00",
         "2.1",
         "14527",
         "United Kingdom"
        ],
        [
         "8975",
         "537159",
         "22865",
         "HAND WARMER OWL DESIGN",
         "7",
         "2010-12-05 13:17:00",
         "2.1",
         "14527",
         "United Kingdom"
        ],
        [
         "8976",
         "537159",
         "22632",
         "HAND WARMER RED RETROSPOT",
         "3",
         "2010-12-05 13:17:00",
         "2.1",
         "14527",
         "United Kingdom"
        ],
        [
         "8977",
         "537159",
         "22684",
         "FRENCH BLUE METAL DOOR SIGN 9",
         "1",
         "2010-12-05 13:17:00",
         "1.25",
         "14527",
         "United Kingdom"
        ],
        [
         "8978",
         "537159",
         "22676",
         "FRENCH BLUE METAL DOOR SIGN 1",
         "1",
         "2010-12-05 13:17:00",
         "1.25",
         "14527",
         "United Kingdom"
        ],
        [
         "8979",
         "537159",
         "21481",
         "FAWN BLUE HOT WATER BOTTLE",
         "1",
         "2010-12-05 13:17:00",
         "2.95",
         "14527",
         "United Kingdom"
        ],
        [
         "8980",
         "537159",
         "84032A",
         "CHARLIE+LOLA PINK HOT WATER BOTTLE",
         "1",
         "2010-12-05 13:17:00",
         "2.95",
         "14527",
         "United Kingdom"
        ],
        [
         "8981",
         "537159",
         "21217",
         "RED RETROSPOT ROUND CAKE TINS",
         "1",
         "2010-12-05 13:17:00",
         "9.95",
         "14527",
         "United Kingdom"
        ],
        [
         "8982",
         "537159",
         "22946",
         "WOODEN ADVENT CALENDAR CREAM",
         "2",
         "2010-12-05 13:17:00",
         "16.95",
         "14527",
         "United Kingdom"
        ],
        [
         "8983",
         "537159",
         "22694",
         "WICKER STAR ",
         "2",
         "2010-12-05 13:17:00",
         "2.1",
         "14527",
         "United Kingdom"
        ],
        [
         "8984",
         "537159",
         "82011B",
         "BATHROOM SCALES RUBBER DUCKS",
         "1",
         "2010-12-05 13:17:00",
         "3.75",
         "14527",
         "United Kingdom"
        ],
        [
         "8985",
         "537159",
         "22898",
         "CHILDRENS APRON APPLES DESIGN",
         "2",
         "2010-12-05 13:17:00",
         "1.95",
         "14527",
         "United Kingdom"
        ],
        [
         "8986",
         "537159",
         "22667",
         "RECIPE BOX RETROSPOT ",
         "1",
         "2010-12-05 13:17:00",
         "2.95",
         "14527",
         "United Kingdom"
        ],
        [
         "8987",
         "537159",
         "22357",
         "KINGS CHOICE BISCUIT TIN",
         "1",
         "2010-12-05 13:17:00",
         "4.25",
         "14527",
         "United Kingdom"
        ],
        [
         "8988",
         "537159",
         "21630",
         "FLOOR CUSHION ELEPHANT CARNIVAL",
         "1",
         "2010-12-05 13:17:00",
         "8.95",
         "14527",
         "United Kingdom"
        ],
        [
         "8989",
         "537159",
         "21623",
         "VINTAGE UNION JACK MEMOBOARD",
         "1",
         "2010-12-05 13:17:00",
         "9.95",
         "14527",
         "United Kingdom"
        ],
        [
         "8990",
         "537159",
         "82484",
         "WOOD BLACK BOARD ANT WHITE FINISH",
         "1",
         "2010-12-05 13:17:00",
         "6.45",
         "14527",
         "United Kingdom"
        ],
        [
         "8991",
         "537159",
         "22765",
         "NEWSPAPER STAND",
         "1",
         "2010-12-05 13:17:00",
         "14.95",
         "14527",
         "United Kingdom"
        ],
        [
         "8992",
         "537159",
         "22193",
         "RED DINER WALL CLOCK",
         "2",
         "2010-12-05 13:17:00",
         "8.5",
         "14527",
         "United Kingdom"
        ],
        [
         "8993",
         "537159",
         "22072",
         "RED RETROSPOT TEA CUP AND SAUCER ",
         "6",
         "2010-12-05 13:17:00",
         "3.75",
         "14527",
         "United Kingdom"
        ],
        [
         "8994",
         "537159",
         "84997A",
         "GREEN 3 PIECE POLKADOT CUTLERY SET",
         "1",
         "2010-12-05 13:17:00",
         "3.75",
         "14527",
         "United Kingdom"
        ],
        [
         "8995",
         "537159",
         "84997B",
         "RED 3 PIECE RETROSPOT CUTLERY SET",
         "2",
         "2010-12-05 13:17:00",
         "3.75",
         "14527",
         "United Kingdom"
        ],
        [
         "8996",
         "537159",
         "21258",
         "VICTORIAN SEWING BOX LARGE",
         "3",
         "2010-12-05 13:17:00",
         "12.75",
         "14527",
         "United Kingdom"
        ],
        [
         "9044",
         "C537164",
         "D",
         "Discount",
         "-1",
         "2010-12-05 13:21:00",
         "29.29",
         "14527",
         "United Kingdom"
        ],
        [
         "20189",
         "538012",
         "22357",
         "KINGS CHOICE BISCUIT TIN",
         "2",
         "2010-12-09 12:32:00",
         "4.25",
         "14527",
         "United Kingdom"
        ],
        [
         "20190",
         "538012",
         "85048",
         "15CM CHRISTMAS GLASS BALL 20 LIGHTS",
         "3",
         "2010-12-09 12:32:00",
         "7.95",
         "14527",
         "United Kingdom"
        ],
        [
         "20191",
         "538012",
         "22625",
         "RED KITCHEN SCALES",
         "1",
         "2010-12-09 12:32:00",
         "8.5",
         "14527",
         "United Kingdom"
        ],
        [
         "20192",
         "538012",
         "21363",
         "HOME SMALL WOOD LETTERS",
         "1",
         "2010-12-09 12:32:00",
         "4.95",
         "14527",
         "United Kingdom"
        ],
        [
         "20193",
         "538012",
         "21361",
         "LOVE LARGE WOOD LETTERS ",
         "1",
         "2010-12-09 12:32:00",
         "12.75",
         "14527",
         "United Kingdom"
        ],
        [
         "20194",
         "538012",
         "22193",
         "RED DINER WALL CLOCK",
         "1",
         "2010-12-09 12:32:00",
         "8.5",
         "14527",
         "United Kingdom"
        ],
        [
         "20195",
         "538012",
         "21257",
         "VICTORIAN SEWING BOX MEDIUM",
         "2",
         "2010-12-09 12:32:00",
         "7.95",
         "14527",
         "United Kingdom"
        ],
        [
         "20196",
         "538012",
         "21242",
         "RED RETROSPOT PLATE ",
         "2",
         "2010-12-09 12:32:00",
         "1.69",
         "14527",
         "United Kingdom"
        ],
        [
         "20197",
         "538012",
         "20676",
         "RED RETROSPOT BOWL",
         "2",
         "2010-12-09 12:32:00",
         "1.25",
         "14527",
         "United Kingdom"
        ],
        [
         "20198",
         "538012",
         "21238",
         "RED RETROSPOT CUP",
         "2",
         "2010-12-09 12:32:00",
         "0.85",
         "14527",
         "United Kingdom"
        ],
        [
         "20199",
         "538012",
         "22469",
         "HEART OF WICKER SMALL",
         "2",
         "2010-12-09 12:32:00",
         "1.65",
         "14527",
         "United Kingdom"
        ],
        [
         "20200",
         "538012",
         "22694",
         "WICKER STAR ",
         "2",
         "2010-12-09 12:32:00",
         "2.1",
         "14527",
         "United Kingdom"
        ],
        [
         "20201",
         "538012",
         "82484",
         "WOOD BLACK BOARD ANT WHITE FINISH",
         "2",
         "2010-12-09 12:32:00",
         "6.45",
         "14527",
         "United Kingdom"
        ],
        [
         "20202",
         "538012",
         "22470",
         "HEART OF WICKER LARGE",
         "1",
         "2010-12-09 12:32:00",
         "2.95",
         "14527",
         "United Kingdom"
        ],
        [
         "20203",
         "538012",
         "22794",
         "SWEETHEART WIRE MAGAZINE RACK",
         "1",
         "2010-12-09 12:32:00",
         "7.95",
         "14527",
         "United Kingdom"
        ],
        [
         "20204",
         "538012",
         "22795",
         "SWEETHEART RECIPE BOOK STAND",
         "1",
         "2010-12-09 12:32:00",
         "6.75",
         "14527",
         "United Kingdom"
        ],
        [
         "20205",
         "538012",
         "84029E",
         "RED WOOLLY HOTTIE WHITE HEART.",
         "2",
         "2010-12-09 12:32:00",
         "3.75",
         "14527",
         "United Kingdom"
        ],
        [
         "20206",
         "538012",
         "22835",
         "HOT WATER BOTTLE I AM SO POORLY",
         "2",
         "2010-12-09 12:32:00",
         "4.65",
         "14527",
         "United Kingdom"
        ],
        [
         "20207",
         "538012",
         "21485",
         "RETROSPOT HEART HOT WATER BOTTLE",
         "2",
         "2010-12-09 12:32:00",
         "4.95",
         "14527",
         "United Kingdom"
        ],
        [
         "20208",
         "538012",
         "22112",
         "CHOCOLATE HOT WATER BOTTLE",
         "2",
         "2010-12-09 12:32:00",
         "4.95",
         "14527",
         "United Kingdom"
        ]
       ],
       "shape": {
        "columns": 8,
        "rows": 1011
       }
      },
      "text/html": [
       "<div>\n",
       "<style scoped>\n",
       "    .dataframe tbody tr th:only-of-type {\n",
       "        vertical-align: middle;\n",
       "    }\n",
       "\n",
       "    .dataframe tbody tr th {\n",
       "        vertical-align: top;\n",
       "    }\n",
       "\n",
       "    .dataframe thead th {\n",
       "        text-align: right;\n",
       "    }\n",
       "</style>\n",
       "<table border=\"1\" class=\"dataframe\">\n",
       "  <thead>\n",
       "    <tr style=\"text-align: right;\">\n",
       "      <th></th>\n",
       "      <th>InvoiceNo</th>\n",
       "      <th>StockCode</th>\n",
       "      <th>Description</th>\n",
       "      <th>Quantity</th>\n",
       "      <th>InvoiceDate</th>\n",
       "      <th>UnitPrice</th>\n",
       "      <th>CustomerID</th>\n",
       "      <th>Country</th>\n",
       "    </tr>\n",
       "  </thead>\n",
       "  <tbody>\n",
       "    <tr>\n",
       "      <th>141</th>\n",
       "      <td>C536379</td>\n",
       "      <td>D</td>\n",
       "      <td>Discount</td>\n",
       "      <td>-1</td>\n",
       "      <td>2010-12-01 09:41:00</td>\n",
       "      <td>27.50</td>\n",
       "      <td>14527</td>\n",
       "      <td>United Kingdom</td>\n",
       "    </tr>\n",
       "    <tr>\n",
       "      <th>8969</th>\n",
       "      <td>537159</td>\n",
       "      <td>22112</td>\n",
       "      <td>CHOCOLATE HOT WATER BOTTLE</td>\n",
       "      <td>6</td>\n",
       "      <td>2010-12-05 13:17:00</td>\n",
       "      <td>4.95</td>\n",
       "      <td>14527</td>\n",
       "      <td>United Kingdom</td>\n",
       "    </tr>\n",
       "    <tr>\n",
       "      <th>8970</th>\n",
       "      <td>537159</td>\n",
       "      <td>22111</td>\n",
       "      <td>SCOTTIE DOG HOT WATER BOTTLE</td>\n",
       "      <td>1</td>\n",
       "      <td>2010-12-05 13:17:00</td>\n",
       "      <td>4.95</td>\n",
       "      <td>14527</td>\n",
       "      <td>United Kingdom</td>\n",
       "    </tr>\n",
       "    <tr>\n",
       "      <th>8971</th>\n",
       "      <td>537159</td>\n",
       "      <td>21479</td>\n",
       "      <td>WHITE SKULL HOT WATER BOTTLE</td>\n",
       "      <td>1</td>\n",
       "      <td>2010-12-05 13:17:00</td>\n",
       "      <td>3.75</td>\n",
       "      <td>14527</td>\n",
       "      <td>United Kingdom</td>\n",
       "    </tr>\n",
       "    <tr>\n",
       "      <th>8972</th>\n",
       "      <td>537159</td>\n",
       "      <td>22114</td>\n",
       "      <td>HOT WATER BOTTLE TEA AND SYMPATHY</td>\n",
       "      <td>6</td>\n",
       "      <td>2010-12-05 13:17:00</td>\n",
       "      <td>3.95</td>\n",
       "      <td>14527</td>\n",
       "      <td>United Kingdom</td>\n",
       "    </tr>\n",
       "    <tr>\n",
       "      <th>...</th>\n",
       "      <td>...</td>\n",
       "      <td>...</td>\n",
       "      <td>...</td>\n",
       "      <td>...</td>\n",
       "      <td>...</td>\n",
       "      <td>...</td>\n",
       "      <td>...</td>\n",
       "      <td>...</td>\n",
       "    </tr>\n",
       "    <tr>\n",
       "      <th>533818</th>\n",
       "      <td>581114</td>\n",
       "      <td>22111</td>\n",
       "      <td>SCOTTIE DOG HOT WATER BOTTLE</td>\n",
       "      <td>1</td>\n",
       "      <td>2011-12-07 12:19:00</td>\n",
       "      <td>4.95</td>\n",
       "      <td>14527</td>\n",
       "      <td>United Kingdom</td>\n",
       "    </tr>\n",
       "    <tr>\n",
       "      <th>533819</th>\n",
       "      <td>581114</td>\n",
       "      <td>22835</td>\n",
       "      <td>HOT WATER BOTTLE I AM SO POORLY</td>\n",
       "      <td>2</td>\n",
       "      <td>2011-12-07 12:19:00</td>\n",
       "      <td>4.95</td>\n",
       "      <td>14527</td>\n",
       "      <td>United Kingdom</td>\n",
       "    </tr>\n",
       "    <tr>\n",
       "      <th>533820</th>\n",
       "      <td>581114</td>\n",
       "      <td>22114</td>\n",
       "      <td>HOT WATER BOTTLE TEA AND SYMPATHY</td>\n",
       "      <td>6</td>\n",
       "      <td>2011-12-07 12:19:00</td>\n",
       "      <td>4.25</td>\n",
       "      <td>14527</td>\n",
       "      <td>United Kingdom</td>\n",
       "    </tr>\n",
       "    <tr>\n",
       "      <th>533821</th>\n",
       "      <td>581114</td>\n",
       "      <td>21479</td>\n",
       "      <td>WHITE SKULL HOT WATER BOTTLE</td>\n",
       "      <td>2</td>\n",
       "      <td>2011-12-07 12:19:00</td>\n",
       "      <td>4.25</td>\n",
       "      <td>14527</td>\n",
       "      <td>United Kingdom</td>\n",
       "    </tr>\n",
       "    <tr>\n",
       "      <th>533822</th>\n",
       "      <td>581114</td>\n",
       "      <td>22112</td>\n",
       "      <td>CHOCOLATE HOT WATER BOTTLE</td>\n",
       "      <td>3</td>\n",
       "      <td>2011-12-07 12:19:00</td>\n",
       "      <td>4.95</td>\n",
       "      <td>14527</td>\n",
       "      <td>United Kingdom</td>\n",
       "    </tr>\n",
       "  </tbody>\n",
       "</table>\n",
       "<p>1011 rows × 8 columns</p>\n",
       "</div>"
      ],
      "text/plain": [
       "       InvoiceNo StockCode                        Description  Quantity  \\\n",
       "141      C536379         D                           Discount        -1   \n",
       "8969      537159     22112         CHOCOLATE HOT WATER BOTTLE         6   \n",
       "8970      537159     22111       SCOTTIE DOG HOT WATER BOTTLE         1   \n",
       "8971      537159     21479      WHITE SKULL HOT WATER BOTTLE          1   \n",
       "8972      537159     22114  HOT WATER BOTTLE TEA AND SYMPATHY         6   \n",
       "...          ...       ...                                ...       ...   \n",
       "533818    581114     22111       SCOTTIE DOG HOT WATER BOTTLE         1   \n",
       "533819    581114     22835    HOT WATER BOTTLE I AM SO POORLY         2   \n",
       "533820    581114     22114  HOT WATER BOTTLE TEA AND SYMPATHY         6   \n",
       "533821    581114     21479      WHITE SKULL HOT WATER BOTTLE          2   \n",
       "533822    581114     22112         CHOCOLATE HOT WATER BOTTLE         3   \n",
       "\n",
       "               InvoiceDate  UnitPrice CustomerID         Country  \n",
       "141    2010-12-01 09:41:00      27.50      14527  United Kingdom  \n",
       "8969   2010-12-05 13:17:00       4.95      14527  United Kingdom  \n",
       "8970   2010-12-05 13:17:00       4.95      14527  United Kingdom  \n",
       "8971   2010-12-05 13:17:00       3.75      14527  United Kingdom  \n",
       "8972   2010-12-05 13:17:00       3.95      14527  United Kingdom  \n",
       "...                    ...        ...        ...             ...  \n",
       "533818 2011-12-07 12:19:00       4.95      14527  United Kingdom  \n",
       "533819 2011-12-07 12:19:00       4.95      14527  United Kingdom  \n",
       "533820 2011-12-07 12:19:00       4.25      14527  United Kingdom  \n",
       "533821 2011-12-07 12:19:00       4.25      14527  United Kingdom  \n",
       "533822 2011-12-07 12:19:00       4.95      14527  United Kingdom  \n",
       "\n",
       "[1011 rows x 8 columns]"
      ]
     },
     "execution_count": 8,
     "metadata": {},
     "output_type": "execute_result"
    }
   ],
   "source": [
    "churn[churn['CustomerID'] == '14527']"
   ]
  },
  {
   "cell_type": "markdown",
   "id": "4ce54896",
   "metadata": {},
   "source": [
    "### Exploración UnitPrice <= 0"
   ]
  },
  {
   "cell_type": "code",
   "execution_count": 9,
   "id": "e4a6648f",
   "metadata": {},
   "outputs": [
    {
     "data": {
      "application/vnd.microsoft.datawrangler.viewer.v0+json": {
       "columns": [
        {
         "name": "index",
         "rawType": "int64",
         "type": "integer"
        },
        {
         "name": "InvoiceNo",
         "rawType": "object",
         "type": "string"
        },
        {
         "name": "StockCode",
         "rawType": "object",
         "type": "string"
        },
        {
         "name": "Description",
         "rawType": "object",
         "type": "string"
        },
        {
         "name": "Quantity",
         "rawType": "int64",
         "type": "integer"
        },
        {
         "name": "InvoiceDate",
         "rawType": "datetime64[ns]",
         "type": "datetime"
        },
        {
         "name": "UnitPrice",
         "rawType": "float64",
         "type": "float"
        },
        {
         "name": "CustomerID",
         "rawType": "object",
         "type": "string"
        },
        {
         "name": "Country",
         "rawType": "object",
         "type": "string"
        }
       ],
       "ref": "3890cbd9-ee23-4f54-8aa6-c7bb342c8c6b",
       "rows": [
        [
         "538923",
         "581422",
         "23169",
         "smashed",
         "-235",
         "2011-12-08 15:24:00",
         "0.0",
         "NaN",
         "United Kingdom"
        ],
        [
         "624",
         "536414",
         "22139",
         "NaN",
         "56",
         "2010-12-01 11:52:00",
         "0.0",
         "NaN",
         "United Kingdom"
        ],
        [
         "1893",
         "537009",
         "84534B",
         "NaN",
         "-80",
         "2010-12-03 15:38:00",
         "0.0",
         "NaN",
         "United Kingdom"
        ],
        [
         "1976",
         "536545",
         "21134",
         "NaN",
         "1",
         "2010-12-01 14:32:00",
         "0.0",
         "NaN",
         "United Kingdom"
        ],
        [
         "1977",
         "536546",
         "22145",
         "NaN",
         "1",
         "2010-12-01 14:33:00",
         "0.0",
         "NaN",
         "United Kingdom"
        ],
        [
         "535332",
         "581198",
         "22025",
         "check",
         "-30",
         "2011-12-07 18:26:00",
         "0.0",
         "NaN",
         "United Kingdom"
        ],
        [
         "535145",
         "581190",
         "84801A",
         "check",
         "-102",
         "2011-12-07 16:55:00",
         "0.0",
         "NaN",
         "United Kingdom"
        ],
        [
         "533723",
         "581103",
         "22689",
         "NaN",
         "4",
         "2011-12-07 11:58:00",
         "0.0",
         "NaN",
         "United Kingdom"
        ],
        [
         "533722",
         "581102",
         "21803",
         "NaN",
         "20",
         "2011-12-07 11:57:00",
         "0.0",
         "NaN",
         "United Kingdom"
        ],
        [
         "532736",
         "580991",
         "22481",
         "wet boxes",
         "-288",
         "2011-12-06 16:55:00",
         "0.0",
         "NaN",
         "United Kingdom"
        ],
        [
         "532735",
         "580990",
         "21109",
         "wet",
         "-48",
         "2011-12-06 16:54:00",
         "0.0",
         "NaN",
         "United Kingdom"
        ],
        [
         "529682",
         "580743",
         "47591B",
         "NaN",
         "1",
         "2011-12-06 09:30:00",
         "0.0",
         "NaN",
         "United Kingdom"
        ],
        [
         "524639",
         "580609",
         "22927",
         "Amazon",
         "1",
         "2011-12-05 11:41:00",
         "0.0",
         "NaN",
         "United Kingdom"
        ],
        [
         "524492",
         "580588",
         "21808",
         "NaN",
         "5",
         "2011-12-05 10:35:00",
         "0.0",
         "NaN",
         "United Kingdom"
        ],
        [
         "524491",
         "580586",
         "21804",
         "dotcom",
         "4",
         "2011-12-05 10:34:00",
         "0.0",
         "NaN",
         "United Kingdom"
        ],
        [
         "524490",
         "580580",
         "21804",
         "NaN",
         "10",
         "2011-12-05 10:33:00",
         "0.0",
         "NaN",
         "United Kingdom"
        ],
        [
         "524489",
         "580561",
         "22043",
         "dotcom",
         "-9",
         "2011-12-05 10:25:00",
         "0.0",
         "NaN",
         "United Kingdom"
        ],
        [
         "524392",
         "580549",
         "84876B",
         "found",
         "66",
         "2011-12-05 09:54:00",
         "0.0",
         "NaN",
         "United Kingdom"
        ],
        [
         "524387",
         "580547",
         "21201",
         "???",
         "-390",
         "2011-12-05 09:29:00",
         "0.0",
         "NaN",
         "United Kingdom"
        ],
        [
         "524386",
         "580546",
         "23406",
         "CHECK",
         "-21",
         "2011-12-05 09:27:00",
         "0.0",
         "NaN",
         "United Kingdom"
        ],
        [
         "522263",
         "580391",
         "21868",
         "Amazon",
         "1",
         "2011-12-04 10:42:00",
         "0.0",
         "NaN",
         "United Kingdom"
        ],
        [
         "7209",
         "537006",
         "21648",
         "NaN",
         "-130",
         "2010-12-03 15:36:00",
         "0.0",
         "NaN",
         "United Kingdom"
        ],
        [
         "7208",
         "537005",
         "21692",
         "NaN",
         "-70",
         "2010-12-03 15:35:00",
         "0.0",
         "NaN",
         "United Kingdom"
        ],
        [
         "7207",
         "537004",
         "21814",
         "NaN",
         "-30",
         "2010-12-03 15:34:00",
         "0.0",
         "NaN",
         "United Kingdom"
        ],
        [
         "7206",
         "537003",
         "85126",
         "NaN",
         "-2",
         "2010-12-03 15:33:00",
         "0.0",
         "NaN",
         "United Kingdom"
        ],
        [
         "7205",
         "537002",
         "21651",
         "NaN",
         "70",
         "2010-12-03 15:33:00",
         "0.0",
         "NaN",
         "United Kingdom"
        ],
        [
         "7204",
         "537001",
         "21653",
         "NaN",
         "-6",
         "2010-12-03 15:33:00",
         "0.0",
         "NaN",
         "United Kingdom"
        ],
        [
         "7203",
         "537000",
         "21414",
         "NaN",
         "-22",
         "2010-12-03 15:32:00",
         "0.0",
         "NaN",
         "United Kingdom"
        ],
        [
         "7202",
         "536999",
         "21421",
         "NaN",
         "110",
         "2010-12-03 15:32:00",
         "0.0",
         "NaN",
         "United Kingdom"
        ],
        [
         "7201",
         "536998",
         "85067",
         "NaN",
         "-6",
         "2010-12-03 15:30:00",
         "0.0",
         "NaN",
         "United Kingdom"
        ],
        [
         "7200",
         "536997",
         "22028",
         "NaN",
         "-20",
         "2010-12-03 15:30:00",
         "0.0",
         "NaN",
         "United Kingdom"
        ],
        [
         "7199",
         "536996",
         "22712",
         "NaN",
         "-20",
         "2010-12-03 15:30:00",
         "0.0",
         "NaN",
         "United Kingdom"
        ],
        [
         "7198",
         "536995",
         "35951",
         "NaN",
         "57",
         "2010-12-03 15:29:00",
         "0.0",
         "NaN",
         "United Kingdom"
        ],
        [
         "7067",
         "537019",
         "37474",
         "NaN",
         "-15",
         "2010-12-03 15:43:00",
         "0.0",
         "NaN",
         "United Kingdom"
        ],
        [
         "6403",
         "536942",
         "22139",
         "amazon",
         "15",
         "2010-12-03 12:08:00",
         "0.0",
         "NaN",
         "United Kingdom"
        ],
        [
         "6402",
         "536941",
         "22734",
         "amazon",
         "20",
         "2010-12-03 12:08:00",
         "0.0",
         "NaN",
         "United Kingdom"
        ],
        [
         "6360",
         "537018",
         "84562A",
         "NaN",
         "-3",
         "2010-12-03 15:42:00",
         "0.0",
         "NaN",
         "United Kingdom"
        ],
        [
         "13228",
         "537427",
         "84968B",
         "NaN",
         "-21",
         "2010-12-06 15:37:00",
         "0.0",
         "NaN",
         "United Kingdom"
        ],
        [
         "13227",
         "537426",
         "84968E",
         "check",
         "-35",
         "2010-12-06 15:36:00",
         "0.0",
         "NaN",
         "United Kingdom"
        ],
        [
         "13226",
         "537425",
         "84968F",
         "check",
         "-20",
         "2010-12-06 15:35:00",
         "0.0",
         "NaN",
         "United Kingdom"
        ],
        [
         "12943",
         "537401",
         "84898F",
         "NaN",
         "-24",
         "2010-12-06 14:37:00",
         "0.0",
         "NaN",
         "United Kingdom"
        ],
        [
         "12079",
         "537364",
         "21027",
         "NaN",
         "-70",
         "2010-12-06 12:36:00",
         "0.0",
         "NaN",
         "United Kingdom"
        ],
        [
         "12078",
         "537363",
         "84569B",
         "NaN",
         "-20",
         "2010-12-06 12:35:00",
         "0.0",
         "NaN",
         "United Kingdom"
        ],
        [
         "12017",
         "537361",
         "21777",
         "NaN",
         "5",
         "2010-12-06 12:34:00",
         "0.0",
         "NaN",
         "United Kingdom"
        ],
        [
         "9308",
         "537197",
         "22841",
         "ROUND CAKE TIN VINTAGE GREEN",
         "1",
         "2010-12-05 14:02:00",
         "0.0",
         "12647",
         "Germany"
        ],
        [
         "7314",
         "537032",
         "21275",
         "?",
         "-30",
         "2010-12-03 16:50:00",
         "0.0",
         "NaN",
         "United Kingdom"
        ],
        [
         "7294",
         "537029",
         "37476",
         "NaN",
         "-6",
         "2010-12-03 16:37:00",
         "0.0",
         "NaN",
         "United Kingdom"
        ],
        [
         "7293",
         "537028",
         "21696",
         "NaN",
         "-320",
         "2010-12-03 16:36:00",
         "0.0",
         "NaN",
         "United Kingdom"
        ],
        [
         "7292",
         "537027",
         "18098C",
         "NaN",
         "-140",
         "2010-12-03 16:36:00",
         "0.0",
         "NaN",
         "United Kingdom"
        ],
        [
         "7213",
         "537021",
         "21011",
         "NaN",
         "-20",
         "2010-12-03 15:43:00",
         "0.0",
         "NaN",
         "United Kingdom"
        ]
       ],
       "shape": {
        "columns": 8,
        "rows": 2517
       }
      },
      "text/html": [
       "<div>\n",
       "<style scoped>\n",
       "    .dataframe tbody tr th:only-of-type {\n",
       "        vertical-align: middle;\n",
       "    }\n",
       "\n",
       "    .dataframe tbody tr th {\n",
       "        vertical-align: top;\n",
       "    }\n",
       "\n",
       "    .dataframe thead th {\n",
       "        text-align: right;\n",
       "    }\n",
       "</style>\n",
       "<table border=\"1\" class=\"dataframe\">\n",
       "  <thead>\n",
       "    <tr style=\"text-align: right;\">\n",
       "      <th></th>\n",
       "      <th>InvoiceNo</th>\n",
       "      <th>StockCode</th>\n",
       "      <th>Description</th>\n",
       "      <th>Quantity</th>\n",
       "      <th>InvoiceDate</th>\n",
       "      <th>UnitPrice</th>\n",
       "      <th>CustomerID</th>\n",
       "      <th>Country</th>\n",
       "    </tr>\n",
       "  </thead>\n",
       "  <tbody>\n",
       "    <tr>\n",
       "      <th>538923</th>\n",
       "      <td>581422</td>\n",
       "      <td>23169</td>\n",
       "      <td>smashed</td>\n",
       "      <td>-235</td>\n",
       "      <td>2011-12-08 15:24:00</td>\n",
       "      <td>0.00</td>\n",
       "      <td>NaN</td>\n",
       "      <td>United Kingdom</td>\n",
       "    </tr>\n",
       "    <tr>\n",
       "      <th>624</th>\n",
       "      <td>536414</td>\n",
       "      <td>22139</td>\n",
       "      <td>NaN</td>\n",
       "      <td>56</td>\n",
       "      <td>2010-12-01 11:52:00</td>\n",
       "      <td>0.00</td>\n",
       "      <td>NaN</td>\n",
       "      <td>United Kingdom</td>\n",
       "    </tr>\n",
       "    <tr>\n",
       "      <th>1893</th>\n",
       "      <td>537009</td>\n",
       "      <td>84534B</td>\n",
       "      <td>NaN</td>\n",
       "      <td>-80</td>\n",
       "      <td>2010-12-03 15:38:00</td>\n",
       "      <td>0.00</td>\n",
       "      <td>NaN</td>\n",
       "      <td>United Kingdom</td>\n",
       "    </tr>\n",
       "    <tr>\n",
       "      <th>1976</th>\n",
       "      <td>536545</td>\n",
       "      <td>21134</td>\n",
       "      <td>NaN</td>\n",
       "      <td>1</td>\n",
       "      <td>2010-12-01 14:32:00</td>\n",
       "      <td>0.00</td>\n",
       "      <td>NaN</td>\n",
       "      <td>United Kingdom</td>\n",
       "    </tr>\n",
       "    <tr>\n",
       "      <th>1977</th>\n",
       "      <td>536546</td>\n",
       "      <td>22145</td>\n",
       "      <td>NaN</td>\n",
       "      <td>1</td>\n",
       "      <td>2010-12-01 14:33:00</td>\n",
       "      <td>0.00</td>\n",
       "      <td>NaN</td>\n",
       "      <td>United Kingdom</td>\n",
       "    </tr>\n",
       "    <tr>\n",
       "      <th>...</th>\n",
       "      <td>...</td>\n",
       "      <td>...</td>\n",
       "      <td>...</td>\n",
       "      <td>...</td>\n",
       "      <td>...</td>\n",
       "      <td>...</td>\n",
       "      <td>...</td>\n",
       "      <td>...</td>\n",
       "    </tr>\n",
       "    <tr>\n",
       "      <th>2030</th>\n",
       "      <td>536552</td>\n",
       "      <td>20950</td>\n",
       "      <td>NaN</td>\n",
       "      <td>1</td>\n",
       "      <td>2010-12-01 14:34:00</td>\n",
       "      <td>0.00</td>\n",
       "      <td>NaN</td>\n",
       "      <td>United Kingdom</td>\n",
       "    </tr>\n",
       "    <tr>\n",
       "      <th>1994</th>\n",
       "      <td>536550</td>\n",
       "      <td>85044</td>\n",
       "      <td>NaN</td>\n",
       "      <td>1</td>\n",
       "      <td>2010-12-01 14:34:00</td>\n",
       "      <td>0.00</td>\n",
       "      <td>NaN</td>\n",
       "      <td>United Kingdom</td>\n",
       "    </tr>\n",
       "    <tr>\n",
       "      <th>1993</th>\n",
       "      <td>536549</td>\n",
       "      <td>85226A</td>\n",
       "      <td>NaN</td>\n",
       "      <td>1</td>\n",
       "      <td>2010-12-01 14:34:00</td>\n",
       "      <td>0.00</td>\n",
       "      <td>NaN</td>\n",
       "      <td>United Kingdom</td>\n",
       "    </tr>\n",
       "    <tr>\n",
       "      <th>299999</th>\n",
       "      <td>A563186</td>\n",
       "      <td>B</td>\n",
       "      <td>Adjust bad debt</td>\n",
       "      <td>1</td>\n",
       "      <td>2011-08-12 14:51:00</td>\n",
       "      <td>-11062.06</td>\n",
       "      <td>NaN</td>\n",
       "      <td>United Kingdom</td>\n",
       "    </tr>\n",
       "    <tr>\n",
       "      <th>300000</th>\n",
       "      <td>A563187</td>\n",
       "      <td>B</td>\n",
       "      <td>Adjust bad debt</td>\n",
       "      <td>1</td>\n",
       "      <td>2011-08-12 14:52:00</td>\n",
       "      <td>-11062.06</td>\n",
       "      <td>NaN</td>\n",
       "      <td>United Kingdom</td>\n",
       "    </tr>\n",
       "  </tbody>\n",
       "</table>\n",
       "<p>2517 rows × 8 columns</p>\n",
       "</div>"
      ],
      "text/plain": [
       "       InvoiceNo StockCode      Description  Quantity         InvoiceDate  \\\n",
       "538923    581422     23169          smashed      -235 2011-12-08 15:24:00   \n",
       "624       536414     22139              NaN        56 2010-12-01 11:52:00   \n",
       "1893      537009    84534B              NaN       -80 2010-12-03 15:38:00   \n",
       "1976      536545     21134              NaN         1 2010-12-01 14:32:00   \n",
       "1977      536546     22145              NaN         1 2010-12-01 14:33:00   \n",
       "...          ...       ...              ...       ...                 ...   \n",
       "2030      536552     20950              NaN         1 2010-12-01 14:34:00   \n",
       "1994      536550     85044              NaN         1 2010-12-01 14:34:00   \n",
       "1993      536549    85226A              NaN         1 2010-12-01 14:34:00   \n",
       "299999   A563186         B  Adjust bad debt         1 2011-08-12 14:51:00   \n",
       "300000   A563187         B  Adjust bad debt         1 2011-08-12 14:52:00   \n",
       "\n",
       "        UnitPrice CustomerID         Country  \n",
       "538923       0.00        NaN  United Kingdom  \n",
       "624          0.00        NaN  United Kingdom  \n",
       "1893         0.00        NaN  United Kingdom  \n",
       "1976         0.00        NaN  United Kingdom  \n",
       "1977         0.00        NaN  United Kingdom  \n",
       "...           ...        ...             ...  \n",
       "2030         0.00        NaN  United Kingdom  \n",
       "1994         0.00        NaN  United Kingdom  \n",
       "1993         0.00        NaN  United Kingdom  \n",
       "299999  -11062.06        NaN  United Kingdom  \n",
       "300000  -11062.06        NaN  United Kingdom  \n",
       "\n",
       "[2517 rows x 8 columns]"
      ]
     },
     "execution_count": 9,
     "metadata": {},
     "output_type": "execute_result"
    }
   ],
   "source": [
    "churn[churn['UnitPrice'] <= 0].sort_values(by='UnitPrice', ascending=False)"
   ]
  },
  {
   "cell_type": "code",
   "execution_count": 10,
   "id": "bff46c8d",
   "metadata": {},
   "outputs": [
    {
     "data": {
      "application/vnd.microsoft.datawrangler.viewer.v0+json": {
       "columns": [
        {
         "name": "index",
         "rawType": "object",
         "type": "unknown"
        },
        {
         "name": "count",
         "rawType": "int64",
         "type": "integer"
        }
       ],
       "ref": "2ea02ff4-3de2-4fae-b7ca-ea70d713f7d7",
       "rows": [
        [
         "(np.float64(0.0),)",
         "2515"
        ],
        [
         "(np.float64(-11062.06),)",
         "2"
        ]
       ],
       "shape": {
        "columns": 1,
        "rows": 2
       }
      },
      "text/plain": [
       "UnitPrice\n",
       " 0.00        2515\n",
       "-11062.06       2\n",
       "Name: count, dtype: int64"
      ]
     },
     "execution_count": 10,
     "metadata": {},
     "output_type": "execute_result"
    }
   ],
   "source": [
    "churn[churn['UnitPrice'] <= 0].value_counts(subset=['UnitPrice'])"
   ]
  },
  {
   "cell_type": "markdown",
   "id": "31bf1a6c",
   "metadata": {},
   "source": [
    "### Exploración Quantity Max"
   ]
  },
  {
   "cell_type": "code",
   "execution_count": 11,
   "id": "5229b4fd",
   "metadata": {},
   "outputs": [
    {
     "data": {
      "application/vnd.microsoft.datawrangler.viewer.v0+json": {
       "columns": [
        {
         "name": "index",
         "rawType": "int64",
         "type": "integer"
        },
        {
         "name": "InvoiceNo",
         "rawType": "object",
         "type": "string"
        },
        {
         "name": "StockCode",
         "rawType": "object",
         "type": "string"
        },
        {
         "name": "Description",
         "rawType": "object",
         "type": "string"
        },
        {
         "name": "Quantity",
         "rawType": "int64",
         "type": "integer"
        },
        {
         "name": "InvoiceDate",
         "rawType": "datetime64[ns]",
         "type": "datetime"
        },
        {
         "name": "UnitPrice",
         "rawType": "float64",
         "type": "float"
        },
        {
         "name": "CustomerID",
         "rawType": "object",
         "type": "string"
        },
        {
         "name": "Country",
         "rawType": "object",
         "type": "string"
        }
       ],
       "ref": "ec99309d-e0e2-4af9-bf10-6e41dfd8e6df",
       "rows": [
        [
         "540424",
         "581483",
         "23843",
         "PAPER CRAFT , LITTLE BIRDIE",
         "80995",
         "2011-12-09 09:15:00",
         "2.08",
         "16446",
         "United Kingdom"
        ]
       ],
       "shape": {
        "columns": 8,
        "rows": 1
       }
      },
      "text/html": [
       "<div>\n",
       "<style scoped>\n",
       "    .dataframe tbody tr th:only-of-type {\n",
       "        vertical-align: middle;\n",
       "    }\n",
       "\n",
       "    .dataframe tbody tr th {\n",
       "        vertical-align: top;\n",
       "    }\n",
       "\n",
       "    .dataframe thead th {\n",
       "        text-align: right;\n",
       "    }\n",
       "</style>\n",
       "<table border=\"1\" class=\"dataframe\">\n",
       "  <thead>\n",
       "    <tr style=\"text-align: right;\">\n",
       "      <th></th>\n",
       "      <th>InvoiceNo</th>\n",
       "      <th>StockCode</th>\n",
       "      <th>Description</th>\n",
       "      <th>Quantity</th>\n",
       "      <th>InvoiceDate</th>\n",
       "      <th>UnitPrice</th>\n",
       "      <th>CustomerID</th>\n",
       "      <th>Country</th>\n",
       "    </tr>\n",
       "  </thead>\n",
       "  <tbody>\n",
       "    <tr>\n",
       "      <th>540424</th>\n",
       "      <td>581483</td>\n",
       "      <td>23843</td>\n",
       "      <td>PAPER CRAFT , LITTLE BIRDIE</td>\n",
       "      <td>80995</td>\n",
       "      <td>2011-12-09 09:15:00</td>\n",
       "      <td>2.08</td>\n",
       "      <td>16446</td>\n",
       "      <td>United Kingdom</td>\n",
       "    </tr>\n",
       "  </tbody>\n",
       "</table>\n",
       "</div>"
      ],
      "text/plain": [
       "       InvoiceNo StockCode                  Description  Quantity  \\\n",
       "540424    581483     23843  PAPER CRAFT , LITTLE BIRDIE     80995   \n",
       "\n",
       "               InvoiceDate  UnitPrice CustomerID         Country  \n",
       "540424 2011-12-09 09:15:00       2.08      16446  United Kingdom  "
      ]
     },
     "execution_count": 11,
     "metadata": {},
     "output_type": "execute_result"
    }
   ],
   "source": [
    "churn[churn['Quantity'].max() == churn['Quantity']].sort_values(by='Quantity', ascending=False)"
   ]
  },
  {
   "cell_type": "markdown",
   "id": "8d17452d",
   "metadata": {},
   "source": [
    "### Exploración Quantity Min"
   ]
  },
  {
   "cell_type": "code",
   "execution_count": 12,
   "id": "c639f6e2",
   "metadata": {},
   "outputs": [
    {
     "data": {
      "application/vnd.microsoft.datawrangler.viewer.v0+json": {
       "columns": [
        {
         "name": "index",
         "rawType": "int64",
         "type": "integer"
        },
        {
         "name": "InvoiceNo",
         "rawType": "object",
         "type": "string"
        },
        {
         "name": "StockCode",
         "rawType": "object",
         "type": "string"
        },
        {
         "name": "Description",
         "rawType": "object",
         "type": "string"
        },
        {
         "name": "Quantity",
         "rawType": "int64",
         "type": "integer"
        },
        {
         "name": "InvoiceDate",
         "rawType": "datetime64[ns]",
         "type": "datetime"
        },
        {
         "name": "UnitPrice",
         "rawType": "float64",
         "type": "float"
        },
        {
         "name": "CustomerID",
         "rawType": "object",
         "type": "string"
        },
        {
         "name": "Country",
         "rawType": "object",
         "type": "string"
        }
       ],
       "ref": "75e8483a-565e-4127-90e9-8f9cfdc35410",
       "rows": [
        [
         "540425",
         "C581484",
         "23843",
         "PAPER CRAFT , LITTLE BIRDIE",
         "-80995",
         "2011-12-09 09:27:00",
         "2.08",
         "16446",
         "United Kingdom"
        ]
       ],
       "shape": {
        "columns": 8,
        "rows": 1
       }
      },
      "text/html": [
       "<div>\n",
       "<style scoped>\n",
       "    .dataframe tbody tr th:only-of-type {\n",
       "        vertical-align: middle;\n",
       "    }\n",
       "\n",
       "    .dataframe tbody tr th {\n",
       "        vertical-align: top;\n",
       "    }\n",
       "\n",
       "    .dataframe thead th {\n",
       "        text-align: right;\n",
       "    }\n",
       "</style>\n",
       "<table border=\"1\" class=\"dataframe\">\n",
       "  <thead>\n",
       "    <tr style=\"text-align: right;\">\n",
       "      <th></th>\n",
       "      <th>InvoiceNo</th>\n",
       "      <th>StockCode</th>\n",
       "      <th>Description</th>\n",
       "      <th>Quantity</th>\n",
       "      <th>InvoiceDate</th>\n",
       "      <th>UnitPrice</th>\n",
       "      <th>CustomerID</th>\n",
       "      <th>Country</th>\n",
       "    </tr>\n",
       "  </thead>\n",
       "  <tbody>\n",
       "    <tr>\n",
       "      <th>540425</th>\n",
       "      <td>C581484</td>\n",
       "      <td>23843</td>\n",
       "      <td>PAPER CRAFT , LITTLE BIRDIE</td>\n",
       "      <td>-80995</td>\n",
       "      <td>2011-12-09 09:27:00</td>\n",
       "      <td>2.08</td>\n",
       "      <td>16446</td>\n",
       "      <td>United Kingdom</td>\n",
       "    </tr>\n",
       "  </tbody>\n",
       "</table>\n",
       "</div>"
      ],
      "text/plain": [
       "       InvoiceNo StockCode                  Description  Quantity  \\\n",
       "540425   C581484     23843  PAPER CRAFT , LITTLE BIRDIE    -80995   \n",
       "\n",
       "               InvoiceDate  UnitPrice CustomerID         Country  \n",
       "540425 2011-12-09 09:27:00       2.08      16446  United Kingdom  "
      ]
     },
     "execution_count": 12,
     "metadata": {},
     "output_type": "execute_result"
    }
   ],
   "source": [
    "churn[churn['Quantity'].min() == churn['Quantity']].sort_values(by='Quantity', ascending=False)"
   ]
  },
  {
   "cell_type": "markdown",
   "id": "c1074507",
   "metadata": {},
   "source": [
    "### Exploración UnitPrice Max"
   ]
  },
  {
   "cell_type": "code",
   "execution_count": 13,
   "id": "56b09d54",
   "metadata": {},
   "outputs": [
    {
     "data": {
      "application/vnd.microsoft.datawrangler.viewer.v0+json": {
       "columns": [
        {
         "name": "index",
         "rawType": "int64",
         "type": "integer"
        },
        {
         "name": "InvoiceNo",
         "rawType": "object",
         "type": "string"
        },
        {
         "name": "StockCode",
         "rawType": "object",
         "type": "string"
        },
        {
         "name": "Description",
         "rawType": "object",
         "type": "string"
        },
        {
         "name": "Quantity",
         "rawType": "int64",
         "type": "integer"
        },
        {
         "name": "InvoiceDate",
         "rawType": "datetime64[ns]",
         "type": "datetime"
        },
        {
         "name": "UnitPrice",
         "rawType": "float64",
         "type": "float"
        },
        {
         "name": "CustomerID",
         "rawType": "object",
         "type": "string"
        },
        {
         "name": "Country",
         "rawType": "object",
         "type": "string"
        }
       ],
       "ref": "35521ef2-6ba8-403d-88c6-9ef91d83cb04",
       "rows": [
        [
         "222742",
         "C556445",
         "M",
         "Manual",
         "-1",
         "2011-06-10 15:31:00",
         "38970.0",
         "15098",
         "United Kingdom"
        ]
       ],
       "shape": {
        "columns": 8,
        "rows": 1
       }
      },
      "text/html": [
       "<div>\n",
       "<style scoped>\n",
       "    .dataframe tbody tr th:only-of-type {\n",
       "        vertical-align: middle;\n",
       "    }\n",
       "\n",
       "    .dataframe tbody tr th {\n",
       "        vertical-align: top;\n",
       "    }\n",
       "\n",
       "    .dataframe thead th {\n",
       "        text-align: right;\n",
       "    }\n",
       "</style>\n",
       "<table border=\"1\" class=\"dataframe\">\n",
       "  <thead>\n",
       "    <tr style=\"text-align: right;\">\n",
       "      <th></th>\n",
       "      <th>InvoiceNo</th>\n",
       "      <th>StockCode</th>\n",
       "      <th>Description</th>\n",
       "      <th>Quantity</th>\n",
       "      <th>InvoiceDate</th>\n",
       "      <th>UnitPrice</th>\n",
       "      <th>CustomerID</th>\n",
       "      <th>Country</th>\n",
       "    </tr>\n",
       "  </thead>\n",
       "  <tbody>\n",
       "    <tr>\n",
       "      <th>222742</th>\n",
       "      <td>C556445</td>\n",
       "      <td>M</td>\n",
       "      <td>Manual</td>\n",
       "      <td>-1</td>\n",
       "      <td>2011-06-10 15:31:00</td>\n",
       "      <td>38970.0</td>\n",
       "      <td>15098</td>\n",
       "      <td>United Kingdom</td>\n",
       "    </tr>\n",
       "  </tbody>\n",
       "</table>\n",
       "</div>"
      ],
      "text/plain": [
       "       InvoiceNo StockCode Description  Quantity         InvoiceDate  \\\n",
       "222742   C556445         M      Manual        -1 2011-06-10 15:31:00   \n",
       "\n",
       "        UnitPrice CustomerID         Country  \n",
       "222742    38970.0      15098  United Kingdom  "
      ]
     },
     "execution_count": 13,
     "metadata": {},
     "output_type": "execute_result"
    }
   ],
   "source": [
    "churn[churn['UnitPrice'].max() == churn['UnitPrice']].sort_values(by='UnitPrice', ascending=False)"
   ]
  },
  {
   "cell_type": "markdown",
   "id": "6941cb65",
   "metadata": {},
   "source": [
    "## Variables Categóricas"
   ]
  },
  {
   "cell_type": "code",
   "execution_count": 14,
   "id": "a99e3e53",
   "metadata": {},
   "outputs": [
    {
     "name": "stdout",
     "output_type": "stream",
     "text": [
      "Column: InvoiceNo\n",
      "Unique values: 25900\n",
      "Missing values: 0\n",
      "--------------------------------------------------\n",
      "Column: StockCode\n",
      "Unique values: 4070\n",
      "Missing values: 0\n",
      "--------------------------------------------------\n",
      "Column: Description\n",
      "Unique values: 4224\n",
      "Missing values: 0\n",
      "--------------------------------------------------\n",
      "Column: CustomerID\n",
      "Unique values: 4373\n",
      "Missing values: 0\n",
      "--------------------------------------------------\n",
      "Column: Country\n",
      "Unique values: 38\n",
      "Missing values: 0\n",
      "--------------------------------------------------\n"
     ]
    }
   ],
   "source": [
    "for col in churn.columns:\n",
    "    if churn[col].dtype == 'object':\n",
    "        print(f\"Column: {col}\")\n",
    "        print(f\"Unique values: {churn[col].nunique()}\")\n",
    "        print(f\"Missing values: {churn[col].isnull().sum()}\")\n",
    "        print(\"-\" * 50)\n"
   ]
  },
  {
   "cell_type": "markdown",
   "id": "9efe441e",
   "metadata": {},
   "source": [
    "### Exploración Description"
   ]
  },
  {
   "cell_type": "code",
   "execution_count": 15,
   "id": "5880f90f",
   "metadata": {},
   "outputs": [
    {
     "data": {
      "application/vnd.microsoft.datawrangler.viewer.v0+json": {
       "columns": [
        {
         "name": "index",
         "rawType": "int64",
         "type": "integer"
        },
        {
         "name": "InvoiceNo",
         "rawType": "object",
         "type": "string"
        },
        {
         "name": "StockCode",
         "rawType": "object",
         "type": "string"
        },
        {
         "name": "Description",
         "rawType": "object",
         "type": "string"
        },
        {
         "name": "Quantity",
         "rawType": "int64",
         "type": "integer"
        },
        {
         "name": "InvoiceDate",
         "rawType": "datetime64[ns]",
         "type": "datetime"
        },
        {
         "name": "UnitPrice",
         "rawType": "float64",
         "type": "float"
        },
        {
         "name": "CustomerID",
         "rawType": "object",
         "type": "string"
        },
        {
         "name": "Country",
         "rawType": "object",
         "type": "string"
        }
       ],
       "ref": "dbdd8a6b-80db-4edd-b34e-424990484d81",
       "rows": [],
       "shape": {
        "columns": 8,
        "rows": 0
       }
      },
      "text/html": [
       "<div>\n",
       "<style scoped>\n",
       "    .dataframe tbody tr th:only-of-type {\n",
       "        vertical-align: middle;\n",
       "    }\n",
       "\n",
       "    .dataframe tbody tr th {\n",
       "        vertical-align: top;\n",
       "    }\n",
       "\n",
       "    .dataframe thead th {\n",
       "        text-align: right;\n",
       "    }\n",
       "</style>\n",
       "<table border=\"1\" class=\"dataframe\">\n",
       "  <thead>\n",
       "    <tr style=\"text-align: right;\">\n",
       "      <th></th>\n",
       "      <th>InvoiceNo</th>\n",
       "      <th>StockCode</th>\n",
       "      <th>Description</th>\n",
       "      <th>Quantity</th>\n",
       "      <th>InvoiceDate</th>\n",
       "      <th>UnitPrice</th>\n",
       "      <th>CustomerID</th>\n",
       "      <th>Country</th>\n",
       "    </tr>\n",
       "  </thead>\n",
       "  <tbody>\n",
       "  </tbody>\n",
       "</table>\n",
       "</div>"
      ],
      "text/plain": [
       "Empty DataFrame\n",
       "Columns: [InvoiceNo, StockCode, Description, Quantity, InvoiceDate, UnitPrice, CustomerID, Country]\n",
       "Index: []"
      ]
     },
     "execution_count": 15,
     "metadata": {},
     "output_type": "execute_result"
    }
   ],
   "source": [
    "churn[churn['Description'].isnull()]"
   ]
  },
  {
   "cell_type": "code",
   "execution_count": 16,
   "id": "34871c10",
   "metadata": {},
   "outputs": [
    {
     "data": {
      "application/vnd.microsoft.datawrangler.viewer.v0+json": {
       "columns": [
        {
         "name": "index",
         "rawType": "object",
         "type": "string"
        },
        {
         "name": "Quantity",
         "rawType": "float64",
         "type": "float"
        },
        {
         "name": "UnitPrice",
         "rawType": "float64",
         "type": "float"
        }
       ],
       "ref": "1a76dde8-30dd-45b1-bc4a-097261b91c35",
       "rows": [
        [
         "count",
         "0.0",
         "0.0"
        ],
        [
         "mean",
         null,
         null
        ],
        [
         "std",
         null,
         null
        ],
        [
         "min",
         null,
         null
        ],
        [
         "25%",
         null,
         null
        ],
        [
         "50%",
         null,
         null
        ],
        [
         "75%",
         null,
         null
        ],
        [
         "max",
         null,
         null
        ]
       ],
       "shape": {
        "columns": 2,
        "rows": 8
       }
      },
      "text/html": [
       "<div>\n",
       "<style scoped>\n",
       "    .dataframe tbody tr th:only-of-type {\n",
       "        vertical-align: middle;\n",
       "    }\n",
       "\n",
       "    .dataframe tbody tr th {\n",
       "        vertical-align: top;\n",
       "    }\n",
       "\n",
       "    .dataframe thead th {\n",
       "        text-align: right;\n",
       "    }\n",
       "</style>\n",
       "<table border=\"1\" class=\"dataframe\">\n",
       "  <thead>\n",
       "    <tr style=\"text-align: right;\">\n",
       "      <th></th>\n",
       "      <th>Quantity</th>\n",
       "      <th>UnitPrice</th>\n",
       "    </tr>\n",
       "  </thead>\n",
       "  <tbody>\n",
       "    <tr>\n",
       "      <th>count</th>\n",
       "      <td>0.0</td>\n",
       "      <td>0.0</td>\n",
       "    </tr>\n",
       "    <tr>\n",
       "      <th>mean</th>\n",
       "      <td>NaN</td>\n",
       "      <td>NaN</td>\n",
       "    </tr>\n",
       "    <tr>\n",
       "      <th>std</th>\n",
       "      <td>NaN</td>\n",
       "      <td>NaN</td>\n",
       "    </tr>\n",
       "    <tr>\n",
       "      <th>min</th>\n",
       "      <td>NaN</td>\n",
       "      <td>NaN</td>\n",
       "    </tr>\n",
       "    <tr>\n",
       "      <th>25%</th>\n",
       "      <td>NaN</td>\n",
       "      <td>NaN</td>\n",
       "    </tr>\n",
       "    <tr>\n",
       "      <th>50%</th>\n",
       "      <td>NaN</td>\n",
       "      <td>NaN</td>\n",
       "    </tr>\n",
       "    <tr>\n",
       "      <th>75%</th>\n",
       "      <td>NaN</td>\n",
       "      <td>NaN</td>\n",
       "    </tr>\n",
       "    <tr>\n",
       "      <th>max</th>\n",
       "      <td>NaN</td>\n",
       "      <td>NaN</td>\n",
       "    </tr>\n",
       "  </tbody>\n",
       "</table>\n",
       "</div>"
      ],
      "text/plain": [
       "       Quantity  UnitPrice\n",
       "count       0.0        0.0\n",
       "mean        NaN        NaN\n",
       "std         NaN        NaN\n",
       "min         NaN        NaN\n",
       "25%         NaN        NaN\n",
       "50%         NaN        NaN\n",
       "75%         NaN        NaN\n",
       "max         NaN        NaN"
      ]
     },
     "execution_count": 16,
     "metadata": {},
     "output_type": "execute_result"
    }
   ],
   "source": [
    "churn[churn['Description'].isnull()].describe(include='number')"
   ]
  },
  {
   "cell_type": "markdown",
   "id": "3f7e9710",
   "metadata": {},
   "source": [
    "### Exploración CustomerID"
   ]
  },
  {
   "cell_type": "code",
   "execution_count": 17,
   "id": "7a3aeabb",
   "metadata": {},
   "outputs": [
    {
     "data": {
      "application/vnd.microsoft.datawrangler.viewer.v0+json": {
       "columns": [
        {
         "name": "index",
         "rawType": "int64",
         "type": "integer"
        },
        {
         "name": "InvoiceNo",
         "rawType": "object",
         "type": "string"
        },
        {
         "name": "StockCode",
         "rawType": "object",
         "type": "string"
        },
        {
         "name": "Description",
         "rawType": "object",
         "type": "string"
        },
        {
         "name": "Quantity",
         "rawType": "int64",
         "type": "integer"
        },
        {
         "name": "InvoiceDate",
         "rawType": "datetime64[ns]",
         "type": "datetime"
        },
        {
         "name": "UnitPrice",
         "rawType": "float64",
         "type": "float"
        },
        {
         "name": "CustomerID",
         "rawType": "object",
         "type": "string"
        },
        {
         "name": "Country",
         "rawType": "object",
         "type": "string"
        }
       ],
       "ref": "d7ff1e04-1963-4ea2-b932-c67eda4f1fc8",
       "rows": [],
       "shape": {
        "columns": 8,
        "rows": 0
       }
      },
      "text/html": [
       "<div>\n",
       "<style scoped>\n",
       "    .dataframe tbody tr th:only-of-type {\n",
       "        vertical-align: middle;\n",
       "    }\n",
       "\n",
       "    .dataframe tbody tr th {\n",
       "        vertical-align: top;\n",
       "    }\n",
       "\n",
       "    .dataframe thead th {\n",
       "        text-align: right;\n",
       "    }\n",
       "</style>\n",
       "<table border=\"1\" class=\"dataframe\">\n",
       "  <thead>\n",
       "    <tr style=\"text-align: right;\">\n",
       "      <th></th>\n",
       "      <th>InvoiceNo</th>\n",
       "      <th>StockCode</th>\n",
       "      <th>Description</th>\n",
       "      <th>Quantity</th>\n",
       "      <th>InvoiceDate</th>\n",
       "      <th>UnitPrice</th>\n",
       "      <th>CustomerID</th>\n",
       "      <th>Country</th>\n",
       "    </tr>\n",
       "  </thead>\n",
       "  <tbody>\n",
       "  </tbody>\n",
       "</table>\n",
       "</div>"
      ],
      "text/plain": [
       "Empty DataFrame\n",
       "Columns: [InvoiceNo, StockCode, Description, Quantity, InvoiceDate, UnitPrice, CustomerID, Country]\n",
       "Index: []"
      ]
     },
     "execution_count": 17,
     "metadata": {},
     "output_type": "execute_result"
    }
   ],
   "source": [
    "churn[churn['CustomerID'].isnull()]"
   ]
  },
  {
   "cell_type": "code",
   "execution_count": 18,
   "id": "ace8cb76",
   "metadata": {},
   "outputs": [
    {
     "data": {
      "application/vnd.microsoft.datawrangler.viewer.v0+json": {
       "columns": [
        {
         "name": "index",
         "rawType": "object",
         "type": "string"
        },
        {
         "name": "Quantity",
         "rawType": "float64",
         "type": "float"
        },
        {
         "name": "UnitPrice",
         "rawType": "float64",
         "type": "float"
        }
       ],
       "ref": "d418206b-93a6-4894-8755-d8309028afba",
       "rows": [
        [
         "count",
         "0.0",
         "0.0"
        ],
        [
         "mean",
         null,
         null
        ],
        [
         "std",
         null,
         null
        ],
        [
         "min",
         null,
         null
        ],
        [
         "25%",
         null,
         null
        ],
        [
         "50%",
         null,
         null
        ],
        [
         "75%",
         null,
         null
        ],
        [
         "max",
         null,
         null
        ]
       ],
       "shape": {
        "columns": 2,
        "rows": 8
       }
      },
      "text/html": [
       "<div>\n",
       "<style scoped>\n",
       "    .dataframe tbody tr th:only-of-type {\n",
       "        vertical-align: middle;\n",
       "    }\n",
       "\n",
       "    .dataframe tbody tr th {\n",
       "        vertical-align: top;\n",
       "    }\n",
       "\n",
       "    .dataframe thead th {\n",
       "        text-align: right;\n",
       "    }\n",
       "</style>\n",
       "<table border=\"1\" class=\"dataframe\">\n",
       "  <thead>\n",
       "    <tr style=\"text-align: right;\">\n",
       "      <th></th>\n",
       "      <th>Quantity</th>\n",
       "      <th>UnitPrice</th>\n",
       "    </tr>\n",
       "  </thead>\n",
       "  <tbody>\n",
       "    <tr>\n",
       "      <th>count</th>\n",
       "      <td>0.0</td>\n",
       "      <td>0.0</td>\n",
       "    </tr>\n",
       "    <tr>\n",
       "      <th>mean</th>\n",
       "      <td>NaN</td>\n",
       "      <td>NaN</td>\n",
       "    </tr>\n",
       "    <tr>\n",
       "      <th>std</th>\n",
       "      <td>NaN</td>\n",
       "      <td>NaN</td>\n",
       "    </tr>\n",
       "    <tr>\n",
       "      <th>min</th>\n",
       "      <td>NaN</td>\n",
       "      <td>NaN</td>\n",
       "    </tr>\n",
       "    <tr>\n",
       "      <th>25%</th>\n",
       "      <td>NaN</td>\n",
       "      <td>NaN</td>\n",
       "    </tr>\n",
       "    <tr>\n",
       "      <th>50%</th>\n",
       "      <td>NaN</td>\n",
       "      <td>NaN</td>\n",
       "    </tr>\n",
       "    <tr>\n",
       "      <th>75%</th>\n",
       "      <td>NaN</td>\n",
       "      <td>NaN</td>\n",
       "    </tr>\n",
       "    <tr>\n",
       "      <th>max</th>\n",
       "      <td>NaN</td>\n",
       "      <td>NaN</td>\n",
       "    </tr>\n",
       "  </tbody>\n",
       "</table>\n",
       "</div>"
      ],
      "text/plain": [
       "       Quantity  UnitPrice\n",
       "count       0.0        0.0\n",
       "mean        NaN        NaN\n",
       "std         NaN        NaN\n",
       "min         NaN        NaN\n",
       "25%         NaN        NaN\n",
       "50%         NaN        NaN\n",
       "75%         NaN        NaN\n",
       "max         NaN        NaN"
      ]
     },
     "execution_count": 18,
     "metadata": {},
     "output_type": "execute_result"
    }
   ],
   "source": [
    "churn[churn['CustomerID'].isnull()].describe(include='number')"
   ]
  },
  {
   "cell_type": "code",
   "execution_count": 19,
   "id": "beb8cc86",
   "metadata": {},
   "outputs": [
    {
     "data": {
      "application/vnd.microsoft.datawrangler.viewer.v0+json": {
       "columns": [
        {
         "name": "index",
         "rawType": "int64",
         "type": "integer"
        },
        {
         "name": "InvoiceNo",
         "rawType": "object",
         "type": "string"
        },
        {
         "name": "StockCode",
         "rawType": "object",
         "type": "string"
        },
        {
         "name": "Description",
         "rawType": "object",
         "type": "string"
        },
        {
         "name": "Quantity",
         "rawType": "int64",
         "type": "integer"
        },
        {
         "name": "InvoiceDate",
         "rawType": "datetime64[ns]",
         "type": "datetime"
        },
        {
         "name": "UnitPrice",
         "rawType": "float64",
         "type": "float"
        },
        {
         "name": "CustomerID",
         "rawType": "object",
         "type": "string"
        },
        {
         "name": "Country",
         "rawType": "object",
         "type": "string"
        }
       ],
       "ref": "689b7c04-96e7-499c-97aa-8d82d22e44bb",
       "rows": [
        [
         "1448",
         "536544",
         "21773",
         "DECORATIVE ROSE BATHROOM BOTTLE",
         "1",
         "2010-12-01 14:32:00",
         "2.51",
         "NaN",
         "United Kingdom"
        ],
        [
         "1449",
         "536544",
         "21774",
         "DECORATIVE CATS BATHROOM BOTTLE",
         "2",
         "2010-12-01 14:32:00",
         "2.51",
         "NaN",
         "United Kingdom"
        ],
        [
         "1450",
         "536544",
         "21786",
         "POLKADOT RAIN HAT ",
         "4",
         "2010-12-01 14:32:00",
         "0.85",
         "NaN",
         "United Kingdom"
        ],
        [
         "1451",
         "536544",
         "21787",
         "RAIN PONCHO RETROSPOT",
         "2",
         "2010-12-01 14:32:00",
         "1.66",
         "NaN",
         "United Kingdom"
        ],
        [
         "1452",
         "536544",
         "21790",
         "VINTAGE SNAP CARDS",
         "9",
         "2010-12-01 14:32:00",
         "1.66",
         "NaN",
         "United Kingdom"
        ],
        [
         "1453",
         "536544",
         "21791",
         "VINTAGE HEADS AND TAILS CARD GAME ",
         "2",
         "2010-12-01 14:32:00",
         "2.51",
         "NaN",
         "United Kingdom"
        ],
        [
         "1454",
         "536544",
         "21801",
         "CHRISTMAS TREE DECORATION WITH BELL",
         "10",
         "2010-12-01 14:32:00",
         "0.43",
         "NaN",
         "United Kingdom"
        ],
        [
         "1455",
         "536544",
         "21802",
         "CHRISTMAS TREE HEART DECORATION",
         "9",
         "2010-12-01 14:32:00",
         "0.43",
         "NaN",
         "United Kingdom"
        ],
        [
         "1456",
         "536544",
         "21803",
         "CHRISTMAS TREE STAR DECORATION",
         "11",
         "2010-12-01 14:32:00",
         "0.43",
         "NaN",
         "United Kingdom"
        ],
        [
         "1457",
         "536544",
         "21809",
         "CHRISTMAS HANGING TREE WITH BELL",
         "1",
         "2010-12-01 14:32:00",
         "2.51",
         "NaN",
         "United Kingdom"
        ],
        [
         "1458",
         "536544",
         "21810",
         "CHRISTMAS HANGING STAR WITH BELL",
         "3",
         "2010-12-01 14:32:00",
         "2.51",
         "NaN",
         "United Kingdom"
        ],
        [
         "1459",
         "536544",
         "21811",
         "CHRISTMAS HANGING HEART WITH BELL",
         "1",
         "2010-12-01 14:32:00",
         "2.51",
         "NaN",
         "United Kingdom"
        ],
        [
         "1460",
         "536544",
         "21821",
         "GLITTER STAR GARLAND WITH BELLS ",
         "1",
         "2010-12-01 14:32:00",
         "7.62",
         "NaN",
         "United Kingdom"
        ],
        [
         "1461",
         "536544",
         "21822",
         "GLITTER CHRISTMAS TREE WITH BELLS",
         "1",
         "2010-12-01 14:32:00",
         "4.21",
         "NaN",
         "United Kingdom"
        ],
        [
         "1462",
         "536544",
         "21823",
         "PAINTED METAL HEART WITH HOLLY BELL",
         "2",
         "2010-12-01 14:32:00",
         "2.98",
         "NaN",
         "United Kingdom"
        ],
        [
         "1463",
         "536544",
         "21844",
         "RED RETROSPOT MUG",
         "2",
         "2010-12-01 14:32:00",
         "5.91",
         "NaN",
         "United Kingdom"
        ],
        [
         "1464",
         "536544",
         "21851",
         "LILAC DIAMANTE PEN IN GIFT BOX",
         "1",
         "2010-12-01 14:32:00",
         "4.21",
         "NaN",
         "United Kingdom"
        ],
        [
         "1465",
         "536544",
         "21870",
         "I CAN ONLY PLEASE ONE PERSON MUG",
         "1",
         "2010-12-01 14:32:00",
         "3.36",
         "NaN",
         "United Kingdom"
        ],
        [
         "1466",
         "536544",
         "21871",
         "SAVE THE PLANET MUG",
         "5",
         "2010-12-01 14:32:00",
         "3.36",
         "NaN",
         "United Kingdom"
        ],
        [
         "1467",
         "536544",
         "21874",
         "GIN AND TONIC MUG",
         "1",
         "2010-12-01 14:32:00",
         "3.36",
         "NaN",
         "United Kingdom"
        ],
        [
         "1468",
         "536544",
         "21879",
         "HEARTS GIFT TAPE",
         "1",
         "2010-12-01 14:32:00",
         "1.66",
         "NaN",
         "United Kingdom"
        ],
        [
         "1469",
         "536544",
         "21884",
         "CAKES AND BOWS GIFT  TAPE",
         "1",
         "2010-12-01 14:32:00",
         "1.66",
         "NaN",
         "United Kingdom"
        ],
        [
         "1470",
         "536544",
         "21888",
         "BINGO SET",
         "1",
         "2010-12-01 14:32:00",
         "7.62",
         "NaN",
         "United Kingdom"
        ],
        [
         "1471",
         "536544",
         "21889",
         "WOODEN BOX OF DOMINOES",
         "2",
         "2010-12-01 14:32:00",
         "2.51",
         "NaN",
         "United Kingdom"
        ],
        [
         "1472",
         "536544",
         "21892",
         "TRADITIONAL WOODEN CATCH CUP GAME ",
         "3",
         "2010-12-01 14:32:00",
         "2.51",
         "NaN",
         "United Kingdom"
        ],
        [
         "1473",
         "536544",
         "21894",
         "POTTING SHED SEED ENVELOPES",
         "1",
         "2010-12-01 14:32:00",
         "2.51",
         "NaN",
         "United Kingdom"
        ],
        [
         "1474",
         "536544",
         "21911",
         "GARDEN METAL SIGN ",
         "1",
         "2010-12-01 14:32:00",
         "3.36",
         "NaN",
         "United Kingdom"
        ],
        [
         "1475",
         "536544",
         "21912",
         "VINTAGE SNAKES & LADDERS",
         "3",
         "2010-12-01 14:32:00",
         "7.62",
         "NaN",
         "United Kingdom"
        ],
        [
         "1476",
         "536544",
         "21913",
         "VINTAGE SEASIDE JIGSAW PUZZLES",
         "1",
         "2010-12-01 14:32:00",
         "7.62",
         "NaN",
         "United Kingdom"
        ],
        [
         "1477",
         "536544",
         "21914",
         "BLUE HARMONICA IN BOX ",
         "3",
         "2010-12-01 14:32:00",
         "2.51",
         "NaN",
         "United Kingdom"
        ],
        [
         "1478",
         "536544",
         "21915",
         "RED  HARMONICA IN BOX ",
         "2",
         "2010-12-01 14:32:00",
         "2.51",
         "NaN",
         "United Kingdom"
        ],
        [
         "1479",
         "536544",
         "21922",
         "UNION STRIPE WITH FRINGE  HAMMOCK",
         "2",
         "2010-12-01 14:32:00",
         "16.98",
         "NaN",
         "United Kingdom"
        ],
        [
         "1480",
         "536544",
         "21928",
         "JUMBO BAG SCANDINAVIAN PAISLEY",
         "1",
         "2010-12-01 14:32:00",
         "4.21",
         "NaN",
         "United Kingdom"
        ],
        [
         "1481",
         "536544",
         "21935",
         "SUKI  SHOULDER BAG",
         "1",
         "2010-12-01 14:32:00",
         "3.36",
         "NaN",
         "United Kingdom"
        ],
        [
         "1482",
         "536544",
         "21942",
         "SKULLS DESIGN FLANNEL",
         "2",
         "2010-12-01 14:32:00",
         "1.66",
         "NaN",
         "United Kingdom"
        ],
        [
         "1483",
         "536544",
         "21944",
         "KITTENS DESIGN FLANNEL",
         "1",
         "2010-12-01 14:32:00",
         "1.66",
         "NaN",
         "United Kingdom"
        ],
        [
         "1484",
         "536544",
         "21949",
         "SET OF 6 STRAWBERRY CHOPSTICKS",
         "1",
         "2010-12-01 14:32:00",
         "2.51",
         "NaN",
         "United Kingdom"
        ],
        [
         "1485",
         "536544",
         "21975",
         "PACK OF 60 DINOSAUR CAKE CASES",
         "1",
         "2010-12-01 14:32:00",
         "1.28",
         "NaN",
         "United Kingdom"
        ],
        [
         "1486",
         "536544",
         "21977",
         "PACK OF 60 PINK PAISLEY CAKE CASES",
         "1",
         "2010-12-01 14:32:00",
         "1.28",
         "NaN",
         "United Kingdom"
        ],
        [
         "1487",
         "536544",
         "21982",
         "PACK OF 12 SUKI TISSUES ",
         "1",
         "2010-12-01 14:32:00",
         "0.85",
         "NaN",
         "United Kingdom"
        ],
        [
         "1488",
         "536544",
         "21990",
         "MODERN FLORAL STATIONERY SET",
         "2",
         "2010-12-01 14:32:00",
         "2.51",
         "NaN",
         "United Kingdom"
        ],
        [
         "1489",
         "536544",
         "21991",
         "BOHEMIAN COLLAGE STATIONERY SET",
         "1",
         "2010-12-01 14:32:00",
         "2.51",
         "NaN",
         "United Kingdom"
        ],
        [
         "1490",
         "536544",
         "21992",
         "VINTAGE PAISLEY STATIONERY SET",
         "6",
         "2010-12-01 14:32:00",
         "2.51",
         "NaN",
         "United Kingdom"
        ],
        [
         "1491",
         "536544",
         "21993",
         "FLORAL FOLK STATIONERY SET",
         "4",
         "2010-12-01 14:32:00",
         "2.51",
         "NaN",
         "United Kingdom"
        ],
        [
         "1492",
         "536544",
         "22037",
         "ROBOT BIRTHDAY CARD",
         "1",
         "2010-12-01 14:32:00",
         "0.85",
         "NaN",
         "United Kingdom"
        ],
        [
         "1493",
         "536544",
         "22043",
         "CHRISTMAS CARD SCREEN PRINT ",
         "1",
         "2010-12-01 14:32:00",
         "0.43",
         "NaN",
         "United Kingdom"
        ],
        [
         "1494",
         "536544",
         "22064",
         "PINK DOUGHNUT TRINKET POT ",
         "1",
         "2010-12-01 14:32:00",
         "3.36",
         "NaN",
         "United Kingdom"
        ],
        [
         "1495",
         "536544",
         "22065",
         "CHRISTMAS PUDDING TRINKET POT ",
         "1",
         "2010-12-01 14:32:00",
         "3.36",
         "NaN",
         "United Kingdom"
        ],
        [
         "1496",
         "536544",
         "22067",
         "CHOC TRUFFLE GOLD TRINKET POT ",
         "1",
         "2010-12-01 14:32:00",
         "3.36",
         "NaN",
         "United Kingdom"
        ],
        [
         "1497",
         "536544",
         "22068",
         "BLACK PIRATE TREASURE CHEST",
         "1",
         "2010-12-01 14:32:00",
         "3.36",
         "NaN",
         "United Kingdom"
        ]
       ],
       "shape": {
        "columns": 8,
        "rows": 527
       }
      },
      "text/html": [
       "<div>\n",
       "<style scoped>\n",
       "    .dataframe tbody tr th:only-of-type {\n",
       "        vertical-align: middle;\n",
       "    }\n",
       "\n",
       "    .dataframe tbody tr th {\n",
       "        vertical-align: top;\n",
       "    }\n",
       "\n",
       "    .dataframe thead th {\n",
       "        text-align: right;\n",
       "    }\n",
       "</style>\n",
       "<table border=\"1\" class=\"dataframe\">\n",
       "  <thead>\n",
       "    <tr style=\"text-align: right;\">\n",
       "      <th></th>\n",
       "      <th>InvoiceNo</th>\n",
       "      <th>StockCode</th>\n",
       "      <th>Description</th>\n",
       "      <th>Quantity</th>\n",
       "      <th>InvoiceDate</th>\n",
       "      <th>UnitPrice</th>\n",
       "      <th>CustomerID</th>\n",
       "      <th>Country</th>\n",
       "    </tr>\n",
       "  </thead>\n",
       "  <tbody>\n",
       "    <tr>\n",
       "      <th>1448</th>\n",
       "      <td>536544</td>\n",
       "      <td>21773</td>\n",
       "      <td>DECORATIVE ROSE BATHROOM BOTTLE</td>\n",
       "      <td>1</td>\n",
       "      <td>2010-12-01 14:32:00</td>\n",
       "      <td>2.51</td>\n",
       "      <td>NaN</td>\n",
       "      <td>United Kingdom</td>\n",
       "    </tr>\n",
       "    <tr>\n",
       "      <th>1449</th>\n",
       "      <td>536544</td>\n",
       "      <td>21774</td>\n",
       "      <td>DECORATIVE CATS BATHROOM BOTTLE</td>\n",
       "      <td>2</td>\n",
       "      <td>2010-12-01 14:32:00</td>\n",
       "      <td>2.51</td>\n",
       "      <td>NaN</td>\n",
       "      <td>United Kingdom</td>\n",
       "    </tr>\n",
       "    <tr>\n",
       "      <th>1450</th>\n",
       "      <td>536544</td>\n",
       "      <td>21786</td>\n",
       "      <td>POLKADOT RAIN HAT</td>\n",
       "      <td>4</td>\n",
       "      <td>2010-12-01 14:32:00</td>\n",
       "      <td>0.85</td>\n",
       "      <td>NaN</td>\n",
       "      <td>United Kingdom</td>\n",
       "    </tr>\n",
       "    <tr>\n",
       "      <th>1451</th>\n",
       "      <td>536544</td>\n",
       "      <td>21787</td>\n",
       "      <td>RAIN PONCHO RETROSPOT</td>\n",
       "      <td>2</td>\n",
       "      <td>2010-12-01 14:32:00</td>\n",
       "      <td>1.66</td>\n",
       "      <td>NaN</td>\n",
       "      <td>United Kingdom</td>\n",
       "    </tr>\n",
       "    <tr>\n",
       "      <th>1452</th>\n",
       "      <td>536544</td>\n",
       "      <td>21790</td>\n",
       "      <td>VINTAGE SNAP CARDS</td>\n",
       "      <td>9</td>\n",
       "      <td>2010-12-01 14:32:00</td>\n",
       "      <td>1.66</td>\n",
       "      <td>NaN</td>\n",
       "      <td>United Kingdom</td>\n",
       "    </tr>\n",
       "    <tr>\n",
       "      <th>...</th>\n",
       "      <td>...</td>\n",
       "      <td>...</td>\n",
       "      <td>...</td>\n",
       "      <td>...</td>\n",
       "      <td>...</td>\n",
       "      <td>...</td>\n",
       "      <td>...</td>\n",
       "      <td>...</td>\n",
       "    </tr>\n",
       "    <tr>\n",
       "      <th>1971</th>\n",
       "      <td>536544</td>\n",
       "      <td>21721</td>\n",
       "      <td>CANDY SHOP  STICKER SHEET</td>\n",
       "      <td>1</td>\n",
       "      <td>2010-12-01 14:32:00</td>\n",
       "      <td>1.66</td>\n",
       "      <td>NaN</td>\n",
       "      <td>United Kingdom</td>\n",
       "    </tr>\n",
       "    <tr>\n",
       "      <th>1972</th>\n",
       "      <td>536544</td>\n",
       "      <td>21722</td>\n",
       "      <td>SWEET PUDDING STICKER SHEET</td>\n",
       "      <td>1</td>\n",
       "      <td>2010-12-01 14:32:00</td>\n",
       "      <td>1.66</td>\n",
       "      <td>NaN</td>\n",
       "      <td>United Kingdom</td>\n",
       "    </tr>\n",
       "    <tr>\n",
       "      <th>1973</th>\n",
       "      <td>536544</td>\n",
       "      <td>21731</td>\n",
       "      <td>RED TOADSTOOL LED NIGHT LIGHT</td>\n",
       "      <td>5</td>\n",
       "      <td>2010-12-01 14:32:00</td>\n",
       "      <td>3.36</td>\n",
       "      <td>NaN</td>\n",
       "      <td>United Kingdom</td>\n",
       "    </tr>\n",
       "    <tr>\n",
       "      <th>1974</th>\n",
       "      <td>536544</td>\n",
       "      <td>21742</td>\n",
       "      <td>LARGE ROUND WICKER PLATTER</td>\n",
       "      <td>1</td>\n",
       "      <td>2010-12-01 14:32:00</td>\n",
       "      <td>12.72</td>\n",
       "      <td>NaN</td>\n",
       "      <td>United Kingdom</td>\n",
       "    </tr>\n",
       "    <tr>\n",
       "      <th>1975</th>\n",
       "      <td>536544</td>\n",
       "      <td>21758</td>\n",
       "      <td>VINTAGE SHELLS PRINT</td>\n",
       "      <td>1</td>\n",
       "      <td>2010-12-01 14:32:00</td>\n",
       "      <td>12.72</td>\n",
       "      <td>NaN</td>\n",
       "      <td>United Kingdom</td>\n",
       "    </tr>\n",
       "  </tbody>\n",
       "</table>\n",
       "<p>527 rows × 8 columns</p>\n",
       "</div>"
      ],
      "text/plain": [
       "     InvoiceNo StockCode                      Description  Quantity  \\\n",
       "1448    536544     21773  DECORATIVE ROSE BATHROOM BOTTLE         1   \n",
       "1449    536544     21774  DECORATIVE CATS BATHROOM BOTTLE         2   \n",
       "1450    536544     21786               POLKADOT RAIN HAT          4   \n",
       "1451    536544     21787            RAIN PONCHO RETROSPOT         2   \n",
       "1452    536544     21790               VINTAGE SNAP CARDS         9   \n",
       "...        ...       ...                              ...       ...   \n",
       "1971    536544     21721        CANDY SHOP  STICKER SHEET         1   \n",
       "1972    536544     21722      SWEET PUDDING STICKER SHEET         1   \n",
       "1973    536544     21731    RED TOADSTOOL LED NIGHT LIGHT         5   \n",
       "1974    536544     21742      LARGE ROUND WICKER PLATTER          1   \n",
       "1975    536544     21758             VINTAGE SHELLS PRINT         1   \n",
       "\n",
       "             InvoiceDate  UnitPrice CustomerID         Country  \n",
       "1448 2010-12-01 14:32:00       2.51        NaN  United Kingdom  \n",
       "1449 2010-12-01 14:32:00       2.51        NaN  United Kingdom  \n",
       "1450 2010-12-01 14:32:00       0.85        NaN  United Kingdom  \n",
       "1451 2010-12-01 14:32:00       1.66        NaN  United Kingdom  \n",
       "1452 2010-12-01 14:32:00       1.66        NaN  United Kingdom  \n",
       "...                  ...        ...        ...             ...  \n",
       "1971 2010-12-01 14:32:00       1.66        NaN  United Kingdom  \n",
       "1972 2010-12-01 14:32:00       1.66        NaN  United Kingdom  \n",
       "1973 2010-12-01 14:32:00       3.36        NaN  United Kingdom  \n",
       "1974 2010-12-01 14:32:00      12.72        NaN  United Kingdom  \n",
       "1975 2010-12-01 14:32:00      12.72        NaN  United Kingdom  \n",
       "\n",
       "[527 rows x 8 columns]"
      ]
     },
     "execution_count": 19,
     "metadata": {},
     "output_type": "execute_result"
    }
   ],
   "source": [
    "churn[churn['InvoiceNo'] == '536544']"
   ]
  },
  {
   "cell_type": "markdown",
   "id": "9fb281e8",
   "metadata": {},
   "source": [
    "### Exploración StockCode"
   ]
  },
  {
   "cell_type": "code",
   "execution_count": 20,
   "id": "31bed4d0",
   "metadata": {},
   "outputs": [
    {
     "data": {
      "application/vnd.microsoft.datawrangler.viewer.v0+json": {
       "columns": [
        {
         "name": "index",
         "rawType": "int64",
         "type": "integer"
        },
        {
         "name": "InvoiceNo",
         "rawType": "object",
         "type": "string"
        },
        {
         "name": "StockCode",
         "rawType": "object",
         "type": "string"
        },
        {
         "name": "Description",
         "rawType": "object",
         "type": "string"
        },
        {
         "name": "Quantity",
         "rawType": "int64",
         "type": "integer"
        },
        {
         "name": "InvoiceDate",
         "rawType": "datetime64[ns]",
         "type": "datetime"
        },
        {
         "name": "UnitPrice",
         "rawType": "float64",
         "type": "float"
        },
        {
         "name": "CustomerID",
         "rawType": "object",
         "type": "string"
        },
        {
         "name": "Country",
         "rawType": "object",
         "type": "string"
        }
       ],
       "ref": "f5d9de3a-7988-46bc-b957-b2d1922e7781",
       "rows": [
        [
         "45",
         "536370",
         "POST",
         "POSTAGE",
         "3",
         "2010-12-01 08:45:00",
         "18.0",
         "12583",
         "France"
        ],
        [
         "141",
         "C536379",
         "D",
         "Discount",
         "-1",
         "2010-12-01 09:41:00",
         "27.5",
         "14527",
         "United Kingdom"
        ],
        [
         "387",
         "536403",
         "POST",
         "POSTAGE",
         "1",
         "2010-12-01 11:27:00",
         "15.0",
         "12791",
         "Netherlands"
        ],
        [
         "1126",
         "536527",
         "POST",
         "POSTAGE",
         "1",
         "2010-12-01 13:04:00",
         "18.0",
         "12662",
         "Germany"
        ],
        [
         "1428",
         "536540",
         "C2",
         "CARRIAGE",
         "1",
         "2010-12-01 14:05:00",
         "50.0",
         "14911",
         "EIRE"
        ],
        [
         "1819",
         "536544",
         "DOT",
         "DOTCOM POSTAGE",
         "1",
         "2010-12-01 14:32:00",
         "569.77",
         "NaN",
         "United Kingdom"
        ],
        [
         "2246",
         "536569",
         "M",
         "Manual",
         "1",
         "2010-12-01 15:35:00",
         "1.25",
         "16274",
         "United Kingdom"
        ],
        [
         "2257",
         "536569",
         "M",
         "Manual",
         "1",
         "2010-12-01 15:35:00",
         "18.95",
         "16274",
         "United Kingdom"
        ],
        [
         "3048",
         "536592",
         "DOT",
         "DOTCOM POSTAGE",
         "1",
         "2010-12-01 17:06:00",
         "607.49",
         "NaN",
         "United Kingdom"
        ],
        [
         "4416",
         "536779",
         "BANK CHARGES",
         "Bank Charges",
         "1",
         "2010-12-02 15:08:00",
         "15.0",
         "15823",
         "United Kingdom"
        ],
        [
         "5083",
         "536840",
         "POST",
         "POSTAGE",
         "1",
         "2010-12-02 18:27:00",
         "18.0",
         "12738",
         "Germany"
        ],
        [
         "5269",
         "536852",
         "POST",
         "POSTAGE",
         "1",
         "2010-12-03 09:51:00",
         "18.0",
         "12686",
         "France"
        ],
        [
         "5336",
         "536858",
         "POST",
         "POSTAGE",
         "2",
         "2010-12-03 10:36:00",
         "40.0",
         "13520",
         "Switzerland"
        ],
        [
         "5380",
         "536861",
         "POST",
         "POSTAGE",
         "3",
         "2010-12-03 10:44:00",
         "18.0",
         "12427",
         "Germany"
        ],
        [
         "5461",
         "536862",
         "DOT",
         "DOTCOM POSTAGE",
         "1",
         "2010-12-03 11:13:00",
         "254.43",
         "NaN",
         "United Kingdom"
        ],
        [
         "5556",
         "536864",
         "DOT",
         "DOTCOM POSTAGE",
         "1",
         "2010-12-03 11:27:00",
         "121.06",
         "NaN",
         "United Kingdom"
        ],
        [
         "5696",
         "536865",
         "M",
         "Manual",
         "1",
         "2010-12-03 11:28:00",
         "2.55",
         "NaN",
         "United Kingdom"
        ],
        [
         "5697",
         "536865",
         "DOT",
         "DOTCOM POSTAGE",
         "1",
         "2010-12-03 11:28:00",
         "498.47",
         "NaN",
         "United Kingdom"
        ],
        [
         "6175",
         "536876",
         "DOT",
         "DOTCOM POSTAGE",
         "1",
         "2010-12-03 11:36:00",
         "887.52",
         "NaN",
         "United Kingdom"
        ],
        [
         "6613",
         "536967",
         "POST",
         "POSTAGE",
         "1",
         "2010-12-03 12:57:00",
         "18.0",
         "12600",
         "Germany"
        ],
        [
         "6686",
         "536974",
         "POST",
         "POSTAGE",
         "2",
         "2010-12-03 13:59:00",
         "18.0",
         "12682",
         "France"
        ],
        [
         "6808",
         "536981",
         "M",
         "Manual",
         "2",
         "2010-12-03 14:26:00",
         "0.85",
         "14723",
         "United Kingdom"
        ],
        [
         "6983",
         "536983",
         "POST",
         "POSTAGE",
         "1",
         "2010-12-03 14:30:00",
         "18.0",
         "12712",
         "Germany"
        ],
        [
         "7150",
         "536990",
         "POST",
         "POSTAGE",
         "1",
         "2010-12-03 15:14:00",
         "28.0",
         "12793",
         "Portugal"
        ],
        [
         "7237",
         "537022",
         "POST",
         "POSTAGE",
         "2",
         "2010-12-03 15:45:00",
         "28.0",
         "12725",
         "Italy"
        ],
        [
         "7291",
         "537026",
         "POST",
         "POSTAGE",
         "2",
         "2010-12-03 16:35:00",
         "18.0",
         "12395",
         "Belgium"
        ],
        [
         "7955",
         "537065",
         "POST",
         "POSTAGE",
         "9",
         "2010-12-05 11:57:00",
         "18.0",
         "12567",
         "France"
        ],
        [
         "7978",
         "537077",
         "M",
         "Manual",
         "12",
         "2010-12-05 11:59:00",
         "0.42",
         "17062",
         "United Kingdom"
        ],
        [
         "8060",
         "537368",
         "C2",
         "CARRIAGE",
         "1",
         "2010-12-06 12:40:00",
         "50.0",
         "14911",
         "EIRE"
        ],
        [
         "8536",
         "537137",
         "M",
         "Manual",
         "36",
         "2010-12-05 12:43:00",
         "0.85",
         "16327",
         "United Kingdom"
        ],
        [
         "8593",
         "537140",
         "M",
         "Manual",
         "1",
         "2010-12-05 12:53:00",
         "0.42",
         "12748",
         "United Kingdom"
        ],
        [
         "8594",
         "537140",
         "M",
         "Manual",
         "1",
         "2010-12-05 12:53:00",
         "0.85",
         "12748",
         "United Kingdom"
        ],
        [
         "9044",
         "C537164",
         "D",
         "Discount",
         "-1",
         "2010-12-05 13:21:00",
         "29.29",
         "14527",
         "United Kingdom"
        ],
        [
         "9306",
         "537197",
         "POST",
         "POSTAGE",
         "3",
         "2010-12-05 14:02:00",
         "18.0",
         "12647",
         "Germany"
        ],
        [
         "9311",
         "537198",
         "POST",
         "POSTAGE",
         "1",
         "2010-12-05 14:03:00",
         "18.0",
         "12647",
         "Germany"
        ],
        [
         "9332",
         "537199",
         "M",
         "Manual",
         "1",
         "2010-12-05 14:06:00",
         "0.65",
         "15894",
         "United Kingdom"
        ],
        [
         "9447",
         "537201",
         "POST",
         "POSTAGE",
         "6",
         "2010-12-05 14:19:00",
         "18.0",
         "12472",
         "Germany"
        ],
        [
         "9581",
         "537208",
         "M",
         "Manual",
         "4",
         "2010-12-05 15:12:00",
         "0.85",
         "15889",
         "United Kingdom"
        ],
        [
         "9740",
         "537212",
         "POST",
         "POSTAGE",
         "4",
         "2010-12-05 15:21:00",
         "18.0",
         "12720",
         "Germany"
        ],
        [
         "10119",
         "537225",
         "M",
         "Manual",
         "1",
         "2010-12-05 16:41:00",
         "1.0",
         "12748",
         "United Kingdom"
        ],
        [
         "10817",
         "537237",
         "DOT",
         "DOTCOM POSTAGE",
         "1",
         "2010-12-06 09:58:00",
         "863.74",
         "NaN",
         "United Kingdom"
        ],
        [
         "11005",
         "538881",
         "DOT",
         "DOTCOM POSTAGE",
         "1",
         "2010-12-14 15:54:00",
         "198.17",
         "NaN",
         "United Kingdom"
        ],
        [
         "11284",
         "C538897",
         "D",
         "Discount",
         "-1",
         "2010-12-15 09:14:00",
         "5.76",
         "16422",
         "United Kingdom"
        ],
        [
         "11389",
         "537240",
         "DOT",
         "DOTCOM POSTAGE",
         "1",
         "2010-12-06 10:08:00",
         "940.87",
         "NaN",
         "United Kingdom"
        ],
        [
         "11487",
         "537246",
         "POST",
         "POSTAGE",
         "1",
         "2010-12-06 10:27:00",
         "28.0",
         "12808",
         "Portugal"
        ],
        [
         "11494",
         "C538897",
         "D",
         "Discount",
         "-1",
         "2010-12-15 09:14:00",
         "42.5",
         "16422",
         "United Kingdom"
        ],
        [
         "11510",
         "537250",
         "POST",
         "POSTAGE",
         "1",
         "2010-12-06 10:43:00",
         "18.0",
         "12708",
         "Germany"
        ],
        [
         "12431",
         "537377",
         "M",
         "Manual",
         "12",
         "2010-12-06 13:01:00",
         "0.19",
         "15882",
         "United Kingdom"
        ],
        [
         "12460",
         "537378",
         "C2",
         "CARRIAGE",
         "1",
         "2010-12-06 13:06:00",
         "50.0",
         "14911",
         "EIRE"
        ],
        [
         "12676",
         "537392",
         "M",
         "Manual",
         "5",
         "2010-12-06 13:58:00",
         "1.25",
         "17068",
         "United Kingdom"
        ]
       ],
       "shape": {
        "columns": 8,
        "rows": 2995
       }
      },
      "text/html": [
       "<div>\n",
       "<style scoped>\n",
       "    .dataframe tbody tr th:only-of-type {\n",
       "        vertical-align: middle;\n",
       "    }\n",
       "\n",
       "    .dataframe tbody tr th {\n",
       "        vertical-align: top;\n",
       "    }\n",
       "\n",
       "    .dataframe thead th {\n",
       "        text-align: right;\n",
       "    }\n",
       "</style>\n",
       "<table border=\"1\" class=\"dataframe\">\n",
       "  <thead>\n",
       "    <tr style=\"text-align: right;\">\n",
       "      <th></th>\n",
       "      <th>InvoiceNo</th>\n",
       "      <th>StockCode</th>\n",
       "      <th>Description</th>\n",
       "      <th>Quantity</th>\n",
       "      <th>InvoiceDate</th>\n",
       "      <th>UnitPrice</th>\n",
       "      <th>CustomerID</th>\n",
       "      <th>Country</th>\n",
       "    </tr>\n",
       "  </thead>\n",
       "  <tbody>\n",
       "    <tr>\n",
       "      <th>45</th>\n",
       "      <td>536370</td>\n",
       "      <td>POST</td>\n",
       "      <td>POSTAGE</td>\n",
       "      <td>3</td>\n",
       "      <td>2010-12-01 08:45:00</td>\n",
       "      <td>18.00</td>\n",
       "      <td>12583</td>\n",
       "      <td>France</td>\n",
       "    </tr>\n",
       "    <tr>\n",
       "      <th>141</th>\n",
       "      <td>C536379</td>\n",
       "      <td>D</td>\n",
       "      <td>Discount</td>\n",
       "      <td>-1</td>\n",
       "      <td>2010-12-01 09:41:00</td>\n",
       "      <td>27.50</td>\n",
       "      <td>14527</td>\n",
       "      <td>United Kingdom</td>\n",
       "    </tr>\n",
       "    <tr>\n",
       "      <th>387</th>\n",
       "      <td>536403</td>\n",
       "      <td>POST</td>\n",
       "      <td>POSTAGE</td>\n",
       "      <td>1</td>\n",
       "      <td>2010-12-01 11:27:00</td>\n",
       "      <td>15.00</td>\n",
       "      <td>12791</td>\n",
       "      <td>Netherlands</td>\n",
       "    </tr>\n",
       "    <tr>\n",
       "      <th>1126</th>\n",
       "      <td>536527</td>\n",
       "      <td>POST</td>\n",
       "      <td>POSTAGE</td>\n",
       "      <td>1</td>\n",
       "      <td>2010-12-01 13:04:00</td>\n",
       "      <td>18.00</td>\n",
       "      <td>12662</td>\n",
       "      <td>Germany</td>\n",
       "    </tr>\n",
       "    <tr>\n",
       "      <th>1428</th>\n",
       "      <td>536540</td>\n",
       "      <td>C2</td>\n",
       "      <td>CARRIAGE</td>\n",
       "      <td>1</td>\n",
       "      <td>2010-12-01 14:05:00</td>\n",
       "      <td>50.00</td>\n",
       "      <td>14911</td>\n",
       "      <td>EIRE</td>\n",
       "    </tr>\n",
       "    <tr>\n",
       "      <th>...</th>\n",
       "      <td>...</td>\n",
       "      <td>...</td>\n",
       "      <td>...</td>\n",
       "      <td>...</td>\n",
       "      <td>...</td>\n",
       "      <td>...</td>\n",
       "      <td>...</td>\n",
       "      <td>...</td>\n",
       "    </tr>\n",
       "    <tr>\n",
       "      <th>541540</th>\n",
       "      <td>581498</td>\n",
       "      <td>DOT</td>\n",
       "      <td>DOTCOM POSTAGE</td>\n",
       "      <td>1</td>\n",
       "      <td>2011-12-09 10:26:00</td>\n",
       "      <td>1714.17</td>\n",
       "      <td>NaN</td>\n",
       "      <td>United Kingdom</td>\n",
       "    </tr>\n",
       "    <tr>\n",
       "      <th>541541</th>\n",
       "      <td>C581499</td>\n",
       "      <td>M</td>\n",
       "      <td>Manual</td>\n",
       "      <td>-1</td>\n",
       "      <td>2011-12-09 10:28:00</td>\n",
       "      <td>224.69</td>\n",
       "      <td>15498</td>\n",
       "      <td>United Kingdom</td>\n",
       "    </tr>\n",
       "    <tr>\n",
       "      <th>541730</th>\n",
       "      <td>581570</td>\n",
       "      <td>POST</td>\n",
       "      <td>POSTAGE</td>\n",
       "      <td>1</td>\n",
       "      <td>2011-12-09 11:59:00</td>\n",
       "      <td>18.00</td>\n",
       "      <td>12662</td>\n",
       "      <td>Germany</td>\n",
       "    </tr>\n",
       "    <tr>\n",
       "      <th>541767</th>\n",
       "      <td>581574</td>\n",
       "      <td>POST</td>\n",
       "      <td>POSTAGE</td>\n",
       "      <td>2</td>\n",
       "      <td>2011-12-09 12:09:00</td>\n",
       "      <td>18.00</td>\n",
       "      <td>12526</td>\n",
       "      <td>Germany</td>\n",
       "    </tr>\n",
       "    <tr>\n",
       "      <th>541768</th>\n",
       "      <td>581578</td>\n",
       "      <td>POST</td>\n",
       "      <td>POSTAGE</td>\n",
       "      <td>3</td>\n",
       "      <td>2011-12-09 12:16:00</td>\n",
       "      <td>18.00</td>\n",
       "      <td>12713</td>\n",
       "      <td>Germany</td>\n",
       "    </tr>\n",
       "  </tbody>\n",
       "</table>\n",
       "<p>2995 rows × 8 columns</p>\n",
       "</div>"
      ],
      "text/plain": [
       "       InvoiceNo StockCode     Description  Quantity         InvoiceDate  \\\n",
       "45        536370      POST         POSTAGE         3 2010-12-01 08:45:00   \n",
       "141      C536379         D        Discount        -1 2010-12-01 09:41:00   \n",
       "387       536403      POST         POSTAGE         1 2010-12-01 11:27:00   \n",
       "1126      536527      POST         POSTAGE         1 2010-12-01 13:04:00   \n",
       "1428      536540        C2        CARRIAGE         1 2010-12-01 14:05:00   \n",
       "...          ...       ...             ...       ...                 ...   \n",
       "541540    581498       DOT  DOTCOM POSTAGE         1 2011-12-09 10:26:00   \n",
       "541541   C581499         M          Manual        -1 2011-12-09 10:28:00   \n",
       "541730    581570      POST         POSTAGE         1 2011-12-09 11:59:00   \n",
       "541767    581574      POST         POSTAGE         2 2011-12-09 12:09:00   \n",
       "541768    581578      POST         POSTAGE         3 2011-12-09 12:16:00   \n",
       "\n",
       "        UnitPrice CustomerID         Country  \n",
       "45          18.00      12583          France  \n",
       "141         27.50      14527  United Kingdom  \n",
       "387         15.00      12791     Netherlands  \n",
       "1126        18.00      12662         Germany  \n",
       "1428        50.00      14911            EIRE  \n",
       "...           ...        ...             ...  \n",
       "541540    1714.17        NaN  United Kingdom  \n",
       "541541     224.69      15498  United Kingdom  \n",
       "541730      18.00      12662         Germany  \n",
       "541767      18.00      12526         Germany  \n",
       "541768      18.00      12713         Germany  \n",
       "\n",
       "[2995 rows x 8 columns]"
      ]
     },
     "execution_count": 20,
     "metadata": {},
     "output_type": "execute_result"
    }
   ],
   "source": [
    "churn[churn['StockCode'].str.match(r'^[A-Za-z]', na=False)]"
   ]
  },
  {
   "cell_type": "code",
   "execution_count": 21,
   "id": "016a79db",
   "metadata": {},
   "outputs": [
    {
     "data": {
      "application/vnd.microsoft.datawrangler.viewer.v0+json": {
       "columns": [
        {
         "name": "Description",
         "rawType": "object",
         "type": "string"
        },
        {
         "name": "count",
         "rawType": "int64",
         "type": "integer"
        }
       ],
       "ref": "20672e1d-06be-49f5-840c-7564fbe33fa2",
       "rows": [
        [
         "POSTAGE",
         "1252"
        ],
        [
         "DOTCOM POSTAGE",
         "709"
        ],
        [
         "Manual",
         "572"
        ],
        [
         "CARRIAGE",
         "143"
        ],
        [
         "Discount",
         "77"
        ],
        [
         "SAMPLES",
         "63"
        ],
        [
         "Bank Charges",
         "37"
        ],
        [
         "AMAZON FEE",
         "34"
        ],
        [
         "CRUK Commission",
         "16"
        ],
        [
         "NaN",
         "15"
        ],
        [
         "GIRLS PARTY BAG",
         "13"
        ],
        [
         "BOYS PARTY BAG",
         "11"
        ],
        [
         "Dotcomgiftshop Gift Voucher £20.00",
         "9"
        ],
        [
         "Dotcomgiftshop Gift Voucher £10.00",
         "8"
        ],
        [
         "Dotcomgiftshop Gift Voucher £30.00",
         "7"
        ],
        [
         "ebay",
         "5"
        ],
        [
         "PADS TO MATCH ALL CUSHIONS",
         "4"
        ],
        [
         "BOXED GLASS ASHTRAY",
         "4"
        ],
        [
         "Dotcomgiftshop Gift Voucher £50.00",
         "4"
        ],
        [
         "Dotcomgiftshop Gift Voucher £40.00",
         "3"
        ],
        [
         "Adjust bad debt",
         "3"
        ],
        [
         "SUNJAR LED NIGHT NIGHT LIGHT",
         "2"
        ],
        [
         "OOH LA LA DOGS COLLAR",
         "1"
        ],
        [
         "CAMOUFLAGE DOG COLLAR",
         "1"
        ],
        [
         "HAYNES CAMPER SHOULDER BAG",
         "1"
        ],
        [
         "to push order througha s stock was ",
         "1"
        ]
       ],
       "shape": {
        "columns": 1,
        "rows": 26
       }
      },
      "text/plain": [
       "Description\n",
       "POSTAGE                                1252\n",
       "DOTCOM POSTAGE                          709\n",
       "Manual                                  572\n",
       "CARRIAGE                                143\n",
       "Discount                                 77\n",
       "SAMPLES                                  63\n",
       "Bank Charges                             37\n",
       "AMAZON FEE                               34\n",
       "CRUK Commission                          16\n",
       "NaN                                      15\n",
       "GIRLS PARTY BAG                          13\n",
       "BOYS PARTY BAG                           11\n",
       "Dotcomgiftshop Gift Voucher £20.00        9\n",
       "Dotcomgiftshop Gift Voucher £10.00        8\n",
       "Dotcomgiftshop Gift Voucher £30.00        7\n",
       "ebay                                      5\n",
       "PADS TO MATCH ALL CUSHIONS                4\n",
       "BOXED GLASS ASHTRAY                       4\n",
       "Dotcomgiftshop Gift Voucher £50.00        4\n",
       "Dotcomgiftshop Gift Voucher £40.00        3\n",
       "Adjust bad debt                           3\n",
       "SUNJAR LED NIGHT NIGHT LIGHT              2\n",
       "OOH LA LA DOGS COLLAR                     1\n",
       "CAMOUFLAGE DOG COLLAR                     1\n",
       "HAYNES CAMPER SHOULDER BAG                1\n",
       "to push order througha s stock was        1\n",
       "Name: count, dtype: int64"
      ]
     },
     "execution_count": 21,
     "metadata": {},
     "output_type": "execute_result"
    }
   ],
   "source": [
    "churn[churn['StockCode'].str.match(r'^[A-Za-z]', na=False)]['Description'].value_counts()"
   ]
  },
  {
   "cell_type": "code",
   "execution_count": 22,
   "id": "953e98e5",
   "metadata": {},
   "outputs": [
    {
     "data": {
      "application/vnd.microsoft.datawrangler.viewer.v0+json": {
       "columns": [
        {
         "name": "StockCode",
         "rawType": "object",
         "type": "string"
        },
        {
         "name": "count",
         "rawType": "int64",
         "type": "integer"
        }
       ],
       "ref": "1ba01dec-395e-426e-bce2-cda42e326bb7",
       "rows": [
        [
         "POST",
         "1256"
        ],
        [
         "DOT",
         "710"
        ],
        [
         "M",
         "571"
        ],
        [
         "C2",
         "144"
        ],
        [
         "D",
         "77"
        ],
        [
         "S",
         "63"
        ],
        [
         "BANK CHARGES",
         "37"
        ],
        [
         "AMAZONFEE",
         "34"
        ],
        [
         "CRUK",
         "16"
        ],
        [
         "DCGSSGIRL",
         "13"
        ],
        [
         "DCGSSBOY",
         "11"
        ],
        [
         "gift_0001_20",
         "10"
        ],
        [
         "gift_0001_10",
         "9"
        ],
        [
         "gift_0001_30",
         "8"
        ],
        [
         "DCGS0003",
         "5"
        ],
        [
         "gift_0001_50",
         "4"
        ],
        [
         "PADS",
         "4"
        ],
        [
         "gift_0001_40",
         "3"
        ],
        [
         "B",
         "3"
        ],
        [
         "DCGS0070",
         "2"
        ],
        [
         "DCGS0076",
         "2"
        ],
        [
         "DCGS0069",
         "2"
        ],
        [
         "m",
         "1"
        ],
        [
         "DCGS0055",
         "1"
        ],
        [
         "DCGS0057",
         "1"
        ],
        [
         "DCGS0074",
         "1"
        ],
        [
         "DCGS0072",
         "1"
        ],
        [
         "DCGS0004",
         "1"
        ],
        [
         "DCGS0073",
         "1"
        ],
        [
         "DCGS0068",
         "1"
        ],
        [
         "DCGS0071",
         "1"
        ],
        [
         "DCGS0066P",
         "1"
        ],
        [
         "DCGS0067",
         "1"
        ]
       ],
       "shape": {
        "columns": 1,
        "rows": 33
       }
      },
      "text/plain": [
       "StockCode\n",
       "POST            1256\n",
       "DOT              710\n",
       "M                571\n",
       "C2               144\n",
       "D                 77\n",
       "S                 63\n",
       "BANK CHARGES      37\n",
       "AMAZONFEE         34\n",
       "CRUK              16\n",
       "DCGSSGIRL         13\n",
       "DCGSSBOY          11\n",
       "gift_0001_20      10\n",
       "gift_0001_10       9\n",
       "gift_0001_30       8\n",
       "DCGS0003           5\n",
       "gift_0001_50       4\n",
       "PADS               4\n",
       "gift_0001_40       3\n",
       "B                  3\n",
       "DCGS0070           2\n",
       "DCGS0076           2\n",
       "DCGS0069           2\n",
       "m                  1\n",
       "DCGS0055           1\n",
       "DCGS0057           1\n",
       "DCGS0074           1\n",
       "DCGS0072           1\n",
       "DCGS0004           1\n",
       "DCGS0073           1\n",
       "DCGS0068           1\n",
       "DCGS0071           1\n",
       "DCGS0066P          1\n",
       "DCGS0067           1\n",
       "Name: count, dtype: int64"
      ]
     },
     "execution_count": 22,
     "metadata": {},
     "output_type": "execute_result"
    }
   ],
   "source": [
    "churn[churn['StockCode'].str.match(r'^[A-Za-z]', na=False)]['StockCode'].value_counts()"
   ]
  },
  {
   "cell_type": "code",
   "execution_count": 23,
   "id": "97a54861",
   "metadata": {},
   "outputs": [
    {
     "data": {
      "application/vnd.microsoft.datawrangler.viewer.v0+json": {
       "columns": [
        {
         "name": "index",
         "rawType": "object",
         "type": "string"
        },
        {
         "name": "Quantity",
         "rawType": "float64",
         "type": "float"
        },
        {
         "name": "UnitPrice",
         "rawType": "float64",
         "type": "float"
        }
       ],
       "ref": "ef17e9ad-0037-4c69-a185-f529f9c2f822",
       "rows": [
        [
         "count",
         "2995.0",
         "2995.0"
        ],
        [
         "mean",
         "3.4584307178631053",
         "246.1399045075125"
        ],
        [
         "std",
         "65.1607322979774",
         "1277.6054747117144"
        ],
        [
         "min",
         "-1350.0",
         "-11062.06"
        ],
        [
         "25%",
         "1.0",
         "18.0"
        ],
        [
         "50%",
         "1.0",
         "22.97"
        ],
        [
         "75%",
         "2.0",
         "148.70999999999998"
        ],
        [
         "max",
         "1600.0",
         "38970.0"
        ]
       ],
       "shape": {
        "columns": 2,
        "rows": 8
       }
      },
      "text/html": [
       "<div>\n",
       "<style scoped>\n",
       "    .dataframe tbody tr th:only-of-type {\n",
       "        vertical-align: middle;\n",
       "    }\n",
       "\n",
       "    .dataframe tbody tr th {\n",
       "        vertical-align: top;\n",
       "    }\n",
       "\n",
       "    .dataframe thead th {\n",
       "        text-align: right;\n",
       "    }\n",
       "</style>\n",
       "<table border=\"1\" class=\"dataframe\">\n",
       "  <thead>\n",
       "    <tr style=\"text-align: right;\">\n",
       "      <th></th>\n",
       "      <th>Quantity</th>\n",
       "      <th>UnitPrice</th>\n",
       "    </tr>\n",
       "  </thead>\n",
       "  <tbody>\n",
       "    <tr>\n",
       "      <th>count</th>\n",
       "      <td>2995.000000</td>\n",
       "      <td>2995.000000</td>\n",
       "    </tr>\n",
       "    <tr>\n",
       "      <th>mean</th>\n",
       "      <td>3.458431</td>\n",
       "      <td>246.139905</td>\n",
       "    </tr>\n",
       "    <tr>\n",
       "      <th>std</th>\n",
       "      <td>65.160732</td>\n",
       "      <td>1277.605475</td>\n",
       "    </tr>\n",
       "    <tr>\n",
       "      <th>min</th>\n",
       "      <td>-1350.000000</td>\n",
       "      <td>-11062.060000</td>\n",
       "    </tr>\n",
       "    <tr>\n",
       "      <th>25%</th>\n",
       "      <td>1.000000</td>\n",
       "      <td>18.000000</td>\n",
       "    </tr>\n",
       "    <tr>\n",
       "      <th>50%</th>\n",
       "      <td>1.000000</td>\n",
       "      <td>22.970000</td>\n",
       "    </tr>\n",
       "    <tr>\n",
       "      <th>75%</th>\n",
       "      <td>2.000000</td>\n",
       "      <td>148.710000</td>\n",
       "    </tr>\n",
       "    <tr>\n",
       "      <th>max</th>\n",
       "      <td>1600.000000</td>\n",
       "      <td>38970.000000</td>\n",
       "    </tr>\n",
       "  </tbody>\n",
       "</table>\n",
       "</div>"
      ],
      "text/plain": [
       "          Quantity     UnitPrice\n",
       "count  2995.000000   2995.000000\n",
       "mean      3.458431    246.139905\n",
       "std      65.160732   1277.605475\n",
       "min   -1350.000000 -11062.060000\n",
       "25%       1.000000     18.000000\n",
       "50%       1.000000     22.970000\n",
       "75%       2.000000    148.710000\n",
       "max    1600.000000  38970.000000"
      ]
     },
     "execution_count": 23,
     "metadata": {},
     "output_type": "execute_result"
    }
   ],
   "source": [
    "churn[churn['StockCode'].str.match(r'^[A-Za-z]', na=False)].describe(include='number')"
   ]
  },
  {
   "cell_type": "code",
   "execution_count": 24,
   "id": "aab22509",
   "metadata": {},
   "outputs": [
    {
     "data": {
      "application/vnd.microsoft.datawrangler.viewer.v0+json": {
       "columns": [
        {
         "name": "index",
         "rawType": "object",
         "type": "string"
        },
        {
         "name": "InvoiceNo",
         "rawType": "object",
         "type": "unknown"
        },
        {
         "name": "StockCode",
         "rawType": "object",
         "type": "unknown"
        },
        {
         "name": "Description",
         "rawType": "object",
         "type": "unknown"
        },
        {
         "name": "CustomerID",
         "rawType": "object",
         "type": "unknown"
        },
        {
         "name": "Country",
         "rawType": "object",
         "type": "unknown"
        }
       ],
       "ref": "d5f29424-63d8-4487-8ada-a60fc5327dbd",
       "rows": [
        [
         "count",
         "2995",
         "2995",
         "2995",
         "2995",
         "2995"
        ],
        [
         "unique",
         "2785",
         "33",
         "26",
         "671",
         "29"
        ],
        [
         "top",
         "C544580",
         "POST",
         "POSTAGE",
         "NaN",
         "United Kingdom"
        ],
        [
         "freq",
         "16",
         "1256",
         "1252",
         "1075",
         "1674"
        ]
       ],
       "shape": {
        "columns": 5,
        "rows": 4
       }
      },
      "text/html": [
       "<div>\n",
       "<style scoped>\n",
       "    .dataframe tbody tr th:only-of-type {\n",
       "        vertical-align: middle;\n",
       "    }\n",
       "\n",
       "    .dataframe tbody tr th {\n",
       "        vertical-align: top;\n",
       "    }\n",
       "\n",
       "    .dataframe thead th {\n",
       "        text-align: right;\n",
       "    }\n",
       "</style>\n",
       "<table border=\"1\" class=\"dataframe\">\n",
       "  <thead>\n",
       "    <tr style=\"text-align: right;\">\n",
       "      <th></th>\n",
       "      <th>InvoiceNo</th>\n",
       "      <th>StockCode</th>\n",
       "      <th>Description</th>\n",
       "      <th>CustomerID</th>\n",
       "      <th>Country</th>\n",
       "    </tr>\n",
       "  </thead>\n",
       "  <tbody>\n",
       "    <tr>\n",
       "      <th>count</th>\n",
       "      <td>2995</td>\n",
       "      <td>2995</td>\n",
       "      <td>2995</td>\n",
       "      <td>2995</td>\n",
       "      <td>2995</td>\n",
       "    </tr>\n",
       "    <tr>\n",
       "      <th>unique</th>\n",
       "      <td>2785</td>\n",
       "      <td>33</td>\n",
       "      <td>26</td>\n",
       "      <td>671</td>\n",
       "      <td>29</td>\n",
       "    </tr>\n",
       "    <tr>\n",
       "      <th>top</th>\n",
       "      <td>C544580</td>\n",
       "      <td>POST</td>\n",
       "      <td>POSTAGE</td>\n",
       "      <td>NaN</td>\n",
       "      <td>United Kingdom</td>\n",
       "    </tr>\n",
       "    <tr>\n",
       "      <th>freq</th>\n",
       "      <td>16</td>\n",
       "      <td>1256</td>\n",
       "      <td>1252</td>\n",
       "      <td>1075</td>\n",
       "      <td>1674</td>\n",
       "    </tr>\n",
       "  </tbody>\n",
       "</table>\n",
       "</div>"
      ],
      "text/plain": [
       "       InvoiceNo StockCode Description CustomerID         Country\n",
       "count       2995      2995        2995       2995            2995\n",
       "unique      2785        33          26        671              29\n",
       "top      C544580      POST     POSTAGE        NaN  United Kingdom\n",
       "freq          16      1256        1252       1075            1674"
      ]
     },
     "execution_count": 24,
     "metadata": {},
     "output_type": "execute_result"
    }
   ],
   "source": [
    "churn[churn['StockCode'].str.match(r'^[A-Za-z]', na=False)].describe(include='object')"
   ]
  },
  {
   "cell_type": "markdown",
   "id": "685abe81",
   "metadata": {},
   "source": [
    "### Exploración InvoiceNo"
   ]
  },
  {
   "cell_type": "code",
   "execution_count": 25,
   "id": "e5202191",
   "metadata": {},
   "outputs": [
    {
     "data": {
      "application/vnd.microsoft.datawrangler.viewer.v0+json": {
       "columns": [
        {
         "name": "index",
         "rawType": "int64",
         "type": "integer"
        },
        {
         "name": "InvoiceNo",
         "rawType": "object",
         "type": "string"
        },
        {
         "name": "StockCode",
         "rawType": "object",
         "type": "string"
        },
        {
         "name": "Description",
         "rawType": "object",
         "type": "string"
        },
        {
         "name": "Quantity",
         "rawType": "int64",
         "type": "integer"
        },
        {
         "name": "InvoiceDate",
         "rawType": "datetime64[ns]",
         "type": "datetime"
        },
        {
         "name": "UnitPrice",
         "rawType": "float64",
         "type": "float"
        },
        {
         "name": "CustomerID",
         "rawType": "object",
         "type": "string"
        },
        {
         "name": "Country",
         "rawType": "object",
         "type": "string"
        }
       ],
       "ref": "2e40b69a-5bad-45ab-99c4-2b923b7c46e9",
       "rows": [
        [
         "141",
         "C536379",
         "D",
         "Discount",
         "-1",
         "2010-12-01 09:41:00",
         "27.5",
         "14527",
         "United Kingdom"
        ],
        [
         "154",
         "C536383",
         "35004C",
         "SET OF 3 COLOURED  FLYING DUCKS",
         "-1",
         "2010-12-01 09:49:00",
         "4.65",
         "15311",
         "United Kingdom"
        ],
        [
         "235",
         "C536391",
         "22556",
         "PLASTERS IN TIN CIRCUS PARADE ",
         "-12",
         "2010-12-01 10:24:00",
         "1.65",
         "17548",
         "United Kingdom"
        ],
        [
         "236",
         "C536391",
         "21984",
         "PACK OF 12 PINK PAISLEY TISSUES ",
         "-24",
         "2010-12-01 10:24:00",
         "0.29",
         "17548",
         "United Kingdom"
        ],
        [
         "237",
         "C536391",
         "21983",
         "PACK OF 12 BLUE PAISLEY TISSUES ",
         "-24",
         "2010-12-01 10:24:00",
         "0.29",
         "17548",
         "United Kingdom"
        ],
        [
         "238",
         "C536391",
         "21980",
         "PACK OF 12 RED RETROSPOT TISSUES ",
         "-24",
         "2010-12-01 10:24:00",
         "0.29",
         "17548",
         "United Kingdom"
        ],
        [
         "239",
         "C536391",
         "21484",
         "CHICK GREY HOT WATER BOTTLE",
         "-12",
         "2010-12-01 10:24:00",
         "3.45",
         "17548",
         "United Kingdom"
        ],
        [
         "240",
         "C536391",
         "22557",
         "PLASTERS IN TIN VINTAGE PAISLEY ",
         "-12",
         "2010-12-01 10:24:00",
         "1.65",
         "17548",
         "United Kingdom"
        ],
        [
         "241",
         "C536391",
         "22553",
         "PLASTERS IN TIN SKULLS",
         "-24",
         "2010-12-01 10:24:00",
         "1.65",
         "17548",
         "United Kingdom"
        ],
        [
         "942",
         "C536506",
         "22960",
         "JAM MAKING SET WITH JARS",
         "-6",
         "2010-12-01 12:38:00",
         "4.25",
         "17897",
         "United Kingdom"
        ],
        [
         "1446",
         "C536543",
         "22632",
         "HAND WARMER RED RETROSPOT",
         "-1",
         "2010-12-01 14:30:00",
         "2.1",
         "17841",
         "United Kingdom"
        ],
        [
         "1447",
         "C536543",
         "22355",
         "CHARLOTTE BAG SUKI DESIGN",
         "-2",
         "2010-12-01 14:30:00",
         "0.85",
         "17841",
         "United Kingdom"
        ],
        [
         "1979",
         "C536548",
         "22244",
         "3 HOOK HANGER MAGIC GARDEN",
         "-4",
         "2010-12-01 14:33:00",
         "1.95",
         "12472",
         "Germany"
        ],
        [
         "1980",
         "C536548",
         "22242",
         "5 HOOK HANGER MAGIC TOADSTOOL",
         "-5",
         "2010-12-01 14:33:00",
         "1.65",
         "12472",
         "Germany"
        ],
        [
         "1981",
         "C536548",
         "20914",
         "SET/5 RED RETROSPOT LID GLASS BOWLS",
         "-1",
         "2010-12-01 14:33:00",
         "2.95",
         "12472",
         "Germany"
        ],
        [
         "1982",
         "C536548",
         "22892",
         "SET OF SALT AND PEPPER TOADSTOOLS",
         "-7",
         "2010-12-01 14:33:00",
         "1.25",
         "12472",
         "Germany"
        ],
        [
         "1983",
         "C536548",
         "22654",
         "DELUXE SEWING KIT ",
         "-1",
         "2010-12-01 14:33:00",
         "5.95",
         "12472",
         "Germany"
        ],
        [
         "1984",
         "C536548",
         "22767",
         "TRIPLE PHOTO FRAME CORNICE ",
         "-2",
         "2010-12-01 14:33:00",
         "9.95",
         "12472",
         "Germany"
        ],
        [
         "1985",
         "C536548",
         "22333",
         "RETROSPOT PARTY BAG + STICKER SET",
         "-1",
         "2010-12-01 14:33:00",
         "1.65",
         "12472",
         "Germany"
        ],
        [
         "1986",
         "C536548",
         "22245",
         "HOOK, 1 HANGER ,MAGIC GARDEN",
         "-2",
         "2010-12-01 14:33:00",
         "0.85",
         "12472",
         "Germany"
        ],
        [
         "1987",
         "C536548",
         "22077",
         "6 RIBBONS RUSTIC CHARM",
         "-6",
         "2010-12-01 14:33:00",
         "1.65",
         "12472",
         "Germany"
        ],
        [
         "1988",
         "C536548",
         "22631",
         "CIRCUS PARADE LUNCH BOX ",
         "-1",
         "2010-12-01 14:33:00",
         "1.95",
         "12472",
         "Germany"
        ],
        [
         "1989",
         "C536548",
         "22168",
         "ORGANISER WOOD ANTIQUE WHITE ",
         "-2",
         "2010-12-01 14:33:00",
         "8.5",
         "12472",
         "Germany"
        ],
        [
         "1990",
         "C536548",
         "21218",
         "RED SPOTTY BISCUIT TIN",
         "-3",
         "2010-12-01 14:33:00",
         "3.75",
         "12472",
         "Germany"
        ],
        [
         "1991",
         "C536548",
         "20957",
         "PORCELAIN HANGING BELL SMALL",
         "-1",
         "2010-12-01 14:33:00",
         "1.45",
         "12472",
         "Germany"
        ],
        [
         "1992",
         "C536548",
         "22580",
         "ADVENT CALENDAR GINGHAM SACK",
         "-4",
         "2010-12-01 14:33:00",
         "5.95",
         "12472",
         "Germany"
        ],
        [
         "3176",
         "C536606",
         "20914",
         "SET/5 RED RETROSPOT LID GLASS BOWLS",
         "-2",
         "2010-12-02 09:10:00",
         "2.95",
         "14092",
         "United Kingdom"
        ],
        [
         "3344",
         "C536622",
         "22752",
         "SET 7 BABUSHKA NESTING BOXES",
         "-2",
         "2010-12-02 10:37:00",
         "8.5",
         "12471",
         "Germany"
        ],
        [
         "3417",
         "C536625",
         "22839",
         "3 TIER CAKE TIN GREEN AND CREAM",
         "-2",
         "2010-12-02 10:46:00",
         "14.95",
         "14766",
         "United Kingdom"
        ],
        [
         "3702",
         "C536642",
         "21463",
         "MIRRORED DISCO BALL ",
         "-1",
         "2010-12-02 11:56:00",
         "5.95",
         "14390",
         "United Kingdom"
        ],
        [
         "3921",
         "C536734",
         "22780",
         "LIGHT GARLAND BUTTERFILES PINK",
         "-4",
         "2010-12-02 12:50:00",
         "4.25",
         "16042",
         "United Kingdom"
        ],
        [
         "3922",
         "C536734",
         "85048",
         "15CM CHRISTMAS GLASS BALL 20 LIGHTS",
         "-1",
         "2010-12-02 12:50:00",
         "7.95",
         "16042",
         "United Kingdom"
        ],
        [
         "3929",
         "C536737",
         "22798",
         "ANTIQUE GLASS DRESSING TABLE POT",
         "-2",
         "2010-12-02 13:05:00",
         "2.95",
         "15922",
         "United Kingdom"
        ],
        [
         "4298",
         "C536757",
         "84347",
         "ROTATING SILVER ANGELS T-LIGHT HLDR",
         "-9360",
         "2010-12-02 14:23:00",
         "0.03",
         "15838",
         "United Kingdom"
        ],
        [
         "4299",
         "C536758",
         "21314",
         "SMALL GLASS HEART TRINKET POT",
         "-1",
         "2010-12-02 14:25:00",
         "2.1",
         "13767",
         "United Kingdom"
        ],
        [
         "4317",
         "C536760",
         "22175",
         "PINK OWL SOFT TOY",
         "-1",
         "2010-12-02 14:29:00",
         "2.95",
         "17547",
         "United Kingdom"
        ],
        [
         "4318",
         "C536760",
         "22273",
         "FELTCRAFT DOLL MOLLY",
         "-3",
         "2010-12-02 14:29:00",
         "2.95",
         "17547",
         "United Kingdom"
        ],
        [
         "4846",
         "C536807",
         "22501",
         "PICNIC BASKET WICKER LARGE",
         "-2",
         "2010-12-02 16:45:00",
         "9.95",
         "15834",
         "United Kingdom"
        ],
        [
         "4847",
         "C536807",
         "22778",
         "GLASS CLOCHE SMALL",
         "-1",
         "2010-12-02 16:45:00",
         "3.95",
         "15834",
         "United Kingdom"
        ],
        [
         "4863",
         "C536812",
         "22578",
         "WOODEN STAR CHRISTMAS SCANDINAVIAN",
         "-36",
         "2010-12-02 16:58:00",
         "0.85",
         "16546",
         "United Kingdom"
        ],
        [
         "4864",
         "C536812",
         "22574",
         "HEART WOODEN CHRISTMAS DECORATION",
         "-192",
         "2010-12-02 16:58:00",
         "0.72",
         "16546",
         "United Kingdom"
        ],
        [
         "4865",
         "C536812",
         "22593",
         "CHRISTMAS GINGHAM STAR",
         "-144",
         "2010-12-02 16:58:00",
         "0.72",
         "16546",
         "United Kingdom"
        ],
        [
         "4866",
         "C536812",
         "22595",
         "CHRISTMAS GINGHAM HEART",
         "-144",
         "2010-12-02 16:58:00",
         "0.72",
         "16546",
         "United Kingdom"
        ],
        [
         "4867",
         "C536812",
         "22588",
         "CARD HOLDER GINGHAM HEART",
         "-192",
         "2010-12-02 16:58:00",
         "2.1",
         "16546",
         "United Kingdom"
        ],
        [
         "4868",
         "C536812",
         "22130",
         "PARTY CONE CHRISTMAS DECORATION ",
         "-144",
         "2010-12-02 16:58:00",
         "0.72",
         "16546",
         "United Kingdom"
        ],
        [
         "4886",
         "C536814",
         "21527",
         "RED RETROSPOT TRADITIONAL TEAPOT ",
         "-2",
         "2010-12-02 17:03:00",
         "7.95",
         "13958",
         "United Kingdom"
        ],
        [
         "4887",
         "C536814",
         "72799E",
         "IVORY PILLAR CANDLE SILVER FLOCK",
         "-6",
         "2010-12-02 17:03:00",
         "2.95",
         "13958",
         "United Kingdom"
        ],
        [
         "4888",
         "C536814",
         "85066",
         "CREAM SWEETHEART MINI CHEST",
         "-2",
         "2010-12-02 17:03:00",
         "12.75",
         "13958",
         "United Kingdom"
        ],
        [
         "4889",
         "C536814",
         "21586",
         "KINGS CHOICE GIANT TUBE MATCHES",
         "-12",
         "2010-12-02 17:03:00",
         "2.55",
         "13958",
         "United Kingdom"
        ],
        [
         "4890",
         "C536814",
         "21258",
         "VICTORIAN SEWING BOX LARGE",
         "-1",
         "2010-12-02 17:03:00",
         "12.75",
         "13958",
         "United Kingdom"
        ]
       ],
       "shape": {
        "columns": 8,
        "rows": 9291
       }
      },
      "text/html": [
       "<div>\n",
       "<style scoped>\n",
       "    .dataframe tbody tr th:only-of-type {\n",
       "        vertical-align: middle;\n",
       "    }\n",
       "\n",
       "    .dataframe tbody tr th {\n",
       "        vertical-align: top;\n",
       "    }\n",
       "\n",
       "    .dataframe thead th {\n",
       "        text-align: right;\n",
       "    }\n",
       "</style>\n",
       "<table border=\"1\" class=\"dataframe\">\n",
       "  <thead>\n",
       "    <tr style=\"text-align: right;\">\n",
       "      <th></th>\n",
       "      <th>InvoiceNo</th>\n",
       "      <th>StockCode</th>\n",
       "      <th>Description</th>\n",
       "      <th>Quantity</th>\n",
       "      <th>InvoiceDate</th>\n",
       "      <th>UnitPrice</th>\n",
       "      <th>CustomerID</th>\n",
       "      <th>Country</th>\n",
       "    </tr>\n",
       "  </thead>\n",
       "  <tbody>\n",
       "    <tr>\n",
       "      <th>141</th>\n",
       "      <td>C536379</td>\n",
       "      <td>D</td>\n",
       "      <td>Discount</td>\n",
       "      <td>-1</td>\n",
       "      <td>2010-12-01 09:41:00</td>\n",
       "      <td>27.50</td>\n",
       "      <td>14527</td>\n",
       "      <td>United Kingdom</td>\n",
       "    </tr>\n",
       "    <tr>\n",
       "      <th>154</th>\n",
       "      <td>C536383</td>\n",
       "      <td>35004C</td>\n",
       "      <td>SET OF 3 COLOURED  FLYING DUCKS</td>\n",
       "      <td>-1</td>\n",
       "      <td>2010-12-01 09:49:00</td>\n",
       "      <td>4.65</td>\n",
       "      <td>15311</td>\n",
       "      <td>United Kingdom</td>\n",
       "    </tr>\n",
       "    <tr>\n",
       "      <th>235</th>\n",
       "      <td>C536391</td>\n",
       "      <td>22556</td>\n",
       "      <td>PLASTERS IN TIN CIRCUS PARADE</td>\n",
       "      <td>-12</td>\n",
       "      <td>2010-12-01 10:24:00</td>\n",
       "      <td>1.65</td>\n",
       "      <td>17548</td>\n",
       "      <td>United Kingdom</td>\n",
       "    </tr>\n",
       "    <tr>\n",
       "      <th>236</th>\n",
       "      <td>C536391</td>\n",
       "      <td>21984</td>\n",
       "      <td>PACK OF 12 PINK PAISLEY TISSUES</td>\n",
       "      <td>-24</td>\n",
       "      <td>2010-12-01 10:24:00</td>\n",
       "      <td>0.29</td>\n",
       "      <td>17548</td>\n",
       "      <td>United Kingdom</td>\n",
       "    </tr>\n",
       "    <tr>\n",
       "      <th>237</th>\n",
       "      <td>C536391</td>\n",
       "      <td>21983</td>\n",
       "      <td>PACK OF 12 BLUE PAISLEY TISSUES</td>\n",
       "      <td>-24</td>\n",
       "      <td>2010-12-01 10:24:00</td>\n",
       "      <td>0.29</td>\n",
       "      <td>17548</td>\n",
       "      <td>United Kingdom</td>\n",
       "    </tr>\n",
       "    <tr>\n",
       "      <th>...</th>\n",
       "      <td>...</td>\n",
       "      <td>...</td>\n",
       "      <td>...</td>\n",
       "      <td>...</td>\n",
       "      <td>...</td>\n",
       "      <td>...</td>\n",
       "      <td>...</td>\n",
       "      <td>...</td>\n",
       "    </tr>\n",
       "    <tr>\n",
       "      <th>540452</th>\n",
       "      <td>C581490</td>\n",
       "      <td>23144</td>\n",
       "      <td>ZINC T-LIGHT HOLDER STARS SMALL</td>\n",
       "      <td>-11</td>\n",
       "      <td>2011-12-09 09:57:00</td>\n",
       "      <td>0.83</td>\n",
       "      <td>14397</td>\n",
       "      <td>United Kingdom</td>\n",
       "    </tr>\n",
       "    <tr>\n",
       "      <th>541541</th>\n",
       "      <td>C581499</td>\n",
       "      <td>M</td>\n",
       "      <td>Manual</td>\n",
       "      <td>-1</td>\n",
       "      <td>2011-12-09 10:28:00</td>\n",
       "      <td>224.69</td>\n",
       "      <td>15498</td>\n",
       "      <td>United Kingdom</td>\n",
       "    </tr>\n",
       "    <tr>\n",
       "      <th>541715</th>\n",
       "      <td>C581568</td>\n",
       "      <td>21258</td>\n",
       "      <td>VICTORIAN SEWING BOX LARGE</td>\n",
       "      <td>-5</td>\n",
       "      <td>2011-12-09 11:57:00</td>\n",
       "      <td>10.95</td>\n",
       "      <td>15311</td>\n",
       "      <td>United Kingdom</td>\n",
       "    </tr>\n",
       "    <tr>\n",
       "      <th>541716</th>\n",
       "      <td>C581569</td>\n",
       "      <td>84978</td>\n",
       "      <td>HANGING HEART JAR T-LIGHT HOLDER</td>\n",
       "      <td>-1</td>\n",
       "      <td>2011-12-09 11:58:00</td>\n",
       "      <td>1.25</td>\n",
       "      <td>17315</td>\n",
       "      <td>United Kingdom</td>\n",
       "    </tr>\n",
       "    <tr>\n",
       "      <th>541717</th>\n",
       "      <td>C581569</td>\n",
       "      <td>20979</td>\n",
       "      <td>36 PENCILS TUBE RED RETROSPOT</td>\n",
       "      <td>-5</td>\n",
       "      <td>2011-12-09 11:58:00</td>\n",
       "      <td>1.25</td>\n",
       "      <td>17315</td>\n",
       "      <td>United Kingdom</td>\n",
       "    </tr>\n",
       "  </tbody>\n",
       "</table>\n",
       "<p>9291 rows × 8 columns</p>\n",
       "</div>"
      ],
      "text/plain": [
       "       InvoiceNo StockCode                       Description  Quantity  \\\n",
       "141      C536379         D                          Discount        -1   \n",
       "154      C536383    35004C   SET OF 3 COLOURED  FLYING DUCKS        -1   \n",
       "235      C536391     22556    PLASTERS IN TIN CIRCUS PARADE        -12   \n",
       "236      C536391     21984  PACK OF 12 PINK PAISLEY TISSUES        -24   \n",
       "237      C536391     21983  PACK OF 12 BLUE PAISLEY TISSUES        -24   \n",
       "...          ...       ...                               ...       ...   \n",
       "540452   C581490     23144   ZINC T-LIGHT HOLDER STARS SMALL       -11   \n",
       "541541   C581499         M                            Manual        -1   \n",
       "541715   C581568     21258        VICTORIAN SEWING BOX LARGE        -5   \n",
       "541716   C581569     84978  HANGING HEART JAR T-LIGHT HOLDER        -1   \n",
       "541717   C581569     20979     36 PENCILS TUBE RED RETROSPOT        -5   \n",
       "\n",
       "               InvoiceDate  UnitPrice CustomerID         Country  \n",
       "141    2010-12-01 09:41:00      27.50      14527  United Kingdom  \n",
       "154    2010-12-01 09:49:00       4.65      15311  United Kingdom  \n",
       "235    2010-12-01 10:24:00       1.65      17548  United Kingdom  \n",
       "236    2010-12-01 10:24:00       0.29      17548  United Kingdom  \n",
       "237    2010-12-01 10:24:00       0.29      17548  United Kingdom  \n",
       "...                    ...        ...        ...             ...  \n",
       "540452 2011-12-09 09:57:00       0.83      14397  United Kingdom  \n",
       "541541 2011-12-09 10:28:00     224.69      15498  United Kingdom  \n",
       "541715 2011-12-09 11:57:00      10.95      15311  United Kingdom  \n",
       "541716 2011-12-09 11:58:00       1.25      17315  United Kingdom  \n",
       "541717 2011-12-09 11:58:00       1.25      17315  United Kingdom  \n",
       "\n",
       "[9291 rows x 8 columns]"
      ]
     },
     "execution_count": 25,
     "metadata": {},
     "output_type": "execute_result"
    }
   ],
   "source": [
    "churn[churn['InvoiceNo'].str.match(r'^[A-Za-z]', na=False)]"
   ]
  },
  {
   "cell_type": "code",
   "execution_count": 26,
   "id": "01da525a",
   "metadata": {},
   "outputs": [
    {
     "data": {
      "application/vnd.microsoft.datawrangler.viewer.v0+json": {
       "columns": [
        {
         "name": "index",
         "rawType": "object",
         "type": "string"
        },
        {
         "name": "Quantity",
         "rawType": "float64",
         "type": "float"
        },
        {
         "name": "UnitPrice",
         "rawType": "float64",
         "type": "float"
        }
       ],
       "ref": "d59fcb32-8512-45d5-8207-b9acacb8b302",
       "rows": [
        [
         "count",
         "2995.0",
         "2995.0"
        ],
        [
         "mean",
         "3.4584307178631053",
         "246.1399045075125"
        ],
        [
         "std",
         "65.1607322979774",
         "1277.6054747117144"
        ],
        [
         "min",
         "-1350.0",
         "-11062.06"
        ],
        [
         "25%",
         "1.0",
         "18.0"
        ],
        [
         "50%",
         "1.0",
         "22.97"
        ],
        [
         "75%",
         "2.0",
         "148.70999999999998"
        ],
        [
         "max",
         "1600.0",
         "38970.0"
        ]
       ],
       "shape": {
        "columns": 2,
        "rows": 8
       }
      },
      "text/html": [
       "<div>\n",
       "<style scoped>\n",
       "    .dataframe tbody tr th:only-of-type {\n",
       "        vertical-align: middle;\n",
       "    }\n",
       "\n",
       "    .dataframe tbody tr th {\n",
       "        vertical-align: top;\n",
       "    }\n",
       "\n",
       "    .dataframe thead th {\n",
       "        text-align: right;\n",
       "    }\n",
       "</style>\n",
       "<table border=\"1\" class=\"dataframe\">\n",
       "  <thead>\n",
       "    <tr style=\"text-align: right;\">\n",
       "      <th></th>\n",
       "      <th>Quantity</th>\n",
       "      <th>UnitPrice</th>\n",
       "    </tr>\n",
       "  </thead>\n",
       "  <tbody>\n",
       "    <tr>\n",
       "      <th>count</th>\n",
       "      <td>2995.000000</td>\n",
       "      <td>2995.000000</td>\n",
       "    </tr>\n",
       "    <tr>\n",
       "      <th>mean</th>\n",
       "      <td>3.458431</td>\n",
       "      <td>246.139905</td>\n",
       "    </tr>\n",
       "    <tr>\n",
       "      <th>std</th>\n",
       "      <td>65.160732</td>\n",
       "      <td>1277.605475</td>\n",
       "    </tr>\n",
       "    <tr>\n",
       "      <th>min</th>\n",
       "      <td>-1350.000000</td>\n",
       "      <td>-11062.060000</td>\n",
       "    </tr>\n",
       "    <tr>\n",
       "      <th>25%</th>\n",
       "      <td>1.000000</td>\n",
       "      <td>18.000000</td>\n",
       "    </tr>\n",
       "    <tr>\n",
       "      <th>50%</th>\n",
       "      <td>1.000000</td>\n",
       "      <td>22.970000</td>\n",
       "    </tr>\n",
       "    <tr>\n",
       "      <th>75%</th>\n",
       "      <td>2.000000</td>\n",
       "      <td>148.710000</td>\n",
       "    </tr>\n",
       "    <tr>\n",
       "      <th>max</th>\n",
       "      <td>1600.000000</td>\n",
       "      <td>38970.000000</td>\n",
       "    </tr>\n",
       "  </tbody>\n",
       "</table>\n",
       "</div>"
      ],
      "text/plain": [
       "          Quantity     UnitPrice\n",
       "count  2995.000000   2995.000000\n",
       "mean      3.458431    246.139905\n",
       "std      65.160732   1277.605475\n",
       "min   -1350.000000 -11062.060000\n",
       "25%       1.000000     18.000000\n",
       "50%       1.000000     22.970000\n",
       "75%       2.000000    148.710000\n",
       "max    1600.000000  38970.000000"
      ]
     },
     "execution_count": 26,
     "metadata": {},
     "output_type": "execute_result"
    }
   ],
   "source": [
    "churn[churn['StockCode'].str.match(r'^[A-Za-z]', na=False)].describe(include='number')"
   ]
  },
  {
   "cell_type": "code",
   "execution_count": 27,
   "id": "45f0ffa1",
   "metadata": {},
   "outputs": [
    {
     "data": {
      "application/vnd.microsoft.datawrangler.viewer.v0+json": {
       "columns": [
        {
         "name": "index",
         "rawType": "int64",
         "type": "integer"
        },
        {
         "name": "InvoiceNo",
         "rawType": "object",
         "type": "string"
        },
        {
         "name": "StockCode",
         "rawType": "object",
         "type": "string"
        },
        {
         "name": "Description",
         "rawType": "object",
         "type": "string"
        },
        {
         "name": "Quantity",
         "rawType": "int64",
         "type": "integer"
        },
        {
         "name": "InvoiceDate",
         "rawType": "datetime64[ns]",
         "type": "datetime"
        },
        {
         "name": "UnitPrice",
         "rawType": "float64",
         "type": "float"
        },
        {
         "name": "CustomerID",
         "rawType": "object",
         "type": "string"
        },
        {
         "name": "Country",
         "rawType": "object",
         "type": "string"
        }
       ],
       "ref": "08f907da-d914-4e39-b65f-409b081b3167",
       "rows": [
        [
         "45",
         "536370",
         "POST",
         "POSTAGE",
         "3",
         "2010-12-01 08:45:00",
         "18.0",
         "12583",
         "France"
        ],
        [
         "387",
         "536403",
         "POST",
         "POSTAGE",
         "1",
         "2010-12-01 11:27:00",
         "15.0",
         "12791",
         "Netherlands"
        ],
        [
         "1126",
         "536527",
         "POST",
         "POSTAGE",
         "1",
         "2010-12-01 13:04:00",
         "18.0",
         "12662",
         "Germany"
        ],
        [
         "1428",
         "536540",
         "C2",
         "CARRIAGE",
         "1",
         "2010-12-01 14:05:00",
         "50.0",
         "14911",
         "EIRE"
        ],
        [
         "1819",
         "536544",
         "DOT",
         "DOTCOM POSTAGE",
         "1",
         "2010-12-01 14:32:00",
         "569.77",
         "NaN",
         "United Kingdom"
        ],
        [
         "2246",
         "536569",
         "M",
         "Manual",
         "1",
         "2010-12-01 15:35:00",
         "1.25",
         "16274",
         "United Kingdom"
        ],
        [
         "2257",
         "536569",
         "M",
         "Manual",
         "1",
         "2010-12-01 15:35:00",
         "18.95",
         "16274",
         "United Kingdom"
        ],
        [
         "3048",
         "536592",
         "DOT",
         "DOTCOM POSTAGE",
         "1",
         "2010-12-01 17:06:00",
         "607.49",
         "NaN",
         "United Kingdom"
        ],
        [
         "4416",
         "536779",
         "BANK CHARGES",
         "Bank Charges",
         "1",
         "2010-12-02 15:08:00",
         "15.0",
         "15823",
         "United Kingdom"
        ],
        [
         "5083",
         "536840",
         "POST",
         "POSTAGE",
         "1",
         "2010-12-02 18:27:00",
         "18.0",
         "12738",
         "Germany"
        ],
        [
         "5269",
         "536852",
         "POST",
         "POSTAGE",
         "1",
         "2010-12-03 09:51:00",
         "18.0",
         "12686",
         "France"
        ],
        [
         "5336",
         "536858",
         "POST",
         "POSTAGE",
         "2",
         "2010-12-03 10:36:00",
         "40.0",
         "13520",
         "Switzerland"
        ],
        [
         "5380",
         "536861",
         "POST",
         "POSTAGE",
         "3",
         "2010-12-03 10:44:00",
         "18.0",
         "12427",
         "Germany"
        ],
        [
         "5461",
         "536862",
         "DOT",
         "DOTCOM POSTAGE",
         "1",
         "2010-12-03 11:13:00",
         "254.43",
         "NaN",
         "United Kingdom"
        ],
        [
         "5556",
         "536864",
         "DOT",
         "DOTCOM POSTAGE",
         "1",
         "2010-12-03 11:27:00",
         "121.06",
         "NaN",
         "United Kingdom"
        ],
        [
         "5696",
         "536865",
         "M",
         "Manual",
         "1",
         "2010-12-03 11:28:00",
         "2.55",
         "NaN",
         "United Kingdom"
        ],
        [
         "5697",
         "536865",
         "DOT",
         "DOTCOM POSTAGE",
         "1",
         "2010-12-03 11:28:00",
         "498.47",
         "NaN",
         "United Kingdom"
        ],
        [
         "6175",
         "536876",
         "DOT",
         "DOTCOM POSTAGE",
         "1",
         "2010-12-03 11:36:00",
         "887.52",
         "NaN",
         "United Kingdom"
        ],
        [
         "6613",
         "536967",
         "POST",
         "POSTAGE",
         "1",
         "2010-12-03 12:57:00",
         "18.0",
         "12600",
         "Germany"
        ],
        [
         "6686",
         "536974",
         "POST",
         "POSTAGE",
         "2",
         "2010-12-03 13:59:00",
         "18.0",
         "12682",
         "France"
        ],
        [
         "6808",
         "536981",
         "M",
         "Manual",
         "2",
         "2010-12-03 14:26:00",
         "0.85",
         "14723",
         "United Kingdom"
        ],
        [
         "6983",
         "536983",
         "POST",
         "POSTAGE",
         "1",
         "2010-12-03 14:30:00",
         "18.0",
         "12712",
         "Germany"
        ],
        [
         "7150",
         "536990",
         "POST",
         "POSTAGE",
         "1",
         "2010-12-03 15:14:00",
         "28.0",
         "12793",
         "Portugal"
        ],
        [
         "7237",
         "537022",
         "POST",
         "POSTAGE",
         "2",
         "2010-12-03 15:45:00",
         "28.0",
         "12725",
         "Italy"
        ],
        [
         "7291",
         "537026",
         "POST",
         "POSTAGE",
         "2",
         "2010-12-03 16:35:00",
         "18.0",
         "12395",
         "Belgium"
        ],
        [
         "7955",
         "537065",
         "POST",
         "POSTAGE",
         "9",
         "2010-12-05 11:57:00",
         "18.0",
         "12567",
         "France"
        ],
        [
         "7978",
         "537077",
         "M",
         "Manual",
         "12",
         "2010-12-05 11:59:00",
         "0.42",
         "17062",
         "United Kingdom"
        ],
        [
         "8060",
         "537368",
         "C2",
         "CARRIAGE",
         "1",
         "2010-12-06 12:40:00",
         "50.0",
         "14911",
         "EIRE"
        ],
        [
         "8536",
         "537137",
         "M",
         "Manual",
         "36",
         "2010-12-05 12:43:00",
         "0.85",
         "16327",
         "United Kingdom"
        ],
        [
         "8593",
         "537140",
         "M",
         "Manual",
         "1",
         "2010-12-05 12:53:00",
         "0.42",
         "12748",
         "United Kingdom"
        ],
        [
         "8594",
         "537140",
         "M",
         "Manual",
         "1",
         "2010-12-05 12:53:00",
         "0.85",
         "12748",
         "United Kingdom"
        ],
        [
         "9306",
         "537197",
         "POST",
         "POSTAGE",
         "3",
         "2010-12-05 14:02:00",
         "18.0",
         "12647",
         "Germany"
        ],
        [
         "9311",
         "537198",
         "POST",
         "POSTAGE",
         "1",
         "2010-12-05 14:03:00",
         "18.0",
         "12647",
         "Germany"
        ],
        [
         "9332",
         "537199",
         "M",
         "Manual",
         "1",
         "2010-12-05 14:06:00",
         "0.65",
         "15894",
         "United Kingdom"
        ],
        [
         "9447",
         "537201",
         "POST",
         "POSTAGE",
         "6",
         "2010-12-05 14:19:00",
         "18.0",
         "12472",
         "Germany"
        ],
        [
         "9581",
         "537208",
         "M",
         "Manual",
         "4",
         "2010-12-05 15:12:00",
         "0.85",
         "15889",
         "United Kingdom"
        ],
        [
         "9740",
         "537212",
         "POST",
         "POSTAGE",
         "4",
         "2010-12-05 15:21:00",
         "18.0",
         "12720",
         "Germany"
        ],
        [
         "10119",
         "537225",
         "M",
         "Manual",
         "1",
         "2010-12-05 16:41:00",
         "1.0",
         "12748",
         "United Kingdom"
        ],
        [
         "10817",
         "537237",
         "DOT",
         "DOTCOM POSTAGE",
         "1",
         "2010-12-06 09:58:00",
         "863.74",
         "NaN",
         "United Kingdom"
        ],
        [
         "11005",
         "538881",
         "DOT",
         "DOTCOM POSTAGE",
         "1",
         "2010-12-14 15:54:00",
         "198.17",
         "NaN",
         "United Kingdom"
        ],
        [
         "11389",
         "537240",
         "DOT",
         "DOTCOM POSTAGE",
         "1",
         "2010-12-06 10:08:00",
         "940.87",
         "NaN",
         "United Kingdom"
        ],
        [
         "11487",
         "537246",
         "POST",
         "POSTAGE",
         "1",
         "2010-12-06 10:27:00",
         "28.0",
         "12808",
         "Portugal"
        ],
        [
         "11510",
         "537250",
         "POST",
         "POSTAGE",
         "1",
         "2010-12-06 10:43:00",
         "18.0",
         "12708",
         "Germany"
        ],
        [
         "12431",
         "537377",
         "M",
         "Manual",
         "12",
         "2010-12-06 13:01:00",
         "0.19",
         "15882",
         "United Kingdom"
        ],
        [
         "12460",
         "537378",
         "C2",
         "CARRIAGE",
         "1",
         "2010-12-06 13:06:00",
         "50.0",
         "14911",
         "EIRE"
        ],
        [
         "12676",
         "537392",
         "M",
         "Manual",
         "5",
         "2010-12-06 13:58:00",
         "1.25",
         "17068",
         "United Kingdom"
        ],
        [
         "12792",
         "537396",
         "M",
         "Manual",
         "1",
         "2010-12-06 14:08:00",
         "35.0",
         "17223",
         "United Kingdom"
        ],
        [
         "13934",
         "537434",
         "DOT",
         "DOTCOM POSTAGE",
         "1",
         "2010-12-06 16:57:00",
         "950.99",
         "NaN",
         "United Kingdom"
        ],
        [
         "13964",
         "537435",
         "M",
         "Manual",
         "2",
         "2010-12-06 16:58:00",
         "5.95",
         "17920",
         "United Kingdom"
        ],
        [
         "14177",
         "537463",
         "POST",
         "POSTAGE",
         "4",
         "2010-12-07 10:08:00",
         "18.0",
         "12681",
         "France"
        ]
       ],
       "shape": {
        "columns": 8,
        "rows": 2399
       }
      },
      "text/html": [
       "<div>\n",
       "<style scoped>\n",
       "    .dataframe tbody tr th:only-of-type {\n",
       "        vertical-align: middle;\n",
       "    }\n",
       "\n",
       "    .dataframe tbody tr th {\n",
       "        vertical-align: top;\n",
       "    }\n",
       "\n",
       "    .dataframe thead th {\n",
       "        text-align: right;\n",
       "    }\n",
       "</style>\n",
       "<table border=\"1\" class=\"dataframe\">\n",
       "  <thead>\n",
       "    <tr style=\"text-align: right;\">\n",
       "      <th></th>\n",
       "      <th>InvoiceNo</th>\n",
       "      <th>StockCode</th>\n",
       "      <th>Description</th>\n",
       "      <th>Quantity</th>\n",
       "      <th>InvoiceDate</th>\n",
       "      <th>UnitPrice</th>\n",
       "      <th>CustomerID</th>\n",
       "      <th>Country</th>\n",
       "    </tr>\n",
       "  </thead>\n",
       "  <tbody>\n",
       "    <tr>\n",
       "      <th>45</th>\n",
       "      <td>536370</td>\n",
       "      <td>POST</td>\n",
       "      <td>POSTAGE</td>\n",
       "      <td>3</td>\n",
       "      <td>2010-12-01 08:45:00</td>\n",
       "      <td>18.00</td>\n",
       "      <td>12583</td>\n",
       "      <td>France</td>\n",
       "    </tr>\n",
       "    <tr>\n",
       "      <th>387</th>\n",
       "      <td>536403</td>\n",
       "      <td>POST</td>\n",
       "      <td>POSTAGE</td>\n",
       "      <td>1</td>\n",
       "      <td>2010-12-01 11:27:00</td>\n",
       "      <td>15.00</td>\n",
       "      <td>12791</td>\n",
       "      <td>Netherlands</td>\n",
       "    </tr>\n",
       "    <tr>\n",
       "      <th>1126</th>\n",
       "      <td>536527</td>\n",
       "      <td>POST</td>\n",
       "      <td>POSTAGE</td>\n",
       "      <td>1</td>\n",
       "      <td>2010-12-01 13:04:00</td>\n",
       "      <td>18.00</td>\n",
       "      <td>12662</td>\n",
       "      <td>Germany</td>\n",
       "    </tr>\n",
       "    <tr>\n",
       "      <th>1428</th>\n",
       "      <td>536540</td>\n",
       "      <td>C2</td>\n",
       "      <td>CARRIAGE</td>\n",
       "      <td>1</td>\n",
       "      <td>2010-12-01 14:05:00</td>\n",
       "      <td>50.00</td>\n",
       "      <td>14911</td>\n",
       "      <td>EIRE</td>\n",
       "    </tr>\n",
       "    <tr>\n",
       "      <th>1819</th>\n",
       "      <td>536544</td>\n",
       "      <td>DOT</td>\n",
       "      <td>DOTCOM POSTAGE</td>\n",
       "      <td>1</td>\n",
       "      <td>2010-12-01 14:32:00</td>\n",
       "      <td>569.77</td>\n",
       "      <td>NaN</td>\n",
       "      <td>United Kingdom</td>\n",
       "    </tr>\n",
       "    <tr>\n",
       "      <th>...</th>\n",
       "      <td>...</td>\n",
       "      <td>...</td>\n",
       "      <td>...</td>\n",
       "      <td>...</td>\n",
       "      <td>...</td>\n",
       "      <td>...</td>\n",
       "      <td>...</td>\n",
       "      <td>...</td>\n",
       "    </tr>\n",
       "    <tr>\n",
       "      <th>541216</th>\n",
       "      <td>581494</td>\n",
       "      <td>POST</td>\n",
       "      <td>POSTAGE</td>\n",
       "      <td>2</td>\n",
       "      <td>2011-12-09 10:13:00</td>\n",
       "      <td>18.00</td>\n",
       "      <td>12518</td>\n",
       "      <td>Germany</td>\n",
       "    </tr>\n",
       "    <tr>\n",
       "      <th>541540</th>\n",
       "      <td>581498</td>\n",
       "      <td>DOT</td>\n",
       "      <td>DOTCOM POSTAGE</td>\n",
       "      <td>1</td>\n",
       "      <td>2011-12-09 10:26:00</td>\n",
       "      <td>1714.17</td>\n",
       "      <td>NaN</td>\n",
       "      <td>United Kingdom</td>\n",
       "    </tr>\n",
       "    <tr>\n",
       "      <th>541730</th>\n",
       "      <td>581570</td>\n",
       "      <td>POST</td>\n",
       "      <td>POSTAGE</td>\n",
       "      <td>1</td>\n",
       "      <td>2011-12-09 11:59:00</td>\n",
       "      <td>18.00</td>\n",
       "      <td>12662</td>\n",
       "      <td>Germany</td>\n",
       "    </tr>\n",
       "    <tr>\n",
       "      <th>541767</th>\n",
       "      <td>581574</td>\n",
       "      <td>POST</td>\n",
       "      <td>POSTAGE</td>\n",
       "      <td>2</td>\n",
       "      <td>2011-12-09 12:09:00</td>\n",
       "      <td>18.00</td>\n",
       "      <td>12526</td>\n",
       "      <td>Germany</td>\n",
       "    </tr>\n",
       "    <tr>\n",
       "      <th>541768</th>\n",
       "      <td>581578</td>\n",
       "      <td>POST</td>\n",
       "      <td>POSTAGE</td>\n",
       "      <td>3</td>\n",
       "      <td>2011-12-09 12:16:00</td>\n",
       "      <td>18.00</td>\n",
       "      <td>12713</td>\n",
       "      <td>Germany</td>\n",
       "    </tr>\n",
       "  </tbody>\n",
       "</table>\n",
       "<p>2399 rows × 8 columns</p>\n",
       "</div>"
      ],
      "text/plain": [
       "       InvoiceNo StockCode     Description  Quantity         InvoiceDate  \\\n",
       "45        536370      POST         POSTAGE         3 2010-12-01 08:45:00   \n",
       "387       536403      POST         POSTAGE         1 2010-12-01 11:27:00   \n",
       "1126      536527      POST         POSTAGE         1 2010-12-01 13:04:00   \n",
       "1428      536540        C2        CARRIAGE         1 2010-12-01 14:05:00   \n",
       "1819      536544       DOT  DOTCOM POSTAGE         1 2010-12-01 14:32:00   \n",
       "...          ...       ...             ...       ...                 ...   \n",
       "541216    581494      POST         POSTAGE         2 2011-12-09 10:13:00   \n",
       "541540    581498       DOT  DOTCOM POSTAGE         1 2011-12-09 10:26:00   \n",
       "541730    581570      POST         POSTAGE         1 2011-12-09 11:59:00   \n",
       "541767    581574      POST         POSTAGE         2 2011-12-09 12:09:00   \n",
       "541768    581578      POST         POSTAGE         3 2011-12-09 12:16:00   \n",
       "\n",
       "        UnitPrice CustomerID         Country  \n",
       "45          18.00      12583          France  \n",
       "387         15.00      12791     Netherlands  \n",
       "1126        18.00      12662         Germany  \n",
       "1428        50.00      14911            EIRE  \n",
       "1819       569.77        NaN  United Kingdom  \n",
       "...           ...        ...             ...  \n",
       "541216      18.00      12518         Germany  \n",
       "541540    1714.17        NaN  United Kingdom  \n",
       "541730      18.00      12662         Germany  \n",
       "541767      18.00      12526         Germany  \n",
       "541768      18.00      12713         Germany  \n",
       "\n",
       "[2399 rows x 8 columns]"
      ]
     },
     "execution_count": 27,
     "metadata": {},
     "output_type": "execute_result"
    }
   ],
   "source": [
    "filtered_stockcode = churn[churn['StockCode'].str.match(r'^[A-Za-z]', na=False)]\n",
    "filtered_stockcode[filtered_stockcode['Quantity'] > 0]"
   ]
  },
  {
   "cell_type": "code",
   "execution_count": 28,
   "id": "d6a5a1c2",
   "metadata": {},
   "outputs": [
    {
     "data": {
      "application/vnd.microsoft.datawrangler.viewer.v0+json": {
       "columns": [
        {
         "name": "StockCode",
         "rawType": "object",
         "type": "string"
        },
        {
         "name": "count",
         "rawType": "int64",
         "type": "integer"
        }
       ],
       "ref": "35f0361b-c392-4683-b2a4-6ae845ef00d7",
       "rows": [
        [
         "POST",
         "1130"
        ],
        [
         "DOT",
         "709"
        ],
        [
         "M",
         "327"
        ],
        [
         "C2",
         "142"
        ],
        [
         "DCGSSGIRL",
         "13"
        ],
        [
         "BANK CHARGES",
         "12"
        ],
        [
         "DCGSSBOY",
         "11"
        ],
        [
         "gift_0001_20",
         "10"
        ],
        [
         "gift_0001_10",
         "9"
        ],
        [
         "gift_0001_30",
         "8"
        ],
        [
         "DCGS0003",
         "4"
        ],
        [
         "PADS",
         "4"
        ],
        [
         "gift_0001_50",
         "4"
        ],
        [
         "B",
         "3"
        ],
        [
         "gift_0001_40",
         "3"
        ],
        [
         "AMAZONFEE",
         "2"
        ],
        [
         "DCGS0076",
         "2"
        ],
        [
         "S",
         "2"
        ],
        [
         "m",
         "1"
        ],
        [
         "DCGS0070",
         "1"
        ],
        [
         "DCGS0069",
         "1"
        ],
        [
         "DCGS0004",
         "1"
        ]
       ],
       "shape": {
        "columns": 1,
        "rows": 22
       }
      },
      "text/plain": [
       "StockCode\n",
       "POST            1130\n",
       "DOT              709\n",
       "M                327\n",
       "C2               142\n",
       "DCGSSGIRL         13\n",
       "BANK CHARGES      12\n",
       "DCGSSBOY          11\n",
       "gift_0001_20      10\n",
       "gift_0001_10       9\n",
       "gift_0001_30       8\n",
       "DCGS0003           4\n",
       "PADS               4\n",
       "gift_0001_50       4\n",
       "B                  3\n",
       "gift_0001_40       3\n",
       "AMAZONFEE          2\n",
       "DCGS0076           2\n",
       "S                  2\n",
       "m                  1\n",
       "DCGS0070           1\n",
       "DCGS0069           1\n",
       "DCGS0004           1\n",
       "Name: count, dtype: int64"
      ]
     },
     "execution_count": 28,
     "metadata": {},
     "output_type": "execute_result"
    }
   ],
   "source": [
    "filtered_stockcode[filtered_stockcode['Quantity'] > 0]['StockCode'].value_counts()"
   ]
  },
  {
   "cell_type": "code",
   "execution_count": 29,
   "id": "7efbea5c",
   "metadata": {},
   "outputs": [
    {
     "data": {
      "application/vnd.microsoft.datawrangler.viewer.v0+json": {
       "columns": [
        {
         "name": "index",
         "rawType": "int64",
         "type": "integer"
        },
        {
         "name": "InvoiceNo",
         "rawType": "object",
         "type": "string"
        },
        {
         "name": "StockCode",
         "rawType": "object",
         "type": "string"
        },
        {
         "name": "Description",
         "rawType": "object",
         "type": "string"
        },
        {
         "name": "Quantity",
         "rawType": "int64",
         "type": "integer"
        },
        {
         "name": "InvoiceDate",
         "rawType": "datetime64[ns]",
         "type": "datetime"
        },
        {
         "name": "UnitPrice",
         "rawType": "float64",
         "type": "float"
        },
        {
         "name": "CustomerID",
         "rawType": "object",
         "type": "string"
        },
        {
         "name": "Country",
         "rawType": "object",
         "type": "string"
        }
       ],
       "ref": "3f198d59-308b-4b6e-9ae0-7964f788f616",
       "rows": [
        [
         "141",
         "C536379",
         "D",
         "Discount",
         "-1",
         "2010-12-01 09:41:00",
         "27.5",
         "14527",
         "United Kingdom"
        ],
        [
         "9044",
         "C537164",
         "D",
         "Discount",
         "-1",
         "2010-12-05 13:21:00",
         "29.29",
         "14527",
         "United Kingdom"
        ],
        [
         "11284",
         "C538897",
         "D",
         "Discount",
         "-1",
         "2010-12-15 09:14:00",
         "5.76",
         "16422",
         "United Kingdom"
        ],
        [
         "11494",
         "C538897",
         "D",
         "Discount",
         "-1",
         "2010-12-15 09:14:00",
         "42.5",
         "16422",
         "United Kingdom"
        ],
        [
         "13061",
         "C537414",
         "POST",
         "POSTAGE",
         "-1",
         "2010-12-06 15:09:00",
         "4.41",
         "16861",
         "United Kingdom"
        ],
        [
         "14447",
         "C537572",
         "BANK CHARGES",
         "Bank Charges",
         "-1",
         "2010-12-07 12:00:00",
         "95.38",
         "NaN",
         "United Kingdom"
        ],
        [
         "14448",
         "C537581",
         "S",
         "SAMPLES",
         "-1",
         "2010-12-07 12:03:00",
         "12.95",
         "NaN",
         "United Kingdom"
        ],
        [
         "14449",
         "C537581",
         "S",
         "SAMPLES",
         "-1",
         "2010-12-07 12:03:00",
         "52.0",
         "NaN",
         "United Kingdom"
        ],
        [
         "14510",
         "C537597",
         "D",
         "Discount",
         "-1",
         "2010-12-07 12:34:00",
         "281.0",
         "15498",
         "United Kingdom"
        ],
        [
         "14526",
         "C537600",
         "AMAZONFEE",
         "AMAZON FEE",
         "-1",
         "2010-12-07 12:41:00",
         "1.0",
         "NaN",
         "United Kingdom"
        ],
        [
         "14728",
         "C537610",
         "M",
         "Manual",
         "-1",
         "2010-12-07 13:23:00",
         "631.31",
         "NaN",
         "United Kingdom"
        ],
        [
         "14740",
         "C537613",
         "M",
         "Manual",
         "-1",
         "2010-12-07 13:28:00",
         "313.78",
         "NaN",
         "United Kingdom"
        ],
        [
         "15028",
         "C537630",
         "AMAZONFEE",
         "AMAZON FEE",
         "-1",
         "2010-12-07 15:04:00",
         "13541.33",
         "NaN",
         "United Kingdom"
        ],
        [
         "16246",
         "C537644",
         "AMAZONFEE",
         "AMAZON FEE",
         "-1",
         "2010-12-07 15:34:00",
         "13474.79",
         "NaN",
         "United Kingdom"
        ],
        [
         "16327",
         "C537647",
         "AMAZONFEE",
         "AMAZON FEE",
         "-1",
         "2010-12-07 15:41:00",
         "5519.25",
         "NaN",
         "United Kingdom"
        ],
        [
         "16370",
         "C537651",
         "AMAZONFEE",
         "AMAZON FEE",
         "-1",
         "2010-12-07 15:49:00",
         "13541.33",
         "NaN",
         "United Kingdom"
        ],
        [
         "16371",
         "C537652",
         "AMAZONFEE",
         "AMAZON FEE",
         "-1",
         "2010-12-07 15:51:00",
         "6706.71",
         "NaN",
         "United Kingdom"
        ],
        [
         "19416",
         "C537857",
         "D",
         "Discount",
         "-1",
         "2010-12-08 16:00:00",
         "267.12",
         "17340",
         "United Kingdom"
        ],
        [
         "21786",
         "C538124",
         "M",
         "Manual",
         "-4",
         "2010-12-09 15:43:00",
         "0.5",
         "15329",
         "United Kingdom"
        ],
        [
         "23269",
         "C538189",
         "M",
         "Manual",
         "-1",
         "2010-12-10 10:35:00",
         "133.08",
         "NaN",
         "United Kingdom"
        ],
        [
         "29027",
         "C538680",
         "BANK CHARGES",
         "Bank Charges",
         "-1",
         "2010-12-13 17:10:00",
         "966.92",
         "NaN",
         "United Kingdom"
        ],
        [
         "29028",
         "C538681",
         "M",
         "Manual",
         "-1",
         "2010-12-13 17:12:00",
         "316.3",
         "NaN",
         "United Kingdom"
        ],
        [
         "29029",
         "C538682",
         "M",
         "Manual",
         "-1",
         "2010-12-13 17:14:00",
         "1130.9",
         "NaN",
         "United Kingdom"
        ],
        [
         "29566",
         "C538806",
         "M",
         "Manual",
         "-1",
         "2010-12-14 11:59:00",
         "4.25",
         "15181",
         "United Kingdom"
        ],
        [
         "31699",
         "C539003",
         "D",
         "Discount",
         "-1",
         "2010-12-15 12:35:00",
         "26.93",
         "14527",
         "United Kingdom"
        ],
        [
         "32422",
         "C539063",
         "POST",
         "POSTAGE",
         "-1",
         "2010-12-15 16:50:00",
         "12.34",
         "15107",
         "United Kingdom"
        ],
        [
         "32441",
         "C539073",
         "POST",
         "POSTAGE",
         "-1",
         "2010-12-15 17:08:00",
         "3.5",
         "12971",
         "United Kingdom"
        ],
        [
         "34635",
         "C539409",
         "POST",
         "POSTAGE",
         "-1",
         "2010-12-17 12:58:00",
         "18.0",
         "12720",
         "Germany"
        ],
        [
         "38660",
         "C539589",
         "D",
         "Discount",
         "-1",
         "2010-12-20 13:14:00",
         "13.88",
         "14527",
         "United Kingdom"
        ],
        [
         "39957",
         "C539712",
         "POST",
         "POSTAGE",
         "-1",
         "2010-12-21 12:40:00",
         "5.75",
         "15602",
         "United Kingdom"
        ],
        [
         "43506",
         "C540057",
         "POST",
         "POSTAGE",
         "-1",
         "2011-01-04 14:29:00",
         "40.0",
         "12483",
         "Sweden"
        ],
        [
         "43761",
         "C540117",
         "AMAZONFEE",
         "AMAZON FEE",
         "-1",
         "2011-01-05 09:55:00",
         "16888.02",
         "NaN",
         "United Kingdom"
        ],
        [
         "43762",
         "C540118",
         "AMAZONFEE",
         "AMAZON FEE",
         "-1",
         "2011-01-05 09:57:00",
         "16453.71",
         "NaN",
         "United Kingdom"
        ],
        [
         "44361",
         "C540164",
         "C2",
         "CARRIAGE",
         "-1",
         "2011-01-05 12:02:00",
         "50.0",
         "14911",
         "EIRE"
        ],
        [
         "44464",
         "C540171",
         "D",
         "Discount",
         "-1",
         "2011-01-05 12:26:00",
         "22.97",
         "14527",
         "United Kingdom"
        ],
        [
         "44632",
         "C543752",
         "D",
         "Discount",
         "-1",
         "2011-02-11 14:12:00",
         "64.27",
         "14031",
         "United Kingdom"
        ],
        [
         "45570",
         "C540266",
         "M",
         "Manual",
         "-1",
         "2011-01-06 11:05:00",
         "458.29",
         "NaN",
         "United Kingdom"
        ],
        [
         "45571",
         "C540266",
         "POST",
         "POSTAGE",
         "-1",
         "2011-01-06 11:05:00",
         "35.09",
         "NaN",
         "United Kingdom"
        ],
        [
         "45682",
         "C540271",
         "M",
         "Manual",
         "-1",
         "2011-01-06 11:51:00",
         "1126.0",
         "12503",
         "Spain"
        ],
        [
         "45973",
         "C540307",
         "M",
         "Manual",
         "-2",
         "2011-01-06 12:58:00",
         "21.95",
         "15823",
         "United Kingdom"
        ],
        [
         "46944",
         "C540367",
         "POST",
         "POSTAGE",
         "-3",
         "2011-01-06 16:17:00",
         "18.0",
         "12413",
         "France"
        ],
        [
         "47023",
         "C544580",
         "S",
         "SAMPLES",
         "-1",
         "2011-02-21 14:25:00",
         "5.74",
         "NaN",
         "United Kingdom"
        ],
        [
         "47094",
         "C544580",
         "S",
         "SAMPLES",
         "-1",
         "2011-02-21 14:25:00",
         "11.08",
         "NaN",
         "United Kingdom"
        ],
        [
         "47234",
         "C544580",
         "S",
         "SAMPLES",
         "-1",
         "2011-02-21 14:25:00",
         "5.79",
         "NaN",
         "United Kingdom"
        ],
        [
         "47655",
         "C544580",
         "S",
         "SAMPLES",
         "-1",
         "2011-02-21 14:25:00",
         "6.7",
         "NaN",
         "United Kingdom"
        ],
        [
         "47793",
         "C544580",
         "S",
         "SAMPLES",
         "-1",
         "2011-02-21 14:25:00",
         "8.74",
         "NaN",
         "United Kingdom"
        ],
        [
         "48298",
         "C544580",
         "S",
         "SAMPLES",
         "-1",
         "2011-02-21 14:25:00",
         "9.74",
         "NaN",
         "United Kingdom"
        ],
        [
         "49565",
         "C544580",
         "S",
         "SAMPLES",
         "-1",
         "2011-02-21 14:25:00",
         "9.99",
         "NaN",
         "United Kingdom"
        ],
        [
         "49844",
         "C544580",
         "S",
         "SAMPLES",
         "-1",
         "2011-02-21 14:25:00",
         "20.98",
         "NaN",
         "United Kingdom"
        ],
        [
         "49914",
         "C544580",
         "S",
         "SAMPLES",
         "-1",
         "2011-02-21 14:25:00",
         "7.69",
         "NaN",
         "United Kingdom"
        ]
       ],
       "shape": {
        "columns": 8,
        "rows": 596
       }
      },
      "text/html": [
       "<div>\n",
       "<style scoped>\n",
       "    .dataframe tbody tr th:only-of-type {\n",
       "        vertical-align: middle;\n",
       "    }\n",
       "\n",
       "    .dataframe tbody tr th {\n",
       "        vertical-align: top;\n",
       "    }\n",
       "\n",
       "    .dataframe thead th {\n",
       "        text-align: right;\n",
       "    }\n",
       "</style>\n",
       "<table border=\"1\" class=\"dataframe\">\n",
       "  <thead>\n",
       "    <tr style=\"text-align: right;\">\n",
       "      <th></th>\n",
       "      <th>InvoiceNo</th>\n",
       "      <th>StockCode</th>\n",
       "      <th>Description</th>\n",
       "      <th>Quantity</th>\n",
       "      <th>InvoiceDate</th>\n",
       "      <th>UnitPrice</th>\n",
       "      <th>CustomerID</th>\n",
       "      <th>Country</th>\n",
       "    </tr>\n",
       "  </thead>\n",
       "  <tbody>\n",
       "    <tr>\n",
       "      <th>141</th>\n",
       "      <td>C536379</td>\n",
       "      <td>D</td>\n",
       "      <td>Discount</td>\n",
       "      <td>-1</td>\n",
       "      <td>2010-12-01 09:41:00</td>\n",
       "      <td>27.50</td>\n",
       "      <td>14527</td>\n",
       "      <td>United Kingdom</td>\n",
       "    </tr>\n",
       "    <tr>\n",
       "      <th>9044</th>\n",
       "      <td>C537164</td>\n",
       "      <td>D</td>\n",
       "      <td>Discount</td>\n",
       "      <td>-1</td>\n",
       "      <td>2010-12-05 13:21:00</td>\n",
       "      <td>29.29</td>\n",
       "      <td>14527</td>\n",
       "      <td>United Kingdom</td>\n",
       "    </tr>\n",
       "    <tr>\n",
       "      <th>11284</th>\n",
       "      <td>C538897</td>\n",
       "      <td>D</td>\n",
       "      <td>Discount</td>\n",
       "      <td>-1</td>\n",
       "      <td>2010-12-15 09:14:00</td>\n",
       "      <td>5.76</td>\n",
       "      <td>16422</td>\n",
       "      <td>United Kingdom</td>\n",
       "    </tr>\n",
       "    <tr>\n",
       "      <th>11494</th>\n",
       "      <td>C538897</td>\n",
       "      <td>D</td>\n",
       "      <td>Discount</td>\n",
       "      <td>-1</td>\n",
       "      <td>2010-12-15 09:14:00</td>\n",
       "      <td>42.50</td>\n",
       "      <td>16422</td>\n",
       "      <td>United Kingdom</td>\n",
       "    </tr>\n",
       "    <tr>\n",
       "      <th>13061</th>\n",
       "      <td>C537414</td>\n",
       "      <td>POST</td>\n",
       "      <td>POSTAGE</td>\n",
       "      <td>-1</td>\n",
       "      <td>2010-12-06 15:09:00</td>\n",
       "      <td>4.41</td>\n",
       "      <td>16861</td>\n",
       "      <td>United Kingdom</td>\n",
       "    </tr>\n",
       "    <tr>\n",
       "      <th>...</th>\n",
       "      <td>...</td>\n",
       "      <td>...</td>\n",
       "      <td>...</td>\n",
       "      <td>...</td>\n",
       "      <td>...</td>\n",
       "      <td>...</td>\n",
       "      <td>...</td>\n",
       "      <td>...</td>\n",
       "    </tr>\n",
       "    <tr>\n",
       "      <th>528102</th>\n",
       "      <td>C580726</td>\n",
       "      <td>CRUK</td>\n",
       "      <td>CRUK Commission</td>\n",
       "      <td>-1</td>\n",
       "      <td>2011-12-05 17:17:00</td>\n",
       "      <td>1100.44</td>\n",
       "      <td>14096</td>\n",
       "      <td>United Kingdom</td>\n",
       "    </tr>\n",
       "    <tr>\n",
       "      <th>531628</th>\n",
       "      <td>C580957</td>\n",
       "      <td>POST</td>\n",
       "      <td>POSTAGE</td>\n",
       "      <td>-1</td>\n",
       "      <td>2011-12-06 14:23:00</td>\n",
       "      <td>4.50</td>\n",
       "      <td>12839</td>\n",
       "      <td>United Kingdom</td>\n",
       "    </tr>\n",
       "    <tr>\n",
       "      <th>533094</th>\n",
       "      <td>C581009</td>\n",
       "      <td>M</td>\n",
       "      <td>Manual</td>\n",
       "      <td>-1</td>\n",
       "      <td>2011-12-07 09:15:00</td>\n",
       "      <td>125.00</td>\n",
       "      <td>16971</td>\n",
       "      <td>United Kingdom</td>\n",
       "    </tr>\n",
       "    <tr>\n",
       "      <th>534319</th>\n",
       "      <td>C581145</td>\n",
       "      <td>M</td>\n",
       "      <td>Manual</td>\n",
       "      <td>-1</td>\n",
       "      <td>2011-12-07 13:48:00</td>\n",
       "      <td>9.95</td>\n",
       "      <td>17490</td>\n",
       "      <td>United Kingdom</td>\n",
       "    </tr>\n",
       "    <tr>\n",
       "      <th>541541</th>\n",
       "      <td>C581499</td>\n",
       "      <td>M</td>\n",
       "      <td>Manual</td>\n",
       "      <td>-1</td>\n",
       "      <td>2011-12-09 10:28:00</td>\n",
       "      <td>224.69</td>\n",
       "      <td>15498</td>\n",
       "      <td>United Kingdom</td>\n",
       "    </tr>\n",
       "  </tbody>\n",
       "</table>\n",
       "<p>596 rows × 8 columns</p>\n",
       "</div>"
      ],
      "text/plain": [
       "       InvoiceNo StockCode      Description  Quantity         InvoiceDate  \\\n",
       "141      C536379         D         Discount        -1 2010-12-01 09:41:00   \n",
       "9044     C537164         D         Discount        -1 2010-12-05 13:21:00   \n",
       "11284    C538897         D         Discount        -1 2010-12-15 09:14:00   \n",
       "11494    C538897         D         Discount        -1 2010-12-15 09:14:00   \n",
       "13061    C537414      POST          POSTAGE        -1 2010-12-06 15:09:00   \n",
       "...          ...       ...              ...       ...                 ...   \n",
       "528102   C580726      CRUK  CRUK Commission        -1 2011-12-05 17:17:00   \n",
       "531628   C580957      POST          POSTAGE        -1 2011-12-06 14:23:00   \n",
       "533094   C581009         M           Manual        -1 2011-12-07 09:15:00   \n",
       "534319   C581145         M           Manual        -1 2011-12-07 13:48:00   \n",
       "541541   C581499         M           Manual        -1 2011-12-09 10:28:00   \n",
       "\n",
       "        UnitPrice CustomerID         Country  \n",
       "141         27.50      14527  United Kingdom  \n",
       "9044        29.29      14527  United Kingdom  \n",
       "11284        5.76      16422  United Kingdom  \n",
       "11494       42.50      16422  United Kingdom  \n",
       "13061        4.41      16861  United Kingdom  \n",
       "...           ...        ...             ...  \n",
       "528102    1100.44      14096  United Kingdom  \n",
       "531628       4.50      12839  United Kingdom  \n",
       "533094     125.00      16971  United Kingdom  \n",
       "534319       9.95      17490  United Kingdom  \n",
       "541541     224.69      15498  United Kingdom  \n",
       "\n",
       "[596 rows x 8 columns]"
      ]
     },
     "execution_count": 29,
     "metadata": {},
     "output_type": "execute_result"
    }
   ],
   "source": [
    "filtered_stockcode[filtered_stockcode['Quantity'] < 0]"
   ]
  },
  {
   "cell_type": "code",
   "execution_count": 30,
   "id": "2a77c4fd",
   "metadata": {},
   "outputs": [
    {
     "data": {
      "application/vnd.microsoft.datawrangler.viewer.v0+json": {
       "columns": [
        {
         "name": "StockCode",
         "rawType": "object",
         "type": "string"
        },
        {
         "name": "count",
         "rawType": "int64",
         "type": "integer"
        }
       ],
       "ref": "1b702219-4959-4a49-b4fd-1c9852090c78",
       "rows": [
        [
         "M",
         "244"
        ],
        [
         "POST",
         "126"
        ],
        [
         "D",
         "77"
        ],
        [
         "S",
         "61"
        ],
        [
         "AMAZONFEE",
         "32"
        ],
        [
         "BANK CHARGES",
         "25"
        ],
        [
         "CRUK",
         "16"
        ],
        [
         "C2",
         "2"
        ],
        [
         "DCGS0055",
         "1"
        ],
        [
         "DCGS0074",
         "1"
        ],
        [
         "DOT",
         "1"
        ],
        [
         "DCGS0057",
         "1"
        ],
        [
         "DCGS0072",
         "1"
        ],
        [
         "DCGS0073",
         "1"
        ],
        [
         "DCGS0071",
         "1"
        ],
        [
         "DCGS0069",
         "1"
        ],
        [
         "DCGS0070",
         "1"
        ],
        [
         "DCGS0068",
         "1"
        ],
        [
         "DCGS0067",
         "1"
        ],
        [
         "DCGS0066P",
         "1"
        ],
        [
         "DCGS0003",
         "1"
        ]
       ],
       "shape": {
        "columns": 1,
        "rows": 21
       }
      },
      "text/plain": [
       "StockCode\n",
       "M               244\n",
       "POST            126\n",
       "D                77\n",
       "S                61\n",
       "AMAZONFEE        32\n",
       "BANK CHARGES     25\n",
       "CRUK             16\n",
       "C2                2\n",
       "DCGS0055          1\n",
       "DCGS0074          1\n",
       "DOT               1\n",
       "DCGS0057          1\n",
       "DCGS0072          1\n",
       "DCGS0073          1\n",
       "DCGS0071          1\n",
       "DCGS0069          1\n",
       "DCGS0070          1\n",
       "DCGS0068          1\n",
       "DCGS0067          1\n",
       "DCGS0066P         1\n",
       "DCGS0003          1\n",
       "Name: count, dtype: int64"
      ]
     },
     "execution_count": 30,
     "metadata": {},
     "output_type": "execute_result"
    }
   ],
   "source": [
    "filtered_stockcode[filtered_stockcode['Quantity'] < 0]['StockCode'].value_counts()"
   ]
  },
  {
   "cell_type": "markdown",
   "id": "3e770580",
   "metadata": {},
   "source": [
    "## Fechas"
   ]
  },
  {
   "cell_type": "code",
   "execution_count": 31,
   "id": "9985d830",
   "metadata": {},
   "outputs": [
    {
     "data": {
      "application/vnd.microsoft.datawrangler.viewer.v0+json": {
       "columns": [
        {
         "name": "index",
         "rawType": "object",
         "type": "string"
        },
        {
         "name": "InvoiceDate",
         "rawType": "object",
         "type": "unknown"
        }
       ],
       "ref": "c3ee00aa-b750-4792-9fda-b76a08f5be0b",
       "rows": [
        [
         "count",
         "541909"
        ],
        [
         "mean",
         "2011-07-04 13:34:57.156385536"
        ],
        [
         "min",
         "2010-12-01 08:26:00"
        ],
        [
         "25%",
         "2011-03-28 11:34:00"
        ],
        [
         "50%",
         "2011-07-19 17:17:00"
        ],
        [
         "75%",
         "2011-10-19 11:27:00"
        ],
        [
         "max",
         "2011-12-09 12:50:00"
        ]
       ],
       "shape": {
        "columns": 1,
        "rows": 7
       }
      },
      "text/html": [
       "<div>\n",
       "<style scoped>\n",
       "    .dataframe tbody tr th:only-of-type {\n",
       "        vertical-align: middle;\n",
       "    }\n",
       "\n",
       "    .dataframe tbody tr th {\n",
       "        vertical-align: top;\n",
       "    }\n",
       "\n",
       "    .dataframe thead th {\n",
       "        text-align: right;\n",
       "    }\n",
       "</style>\n",
       "<table border=\"1\" class=\"dataframe\">\n",
       "  <thead>\n",
       "    <tr style=\"text-align: right;\">\n",
       "      <th></th>\n",
       "      <th>InvoiceDate</th>\n",
       "    </tr>\n",
       "  </thead>\n",
       "  <tbody>\n",
       "    <tr>\n",
       "      <th>count</th>\n",
       "      <td>541909</td>\n",
       "    </tr>\n",
       "    <tr>\n",
       "      <th>mean</th>\n",
       "      <td>2011-07-04 13:34:57.156385536</td>\n",
       "    </tr>\n",
       "    <tr>\n",
       "      <th>min</th>\n",
       "      <td>2010-12-01 08:26:00</td>\n",
       "    </tr>\n",
       "    <tr>\n",
       "      <th>25%</th>\n",
       "      <td>2011-03-28 11:34:00</td>\n",
       "    </tr>\n",
       "    <tr>\n",
       "      <th>50%</th>\n",
       "      <td>2011-07-19 17:17:00</td>\n",
       "    </tr>\n",
       "    <tr>\n",
       "      <th>75%</th>\n",
       "      <td>2011-10-19 11:27:00</td>\n",
       "    </tr>\n",
       "    <tr>\n",
       "      <th>max</th>\n",
       "      <td>2011-12-09 12:50:00</td>\n",
       "    </tr>\n",
       "  </tbody>\n",
       "</table>\n",
       "</div>"
      ],
      "text/plain": [
       "                         InvoiceDate\n",
       "count                         541909\n",
       "mean   2011-07-04 13:34:57.156385536\n",
       "min              2010-12-01 08:26:00\n",
       "25%              2011-03-28 11:34:00\n",
       "50%              2011-07-19 17:17:00\n",
       "75%              2011-10-19 11:27:00\n",
       "max              2011-12-09 12:50:00"
      ]
     },
     "execution_count": 31,
     "metadata": {},
     "output_type": "execute_result"
    }
   ],
   "source": [
    "churn.describe(include=['datetime'])"
   ]
  },
  {
   "cell_type": "markdown",
   "id": "ac06dcfb",
   "metadata": {},
   "source": [
    "# Limpieza"
   ]
  },
  {
   "cell_type": "code",
   "execution_count": 32,
   "id": "93796b74",
   "metadata": {},
   "outputs": [],
   "source": [
    "churn = churn[(churn['UnitPrice'] > 0) & (churn['CustomerID'].notnull())]"
   ]
  },
  {
   "cell_type": "code",
   "execution_count": 33,
   "id": "58ede549",
   "metadata": {},
   "outputs": [
    {
     "data": {
      "application/vnd.microsoft.datawrangler.viewer.v0+json": {
       "columns": [
        {
         "name": "StockCode",
         "rawType": "object",
         "type": "string"
        },
        {
         "name": "count",
         "rawType": "int64",
         "type": "integer"
        }
       ],
       "ref": "9bab04f9-0f65-443e-9044-9a53a47943f2",
       "rows": [
        [
         "POST",
         "1252"
        ],
        [
         "DOT",
         "707"
        ],
        [
         "M",
         "565"
        ],
        [
         "C2",
         "143"
        ],
        [
         "D",
         "77"
        ],
        [
         "S",
         "63"
        ],
        [
         "BANK CHARGES",
         "37"
        ],
        [
         "AMAZONFEE",
         "34"
        ],
        [
         "CRUK",
         "16"
        ],
        [
         "DCGSSGIRL",
         "13"
        ],
        [
         "DCGSSBOY",
         "11"
        ],
        [
         "gift_0001_20",
         "9"
        ],
        [
         "gift_0001_10",
         "8"
        ],
        [
         "gift_0001_30",
         "7"
        ],
        [
         "DCGS0003",
         "4"
        ],
        [
         "gift_0001_50",
         "4"
        ],
        [
         "PADS",
         "3"
        ],
        [
         "gift_0001_40",
         "3"
        ],
        [
         "DCGS0076",
         "2"
        ],
        [
         "DCGS0070",
         "1"
        ],
        [
         "m",
         "1"
        ],
        [
         "DCGS0069",
         "1"
        ],
        [
         "DCGS0004",
         "1"
        ],
        [
         "B",
         "1"
        ]
       ],
       "shape": {
        "columns": 1,
        "rows": 24
       }
      },
      "text/plain": [
       "StockCode\n",
       "POST            1252\n",
       "DOT              707\n",
       "M                565\n",
       "C2               143\n",
       "D                 77\n",
       "S                 63\n",
       "BANK CHARGES      37\n",
       "AMAZONFEE         34\n",
       "CRUK              16\n",
       "DCGSSGIRL         13\n",
       "DCGSSBOY          11\n",
       "gift_0001_20       9\n",
       "gift_0001_10       8\n",
       "gift_0001_30       7\n",
       "DCGS0003           4\n",
       "gift_0001_50       4\n",
       "PADS               3\n",
       "gift_0001_40       3\n",
       "DCGS0076           2\n",
       "DCGS0070           1\n",
       "m                  1\n",
       "DCGS0069           1\n",
       "DCGS0004           1\n",
       "B                  1\n",
       "Name: count, dtype: int64"
      ]
     },
     "execution_count": 33,
     "metadata": {},
     "output_type": "execute_result"
    }
   ],
   "source": [
    "churn[churn['StockCode'].str.match(r'^[A-Za-z]', na=False)]['StockCode'].value_counts()"
   ]
  },
  {
   "cell_type": "code",
   "execution_count": 34,
   "id": "927bcb2b",
   "metadata": {},
   "outputs": [],
   "source": [
    "churn = churn[~churn['StockCode'].isin([\"POST\", \"M\", \"D\", \"C2\", \"DOT\", \"BANK CHARGES\", \"CRUK\", \"PADS\"])]"
   ]
  },
  {
   "cell_type": "code",
   "execution_count": 35,
   "id": "1d9352a4",
   "metadata": {},
   "outputs": [
    {
     "data": {
      "application/vnd.microsoft.datawrangler.viewer.v0+json": {
       "columns": [
        {
         "name": "index",
         "rawType": "object",
         "type": "string"
        },
        {
         "name": "Quantity",
         "rawType": "float64",
         "type": "float"
        },
        {
         "name": "UnitPrice",
         "rawType": "float64",
         "type": "float"
        }
       ],
       "ref": "5b54cff1-f1a5-4908-adbf-af7e1e86bcd5",
       "rows": [
        [
         "count",
         "536592.0",
         "536592.0"
        ],
        [
         "mean",
         "9.886498494200435",
         "3.7751602148373427"
        ],
        [
         "std",
         "215.93494781806456",
         "70.41285242435451"
        ],
        [
         "min",
         "-80995.0",
         "0.03"
        ],
        [
         "25%",
         "1.0",
         "1.25"
        ],
        [
         "50%",
         "3.0",
         "2.08"
        ],
        [
         "75%",
         "10.0",
         "4.13"
        ],
        [
         "max",
         "80995.0",
         "17836.46"
        ]
       ],
       "shape": {
        "columns": 2,
        "rows": 8
       }
      },
      "text/html": [
       "<div>\n",
       "<style scoped>\n",
       "    .dataframe tbody tr th:only-of-type {\n",
       "        vertical-align: middle;\n",
       "    }\n",
       "\n",
       "    .dataframe tbody tr th {\n",
       "        vertical-align: top;\n",
       "    }\n",
       "\n",
       "    .dataframe thead th {\n",
       "        text-align: right;\n",
       "    }\n",
       "</style>\n",
       "<table border=\"1\" class=\"dataframe\">\n",
       "  <thead>\n",
       "    <tr style=\"text-align: right;\">\n",
       "      <th></th>\n",
       "      <th>Quantity</th>\n",
       "      <th>UnitPrice</th>\n",
       "    </tr>\n",
       "  </thead>\n",
       "  <tbody>\n",
       "    <tr>\n",
       "      <th>count</th>\n",
       "      <td>536592.000000</td>\n",
       "      <td>536592.000000</td>\n",
       "    </tr>\n",
       "    <tr>\n",
       "      <th>mean</th>\n",
       "      <td>9.886498</td>\n",
       "      <td>3.775160</td>\n",
       "    </tr>\n",
       "    <tr>\n",
       "      <th>std</th>\n",
       "      <td>215.934948</td>\n",
       "      <td>70.412852</td>\n",
       "    </tr>\n",
       "    <tr>\n",
       "      <th>min</th>\n",
       "      <td>-80995.000000</td>\n",
       "      <td>0.030000</td>\n",
       "    </tr>\n",
       "    <tr>\n",
       "      <th>25%</th>\n",
       "      <td>1.000000</td>\n",
       "      <td>1.250000</td>\n",
       "    </tr>\n",
       "    <tr>\n",
       "      <th>50%</th>\n",
       "      <td>3.000000</td>\n",
       "      <td>2.080000</td>\n",
       "    </tr>\n",
       "    <tr>\n",
       "      <th>75%</th>\n",
       "      <td>10.000000</td>\n",
       "      <td>4.130000</td>\n",
       "    </tr>\n",
       "    <tr>\n",
       "      <th>max</th>\n",
       "      <td>80995.000000</td>\n",
       "      <td>17836.460000</td>\n",
       "    </tr>\n",
       "  </tbody>\n",
       "</table>\n",
       "</div>"
      ],
      "text/plain": [
       "            Quantity      UnitPrice\n",
       "count  536592.000000  536592.000000\n",
       "mean        9.886498       3.775160\n",
       "std       215.934948      70.412852\n",
       "min    -80995.000000       0.030000\n",
       "25%         1.000000       1.250000\n",
       "50%         3.000000       2.080000\n",
       "75%        10.000000       4.130000\n",
       "max     80995.000000   17836.460000"
      ]
     },
     "execution_count": 35,
     "metadata": {},
     "output_type": "execute_result"
    }
   ],
   "source": [
    "churn.describe(include='number')"
   ]
  },
  {
   "cell_type": "code",
   "execution_count": 36,
   "id": "a5ce73eb",
   "metadata": {},
   "outputs": [
    {
     "data": {
      "image/png": "[encoded data removed]",
      "text/plain": [
       "<Figure size 800x500 with 1 Axes>"
      ]
     },
     "metadata": {},
     "output_type": "display_data"
    }
   ],
   "source": [
    "plt.figure(figsize=(8, 5))\n",
    "sns.histplot(churn['Quantity'], bins=30, kde=True, color='blue', alpha=0.7)\n",
    "plt.title('Histogram of Quantity')\n",
    "plt.xlabel('Quantity')\n",
    "plt.ylabel('Density')\n",
    "plt.show()"
   ]
  },
  {
   "cell_type": "code",
   "execution_count": 37,
   "id": "6ea5de1f",
   "metadata": {},
   "outputs": [
    {
     "data": {
      "application/vnd.microsoft.datawrangler.viewer.v0+json": {
       "columns": [
        {
         "name": "index",
         "rawType": "int64",
         "type": "integer"
        },
        {
         "name": "InvoiceNo",
         "rawType": "object",
         "type": "string"
        },
        {
         "name": "StockCode",
         "rawType": "object",
         "type": "string"
        },
        {
         "name": "Description",
         "rawType": "object",
         "type": "string"
        },
        {
         "name": "Quantity",
         "rawType": "int64",
         "type": "integer"
        },
        {
         "name": "InvoiceDate",
         "rawType": "datetime64[ns]",
         "type": "datetime"
        },
        {
         "name": "UnitPrice",
         "rawType": "float64",
         "type": "float"
        },
        {
         "name": "CustomerID",
         "rawType": "object",
         "type": "string"
        },
        {
         "name": "Country",
         "rawType": "object",
         "type": "string"
        }
       ],
       "ref": "ae5c8dea-0ace-4957-80d2-8c5b14b4f42e",
       "rows": [
        [
         "154",
         "C536383",
         "35004C",
         "SET OF 3 COLOURED  FLYING DUCKS",
         "-1",
         "2010-12-01 09:49:00",
         "4.65",
         "15311",
         "United Kingdom"
        ],
        [
         "235",
         "C536391",
         "22556",
         "PLASTERS IN TIN CIRCUS PARADE ",
         "-12",
         "2010-12-01 10:24:00",
         "1.65",
         "17548",
         "United Kingdom"
        ],
        [
         "236",
         "C536391",
         "21984",
         "PACK OF 12 PINK PAISLEY TISSUES ",
         "-24",
         "2010-12-01 10:24:00",
         "0.29",
         "17548",
         "United Kingdom"
        ],
        [
         "237",
         "C536391",
         "21983",
         "PACK OF 12 BLUE PAISLEY TISSUES ",
         "-24",
         "2010-12-01 10:24:00",
         "0.29",
         "17548",
         "United Kingdom"
        ],
        [
         "238",
         "C536391",
         "21980",
         "PACK OF 12 RED RETROSPOT TISSUES ",
         "-24",
         "2010-12-01 10:24:00",
         "0.29",
         "17548",
         "United Kingdom"
        ],
        [
         "239",
         "C536391",
         "21484",
         "CHICK GREY HOT WATER BOTTLE",
         "-12",
         "2010-12-01 10:24:00",
         "3.45",
         "17548",
         "United Kingdom"
        ],
        [
         "240",
         "C536391",
         "22557",
         "PLASTERS IN TIN VINTAGE PAISLEY ",
         "-12",
         "2010-12-01 10:24:00",
         "1.65",
         "17548",
         "United Kingdom"
        ],
        [
         "241",
         "C536391",
         "22553",
         "PLASTERS IN TIN SKULLS",
         "-24",
         "2010-12-01 10:24:00",
         "1.65",
         "17548",
         "United Kingdom"
        ],
        [
         "942",
         "C536506",
         "22960",
         "JAM MAKING SET WITH JARS",
         "-6",
         "2010-12-01 12:38:00",
         "4.25",
         "17897",
         "United Kingdom"
        ],
        [
         "1446",
         "C536543",
         "22632",
         "HAND WARMER RED RETROSPOT",
         "-1",
         "2010-12-01 14:30:00",
         "2.1",
         "17841",
         "United Kingdom"
        ],
        [
         "1447",
         "C536543",
         "22355",
         "CHARLOTTE BAG SUKI DESIGN",
         "-2",
         "2010-12-01 14:30:00",
         "0.85",
         "17841",
         "United Kingdom"
        ],
        [
         "1979",
         "C536548",
         "22244",
         "3 HOOK HANGER MAGIC GARDEN",
         "-4",
         "2010-12-01 14:33:00",
         "1.95",
         "12472",
         "Germany"
        ],
        [
         "1980",
         "C536548",
         "22242",
         "5 HOOK HANGER MAGIC TOADSTOOL",
         "-5",
         "2010-12-01 14:33:00",
         "1.65",
         "12472",
         "Germany"
        ],
        [
         "1981",
         "C536548",
         "20914",
         "SET/5 RED RETROSPOT LID GLASS BOWLS",
         "-1",
         "2010-12-01 14:33:00",
         "2.95",
         "12472",
         "Germany"
        ],
        [
         "1982",
         "C536548",
         "22892",
         "SET OF SALT AND PEPPER TOADSTOOLS",
         "-7",
         "2010-12-01 14:33:00",
         "1.25",
         "12472",
         "Germany"
        ],
        [
         "1983",
         "C536548",
         "22654",
         "DELUXE SEWING KIT ",
         "-1",
         "2010-12-01 14:33:00",
         "5.95",
         "12472",
         "Germany"
        ],
        [
         "1984",
         "C536548",
         "22767",
         "TRIPLE PHOTO FRAME CORNICE ",
         "-2",
         "2010-12-01 14:33:00",
         "9.95",
         "12472",
         "Germany"
        ],
        [
         "1985",
         "C536548",
         "22333",
         "RETROSPOT PARTY BAG + STICKER SET",
         "-1",
         "2010-12-01 14:33:00",
         "1.65",
         "12472",
         "Germany"
        ],
        [
         "1986",
         "C536548",
         "22245",
         "HOOK, 1 HANGER ,MAGIC GARDEN",
         "-2",
         "2010-12-01 14:33:00",
         "0.85",
         "12472",
         "Germany"
        ],
        [
         "1987",
         "C536548",
         "22077",
         "6 RIBBONS RUSTIC CHARM",
         "-6",
         "2010-12-01 14:33:00",
         "1.65",
         "12472",
         "Germany"
        ],
        [
         "1988",
         "C536548",
         "22631",
         "CIRCUS PARADE LUNCH BOX ",
         "-1",
         "2010-12-01 14:33:00",
         "1.95",
         "12472",
         "Germany"
        ],
        [
         "1989",
         "C536548",
         "22168",
         "ORGANISER WOOD ANTIQUE WHITE ",
         "-2",
         "2010-12-01 14:33:00",
         "8.5",
         "12472",
         "Germany"
        ],
        [
         "1990",
         "C536548",
         "21218",
         "RED SPOTTY BISCUIT TIN",
         "-3",
         "2010-12-01 14:33:00",
         "3.75",
         "12472",
         "Germany"
        ],
        [
         "1991",
         "C536548",
         "20957",
         "PORCELAIN HANGING BELL SMALL",
         "-1",
         "2010-12-01 14:33:00",
         "1.45",
         "12472",
         "Germany"
        ],
        [
         "1992",
         "C536548",
         "22580",
         "ADVENT CALENDAR GINGHAM SACK",
         "-4",
         "2010-12-01 14:33:00",
         "5.95",
         "12472",
         "Germany"
        ],
        [
         "3176",
         "C536606",
         "20914",
         "SET/5 RED RETROSPOT LID GLASS BOWLS",
         "-2",
         "2010-12-02 09:10:00",
         "2.95",
         "14092",
         "United Kingdom"
        ],
        [
         "3344",
         "C536622",
         "22752",
         "SET 7 BABUSHKA NESTING BOXES",
         "-2",
         "2010-12-02 10:37:00",
         "8.5",
         "12471",
         "Germany"
        ],
        [
         "3417",
         "C536625",
         "22839",
         "3 TIER CAKE TIN GREEN AND CREAM",
         "-2",
         "2010-12-02 10:46:00",
         "14.95",
         "14766",
         "United Kingdom"
        ],
        [
         "3702",
         "C536642",
         "21463",
         "MIRRORED DISCO BALL ",
         "-1",
         "2010-12-02 11:56:00",
         "5.95",
         "14390",
         "United Kingdom"
        ],
        [
         "3921",
         "C536734",
         "22780",
         "LIGHT GARLAND BUTTERFILES PINK",
         "-4",
         "2010-12-02 12:50:00",
         "4.25",
         "16042",
         "United Kingdom"
        ],
        [
         "3922",
         "C536734",
         "85048",
         "15CM CHRISTMAS GLASS BALL 20 LIGHTS",
         "-1",
         "2010-12-02 12:50:00",
         "7.95",
         "16042",
         "United Kingdom"
        ],
        [
         "3929",
         "C536737",
         "22798",
         "ANTIQUE GLASS DRESSING TABLE POT",
         "-2",
         "2010-12-02 13:05:00",
         "2.95",
         "15922",
         "United Kingdom"
        ],
        [
         "4298",
         "C536757",
         "84347",
         "ROTATING SILVER ANGELS T-LIGHT HLDR",
         "-9360",
         "2010-12-02 14:23:00",
         "0.03",
         "15838",
         "United Kingdom"
        ],
        [
         "4299",
         "C536758",
         "21314",
         "SMALL GLASS HEART TRINKET POT",
         "-1",
         "2010-12-02 14:25:00",
         "2.1",
         "13767",
         "United Kingdom"
        ],
        [
         "4317",
         "C536760",
         "22175",
         "PINK OWL SOFT TOY",
         "-1",
         "2010-12-02 14:29:00",
         "2.95",
         "17547",
         "United Kingdom"
        ],
        [
         "4318",
         "C536760",
         "22273",
         "FELTCRAFT DOLL MOLLY",
         "-3",
         "2010-12-02 14:29:00",
         "2.95",
         "17547",
         "United Kingdom"
        ],
        [
         "4846",
         "C536807",
         "22501",
         "PICNIC BASKET WICKER LARGE",
         "-2",
         "2010-12-02 16:45:00",
         "9.95",
         "15834",
         "United Kingdom"
        ],
        [
         "4847",
         "C536807",
         "22778",
         "GLASS CLOCHE SMALL",
         "-1",
         "2010-12-02 16:45:00",
         "3.95",
         "15834",
         "United Kingdom"
        ],
        [
         "4863",
         "C536812",
         "22578",
         "WOODEN STAR CHRISTMAS SCANDINAVIAN",
         "-36",
         "2010-12-02 16:58:00",
         "0.85",
         "16546",
         "United Kingdom"
        ],
        [
         "4864",
         "C536812",
         "22574",
         "HEART WOODEN CHRISTMAS DECORATION",
         "-192",
         "2010-12-02 16:58:00",
         "0.72",
         "16546",
         "United Kingdom"
        ],
        [
         "4865",
         "C536812",
         "22593",
         "CHRISTMAS GINGHAM STAR",
         "-144",
         "2010-12-02 16:58:00",
         "0.72",
         "16546",
         "United Kingdom"
        ],
        [
         "4866",
         "C536812",
         "22595",
         "CHRISTMAS GINGHAM HEART",
         "-144",
         "2010-12-02 16:58:00",
         "0.72",
         "16546",
         "United Kingdom"
        ],
        [
         "4867",
         "C536812",
         "22588",
         "CARD HOLDER GINGHAM HEART",
         "-192",
         "2010-12-02 16:58:00",
         "2.1",
         "16546",
         "United Kingdom"
        ],
        [
         "4868",
         "C536812",
         "22130",
         "PARTY CONE CHRISTMAS DECORATION ",
         "-144",
         "2010-12-02 16:58:00",
         "0.72",
         "16546",
         "United Kingdom"
        ],
        [
         "4886",
         "C536814",
         "21527",
         "RED RETROSPOT TRADITIONAL TEAPOT ",
         "-2",
         "2010-12-02 17:03:00",
         "7.95",
         "13958",
         "United Kingdom"
        ],
        [
         "4887",
         "C536814",
         "72799E",
         "IVORY PILLAR CANDLE SILVER FLOCK",
         "-6",
         "2010-12-02 17:03:00",
         "2.95",
         "13958",
         "United Kingdom"
        ],
        [
         "4888",
         "C536814",
         "85066",
         "CREAM SWEETHEART MINI CHEST",
         "-2",
         "2010-12-02 17:03:00",
         "12.75",
         "13958",
         "United Kingdom"
        ],
        [
         "4889",
         "C536814",
         "21586",
         "KINGS CHOICE GIANT TUBE MATCHES",
         "-12",
         "2010-12-02 17:03:00",
         "2.55",
         "13958",
         "United Kingdom"
        ],
        [
         "4890",
         "C536814",
         "21258",
         "VICTORIAN SEWING BOX LARGE",
         "-1",
         "2010-12-02 17:03:00",
         "12.75",
         "13958",
         "United Kingdom"
        ],
        [
         "4891",
         "C536815",
         "85175",
         "CACTI T-LIGHT CANDLES",
         "-1",
         "2010-12-02 17:05:00",
         "0.42",
         "14443",
         "United Kingdom"
        ]
       ],
       "shape": {
        "columns": 8,
        "rows": 8797
       }
      },
      "text/html": [
       "<div>\n",
       "<style scoped>\n",
       "    .dataframe tbody tr th:only-of-type {\n",
       "        vertical-align: middle;\n",
       "    }\n",
       "\n",
       "    .dataframe tbody tr th {\n",
       "        vertical-align: top;\n",
       "    }\n",
       "\n",
       "    .dataframe thead th {\n",
       "        text-align: right;\n",
       "    }\n",
       "</style>\n",
       "<table border=\"1\" class=\"dataframe\">\n",
       "  <thead>\n",
       "    <tr style=\"text-align: right;\">\n",
       "      <th></th>\n",
       "      <th>InvoiceNo</th>\n",
       "      <th>StockCode</th>\n",
       "      <th>Description</th>\n",
       "      <th>Quantity</th>\n",
       "      <th>InvoiceDate</th>\n",
       "      <th>UnitPrice</th>\n",
       "      <th>CustomerID</th>\n",
       "      <th>Country</th>\n",
       "    </tr>\n",
       "  </thead>\n",
       "  <tbody>\n",
       "    <tr>\n",
       "      <th>154</th>\n",
       "      <td>C536383</td>\n",
       "      <td>35004C</td>\n",
       "      <td>SET OF 3 COLOURED  FLYING DUCKS</td>\n",
       "      <td>-1</td>\n",
       "      <td>2010-12-01 09:49:00</td>\n",
       "      <td>4.65</td>\n",
       "      <td>15311</td>\n",
       "      <td>United Kingdom</td>\n",
       "    </tr>\n",
       "    <tr>\n",
       "      <th>235</th>\n",
       "      <td>C536391</td>\n",
       "      <td>22556</td>\n",
       "      <td>PLASTERS IN TIN CIRCUS PARADE</td>\n",
       "      <td>-12</td>\n",
       "      <td>2010-12-01 10:24:00</td>\n",
       "      <td>1.65</td>\n",
       "      <td>17548</td>\n",
       "      <td>United Kingdom</td>\n",
       "    </tr>\n",
       "    <tr>\n",
       "      <th>236</th>\n",
       "      <td>C536391</td>\n",
       "      <td>21984</td>\n",
       "      <td>PACK OF 12 PINK PAISLEY TISSUES</td>\n",
       "      <td>-24</td>\n",
       "      <td>2010-12-01 10:24:00</td>\n",
       "      <td>0.29</td>\n",
       "      <td>17548</td>\n",
       "      <td>United Kingdom</td>\n",
       "    </tr>\n",
       "    <tr>\n",
       "      <th>237</th>\n",
       "      <td>C536391</td>\n",
       "      <td>21983</td>\n",
       "      <td>PACK OF 12 BLUE PAISLEY TISSUES</td>\n",
       "      <td>-24</td>\n",
       "      <td>2010-12-01 10:24:00</td>\n",
       "      <td>0.29</td>\n",
       "      <td>17548</td>\n",
       "      <td>United Kingdom</td>\n",
       "    </tr>\n",
       "    <tr>\n",
       "      <th>238</th>\n",
       "      <td>C536391</td>\n",
       "      <td>21980</td>\n",
       "      <td>PACK OF 12 RED RETROSPOT TISSUES</td>\n",
       "      <td>-24</td>\n",
       "      <td>2010-12-01 10:24:00</td>\n",
       "      <td>0.29</td>\n",
       "      <td>17548</td>\n",
       "      <td>United Kingdom</td>\n",
       "    </tr>\n",
       "    <tr>\n",
       "      <th>...</th>\n",
       "      <td>...</td>\n",
       "      <td>...</td>\n",
       "      <td>...</td>\n",
       "      <td>...</td>\n",
       "      <td>...</td>\n",
       "      <td>...</td>\n",
       "      <td>...</td>\n",
       "      <td>...</td>\n",
       "    </tr>\n",
       "    <tr>\n",
       "      <th>540451</th>\n",
       "      <td>C581490</td>\n",
       "      <td>22178</td>\n",
       "      <td>VICTORIAN GLASS HANGING T-LIGHT</td>\n",
       "      <td>-12</td>\n",
       "      <td>2011-12-09 09:57:00</td>\n",
       "      <td>1.95</td>\n",
       "      <td>14397</td>\n",
       "      <td>United Kingdom</td>\n",
       "    </tr>\n",
       "    <tr>\n",
       "      <th>540452</th>\n",
       "      <td>C581490</td>\n",
       "      <td>23144</td>\n",
       "      <td>ZINC T-LIGHT HOLDER STARS SMALL</td>\n",
       "      <td>-11</td>\n",
       "      <td>2011-12-09 09:57:00</td>\n",
       "      <td>0.83</td>\n",
       "      <td>14397</td>\n",
       "      <td>United Kingdom</td>\n",
       "    </tr>\n",
       "    <tr>\n",
       "      <th>541715</th>\n",
       "      <td>C581568</td>\n",
       "      <td>21258</td>\n",
       "      <td>VICTORIAN SEWING BOX LARGE</td>\n",
       "      <td>-5</td>\n",
       "      <td>2011-12-09 11:57:00</td>\n",
       "      <td>10.95</td>\n",
       "      <td>15311</td>\n",
       "      <td>United Kingdom</td>\n",
       "    </tr>\n",
       "    <tr>\n",
       "      <th>541716</th>\n",
       "      <td>C581569</td>\n",
       "      <td>84978</td>\n",
       "      <td>HANGING HEART JAR T-LIGHT HOLDER</td>\n",
       "      <td>-1</td>\n",
       "      <td>2011-12-09 11:58:00</td>\n",
       "      <td>1.25</td>\n",
       "      <td>17315</td>\n",
       "      <td>United Kingdom</td>\n",
       "    </tr>\n",
       "    <tr>\n",
       "      <th>541717</th>\n",
       "      <td>C581569</td>\n",
       "      <td>20979</td>\n",
       "      <td>36 PENCILS TUBE RED RETROSPOT</td>\n",
       "      <td>-5</td>\n",
       "      <td>2011-12-09 11:58:00</td>\n",
       "      <td>1.25</td>\n",
       "      <td>17315</td>\n",
       "      <td>United Kingdom</td>\n",
       "    </tr>\n",
       "  </tbody>\n",
       "</table>\n",
       "<p>8797 rows × 8 columns</p>\n",
       "</div>"
      ],
      "text/plain": [
       "       InvoiceNo StockCode                        Description  Quantity  \\\n",
       "154      C536383    35004C    SET OF 3 COLOURED  FLYING DUCKS        -1   \n",
       "235      C536391     22556     PLASTERS IN TIN CIRCUS PARADE        -12   \n",
       "236      C536391     21984   PACK OF 12 PINK PAISLEY TISSUES        -24   \n",
       "237      C536391     21983   PACK OF 12 BLUE PAISLEY TISSUES        -24   \n",
       "238      C536391     21980  PACK OF 12 RED RETROSPOT TISSUES        -24   \n",
       "...          ...       ...                                ...       ...   \n",
       "540451   C581490     22178    VICTORIAN GLASS HANGING T-LIGHT       -12   \n",
       "540452   C581490     23144    ZINC T-LIGHT HOLDER STARS SMALL       -11   \n",
       "541715   C581568     21258         VICTORIAN SEWING BOX LARGE        -5   \n",
       "541716   C581569     84978   HANGING HEART JAR T-LIGHT HOLDER        -1   \n",
       "541717   C581569     20979      36 PENCILS TUBE RED RETROSPOT        -5   \n",
       "\n",
       "               InvoiceDate  UnitPrice CustomerID         Country  \n",
       "154    2010-12-01 09:49:00       4.65      15311  United Kingdom  \n",
       "235    2010-12-01 10:24:00       1.65      17548  United Kingdom  \n",
       "236    2010-12-01 10:24:00       0.29      17548  United Kingdom  \n",
       "237    2010-12-01 10:24:00       0.29      17548  United Kingdom  \n",
       "238    2010-12-01 10:24:00       0.29      17548  United Kingdom  \n",
       "...                    ...        ...        ...             ...  \n",
       "540451 2011-12-09 09:57:00       1.95      14397  United Kingdom  \n",
       "540452 2011-12-09 09:57:00       0.83      14397  United Kingdom  \n",
       "541715 2011-12-09 11:57:00      10.95      15311  United Kingdom  \n",
       "541716 2011-12-09 11:58:00       1.25      17315  United Kingdom  \n",
       "541717 2011-12-09 11:58:00       1.25      17315  United Kingdom  \n",
       "\n",
       "[8797 rows x 8 columns]"
      ]
     },
     "execution_count": 37,
     "metadata": {},
     "output_type": "execute_result"
    }
   ],
   "source": [
    "churn[churn['Quantity'] < 0]"
   ]
  },
  {
   "cell_type": "code",
   "execution_count": 38,
   "id": "4d06b78c",
   "metadata": {},
   "outputs": [
    {
     "data": {
      "application/vnd.microsoft.datawrangler.viewer.v0+json": {
       "columns": [
        {
         "name": "index",
         "rawType": "object",
         "type": "string"
        },
        {
         "name": "InvoiceDate",
         "rawType": "object",
         "type": "unknown"
        }
       ],
       "ref": "7e6d9d0b-7b17-46bd-aa4a-b0f378f03830",
       "rows": [
        [
         "count",
         "536592"
        ],
        [
         "mean",
         "2011-07-04 17:49:21.773974016"
        ],
        [
         "min",
         "2010-12-01 08:26:00"
        ],
        [
         "25%",
         "2011-03-28 11:59:00"
        ],
        [
         "50%",
         "2011-07-20 12:01:00"
        ],
        [
         "75%",
         "2011-10-19 11:52:00"
        ],
        [
         "max",
         "2011-12-09 12:50:00"
        ]
       ],
       "shape": {
        "columns": 1,
        "rows": 7
       }
      },
      "text/html": [
       "<div>\n",
       "<style scoped>\n",
       "    .dataframe tbody tr th:only-of-type {\n",
       "        vertical-align: middle;\n",
       "    }\n",
       "\n",
       "    .dataframe tbody tr th {\n",
       "        vertical-align: top;\n",
       "    }\n",
       "\n",
       "    .dataframe thead th {\n",
       "        text-align: right;\n",
       "    }\n",
       "</style>\n",
       "<table border=\"1\" class=\"dataframe\">\n",
       "  <thead>\n",
       "    <tr style=\"text-align: right;\">\n",
       "      <th></th>\n",
       "      <th>InvoiceDate</th>\n",
       "    </tr>\n",
       "  </thead>\n",
       "  <tbody>\n",
       "    <tr>\n",
       "      <th>count</th>\n",
       "      <td>536592</td>\n",
       "    </tr>\n",
       "    <tr>\n",
       "      <th>mean</th>\n",
       "      <td>2011-07-04 17:49:21.773974016</td>\n",
       "    </tr>\n",
       "    <tr>\n",
       "      <th>min</th>\n",
       "      <td>2010-12-01 08:26:00</td>\n",
       "    </tr>\n",
       "    <tr>\n",
       "      <th>25%</th>\n",
       "      <td>2011-03-28 11:59:00</td>\n",
       "    </tr>\n",
       "    <tr>\n",
       "      <th>50%</th>\n",
       "      <td>2011-07-20 12:01:00</td>\n",
       "    </tr>\n",
       "    <tr>\n",
       "      <th>75%</th>\n",
       "      <td>2011-10-19 11:52:00</td>\n",
       "    </tr>\n",
       "    <tr>\n",
       "      <th>max</th>\n",
       "      <td>2011-12-09 12:50:00</td>\n",
       "    </tr>\n",
       "  </tbody>\n",
       "</table>\n",
       "</div>"
      ],
      "text/plain": [
       "                         InvoiceDate\n",
       "count                         536592\n",
       "mean   2011-07-04 17:49:21.773974016\n",
       "min              2010-12-01 08:26:00\n",
       "25%              2011-03-28 11:59:00\n",
       "50%              2011-07-20 12:01:00\n",
       "75%              2011-10-19 11:52:00\n",
       "max              2011-12-09 12:50:00"
      ]
     },
     "execution_count": 38,
     "metadata": {},
     "output_type": "execute_result"
    }
   ],
   "source": [
    "churn.describe(include='datetime')"
   ]
  },
  {
   "cell_type": "code",
   "execution_count": 39,
   "id": "f231f231",
   "metadata": {},
   "outputs": [
    {
     "name": "stdout",
     "output_type": "stream",
     "text": [
      "Column: InvoiceNo\n",
      "Unique values: 23249\n",
      "Missing values: 0\n",
      "--------------------------------------------------\n",
      "Column: StockCode\n",
      "Unique values: 3930\n",
      "Missing values: 0\n",
      "--------------------------------------------------\n",
      "Column: Description\n",
      "Unique values: 4035\n",
      "Missing values: 0\n",
      "--------------------------------------------------\n",
      "Column: CustomerID\n",
      "Unique values: 4363\n",
      "Missing values: 0\n",
      "--------------------------------------------------\n",
      "Column: Country\n",
      "Unique values: 38\n",
      "Missing values: 0\n",
      "--------------------------------------------------\n"
     ]
    }
   ],
   "source": [
    "for col in churn.columns:\n",
    "    if churn[col].dtype == 'object':\n",
    "        print(f\"Column: {col}\")\n",
    "        print(f\"Unique values: {churn[col].nunique()}\")\n",
    "        print(f\"Missing values: {churn[col].isnull().sum()}\")\n",
    "        print(\"-\" * 50)"
   ]
  },
  {
   "cell_type": "code",
   "execution_count": 40,
   "id": "28e58c61",
   "metadata": {},
   "outputs": [
    {
     "data": {
      "application/vnd.microsoft.datawrangler.viewer.v0+json": {
       "columns": [
        {
         "name": "index",
         "rawType": "int64",
         "type": "integer"
        },
        {
         "name": "InvoiceNo",
         "rawType": "object",
         "type": "string"
        },
        {
         "name": "StockCode",
         "rawType": "object",
         "type": "string"
        },
        {
         "name": "Description",
         "rawType": "object",
         "type": "string"
        },
        {
         "name": "Quantity",
         "rawType": "int64",
         "type": "integer"
        },
        {
         "name": "InvoiceDate",
         "rawType": "datetime64[ns]",
         "type": "datetime"
        },
        {
         "name": "UnitPrice",
         "rawType": "float64",
         "type": "float"
        },
        {
         "name": "CustomerID",
         "rawType": "object",
         "type": "string"
        },
        {
         "name": "Country",
         "rawType": "object",
         "type": "string"
        }
       ],
       "ref": "eb411e78-8b9a-4790-9fae-e311bb6e47d4",
       "rows": [
        [
         "496",
         "536409",
         "21866",
         "UNION JACK FLAG LUGGAGE TAG",
         "1",
         "2010-12-01 11:45:00",
         "1.25",
         "17908",
         "United Kingdom"
        ],
        [
         "519",
         "536409",
         "21866",
         "UNION JACK FLAG LUGGAGE TAG",
         "1",
         "2010-12-01 11:45:00",
         "1.25",
         "17908",
         "United Kingdom"
        ],
        [
         "486",
         "536409",
         "22111",
         "SCOTTIE DOG HOT WATER BOTTLE",
         "1",
         "2010-12-01 11:45:00",
         "4.95",
         "17908",
         "United Kingdom"
        ],
        [
         "541",
         "536409",
         "22111",
         "SCOTTIE DOG HOT WATER BOTTLE",
         "1",
         "2010-12-01 11:45:00",
         "4.95",
         "17908",
         "United Kingdom"
        ],
        [
         "491",
         "536409",
         "22866",
         "HAND WARMER SCOTTY DOG DESIGN",
         "1",
         "2010-12-01 11:45:00",
         "2.1",
         "17908",
         "United Kingdom"
        ],
        [
         "529",
         "536409",
         "22866",
         "HAND WARMER SCOTTY DOG DESIGN",
         "1",
         "2010-12-01 11:45:00",
         "2.1",
         "17908",
         "United Kingdom"
        ],
        [
         "523",
         "536409",
         "22900",
         " SET 2 TEA TOWELS I LOVE LONDON ",
         "1",
         "2010-12-01 11:45:00",
         "2.95",
         "17908",
         "United Kingdom"
        ],
        [
         "539",
         "536409",
         "22900",
         " SET 2 TEA TOWELS I LOVE LONDON ",
         "1",
         "2010-12-01 11:45:00",
         "2.95",
         "17908",
         "United Kingdom"
        ],
        [
         "567",
         "536412",
         "21448",
         "12 DAISY PEGS IN WOOD BOX",
         "2",
         "2010-12-01 11:49:00",
         "1.65",
         "17920",
         "United Kingdom"
        ],
        [
         "580",
         "536412",
         "21448",
         "12 DAISY PEGS IN WOOD BOX",
         "1",
         "2010-12-01 11:49:00",
         "1.65",
         "17920",
         "United Kingdom"
        ],
        [
         "600",
         "536412",
         "21448",
         "12 DAISY PEGS IN WOOD BOX",
         "1",
         "2010-12-01 11:49:00",
         "1.65",
         "17920",
         "United Kingdom"
        ],
        [
         "603",
         "536412",
         "21448",
         "12 DAISY PEGS IN WOOD BOX",
         "2",
         "2010-12-01 11:49:00",
         "1.65",
         "17920",
         "United Kingdom"
        ],
        [
         "606",
         "536412",
         "21448",
         "12 DAISY PEGS IN WOOD BOX",
         "2",
         "2010-12-01 11:49:00",
         "1.65",
         "17920",
         "United Kingdom"
        ],
        [
         "614",
         "536412",
         "21706",
         "FOLDING UMBRELLA RED/WHITE POLKADOT",
         "1",
         "2010-12-01 11:49:00",
         "4.95",
         "17920",
         "United Kingdom"
        ],
        [
         "620",
         "536412",
         "21706",
         "FOLDING UMBRELLA RED/WHITE POLKADOT",
         "1",
         "2010-12-01 11:49:00",
         "4.95",
         "17920",
         "United Kingdom"
        ],
        [
         "609",
         "536412",
         "21708",
         "FOLDING UMBRELLA CREAM POLKADOT",
         "1",
         "2010-12-01 11:49:00",
         "4.95",
         "17920",
         "United Kingdom"
        ],
        [
         "618",
         "536412",
         "21708",
         "FOLDING UMBRELLA CREAM POLKADOT",
         "1",
         "2010-12-01 11:49:00",
         "4.95",
         "17920",
         "United Kingdom"
        ],
        [
         "576",
         "536412",
         "22141",
         "CHRISTMAS CRAFT TREE TOP ANGEL",
         "1",
         "2010-12-01 11:49:00",
         "2.1",
         "17920",
         "United Kingdom"
        ],
        [
         "596",
         "536412",
         "22141",
         "CHRISTMAS CRAFT TREE TOP ANGEL",
         "1",
         "2010-12-01 11:49:00",
         "2.1",
         "17920",
         "United Kingdom"
        ],
        [
         "558",
         "536412",
         "22273",
         "FELTCRAFT DOLL MOLLY",
         "1",
         "2010-12-01 11:49:00",
         "2.95",
         "17920",
         "United Kingdom"
        ],
        [
         "589",
         "536412",
         "22273",
         "FELTCRAFT DOLL MOLLY",
         "1",
         "2010-12-01 11:49:00",
         "2.95",
         "17920",
         "United Kingdom"
        ],
        [
         "550",
         "536412",
         "22327",
         "ROUND SNACK BOXES SET OF 4 SKULLS",
         "1",
         "2010-12-01 11:49:00",
         "2.95",
         "17920",
         "United Kingdom"
        ],
        [
         "557",
         "536412",
         "22327",
         "ROUND SNACK BOXES SET OF 4 SKULLS",
         "1",
         "2010-12-01 11:49:00",
         "2.95",
         "17920",
         "United Kingdom"
        ],
        [
         "599",
         "536412",
         "22569",
         "FELTCRAFT CUSHION BUTTERFLY",
         "2",
         "2010-12-01 11:49:00",
         "3.75",
         "17920",
         "United Kingdom"
        ],
        [
         "602",
         "536412",
         "22569",
         "FELTCRAFT CUSHION BUTTERFLY",
         "2",
         "2010-12-01 11:49:00",
         "3.75",
         "17920",
         "United Kingdom"
        ],
        [
         "571",
         "536412",
         "22749",
         "FELTCRAFT PRINCESS CHARLOTTE DOLL",
         "1",
         "2010-12-01 11:49:00",
         "3.75",
         "17920",
         "United Kingdom"
        ],
        [
         "591",
         "536412",
         "22749",
         "FELTCRAFT PRINCESS CHARLOTTE DOLL",
         "1",
         "2010-12-01 11:49:00",
         "3.75",
         "17920",
         "United Kingdom"
        ],
        [
         "613",
         "536412",
         "22900",
         " SET 2 TEA TOWELS I LOVE LONDON ",
         "2",
         "2010-12-01 11:49:00",
         "2.95",
         "17920",
         "United Kingdom"
        ],
        [
         "619",
         "536412",
         "22900",
         " SET 2 TEA TOWELS I LOVE LONDON ",
         "2",
         "2010-12-01 11:49:00",
         "2.95",
         "17920",
         "United Kingdom"
        ],
        [
         "605",
         "536412",
         "22902",
         "TOTE BAG I LOVE LONDON",
         "7",
         "2010-12-01 11:49:00",
         "2.1",
         "17920",
         "United Kingdom"
        ],
        [
         "607",
         "536412",
         "22902",
         "TOTE BAG I LOVE LONDON",
         "7",
         "2010-12-01 11:49:00",
         "2.1",
         "17920",
         "United Kingdom"
        ],
        [
         "617",
         "536412",
         "85184C",
         "S/4 VALENTINE DECOUPAGE HEART BOX",
         "1",
         "2010-12-01 11:49:00",
         "2.95",
         "17920",
         "United Kingdom"
        ],
        [
         "622",
         "536412",
         "85184C",
         "S/4 VALENTINE DECOUPAGE HEART BOX",
         "1",
         "2010-12-01 11:49:00",
         "2.95",
         "17920",
         "United Kingdom"
        ],
        [
         "759",
         "536446",
         "21651",
         "HANGING GLASS ETCHED TEALIGHT",
         "6",
         "2010-12-01 12:15:00",
         "1.65",
         "15983",
         "United Kingdom"
        ],
        [
         "760",
         "536446",
         "21651",
         "HANGING GLASS ETCHED TEALIGHT",
         "6",
         "2010-12-01 12:15:00",
         "1.65",
         "15983",
         "United Kingdom"
        ],
        [
         "810",
         "536464",
         "21992",
         "VINTAGE PAISLEY STATIONERY SET",
         "1",
         "2010-12-01 12:23:00",
         "2.95",
         "17968",
         "United Kingdom"
        ],
        [
         "854",
         "536464",
         "21992",
         "VINTAGE PAISLEY STATIONERY SET",
         "1",
         "2010-12-01 12:23:00",
         "2.95",
         "17968",
         "United Kingdom"
        ],
        [
         "831",
         "536464",
         "22866",
         "HAND WARMER SCOTTY DOG DESIGN",
         "1",
         "2010-12-01 12:23:00",
         "2.1",
         "17968",
         "United Kingdom"
        ],
        [
         "833",
         "536464",
         "22866",
         "HAND WARMER SCOTTY DOG DESIGN",
         "1",
         "2010-12-01 12:23:00",
         "2.1",
         "17968",
         "United Kingdom"
        ],
        [
         "861",
         "536464",
         "22866",
         "HAND WARMER SCOTTY DOG DESIGN",
         "1",
         "2010-12-01 12:23:00",
         "2.1",
         "17968",
         "United Kingdom"
        ],
        [
         "815",
         "536464",
         "22945",
         "CHRISTMAS METAL TAGS ASSORTED ",
         "6",
         "2010-12-01 12:23:00",
         "0.85",
         "17968",
         "United Kingdom"
        ],
        [
         "837",
         "536464",
         "22945",
         "CHRISTMAS METAL TAGS ASSORTED ",
         "6",
         "2010-12-01 12:23:00",
         "0.85",
         "17968",
         "United Kingdom"
        ],
        [
         "892",
         "536488",
         "84347",
         "ROTATING SILVER ANGELS T-LIGHT HLDR",
         "1",
         "2010-12-01 12:31:00",
         "2.55",
         "17897",
         "United Kingdom"
        ],
        [
         "893",
         "536488",
         "84347",
         "ROTATING SILVER ANGELS T-LIGHT HLDR",
         "1",
         "2010-12-01 12:31:00",
         "2.55",
         "17897",
         "United Kingdom"
        ],
        [
         "1039",
         "536522",
         "21121",
         "SET/10 RED POLKADOT PARTY CANDLES",
         "1",
         "2010-12-01 12:49:00",
         "1.25",
         "15012",
         "United Kingdom"
        ],
        [
         "1064",
         "536522",
         "21121",
         "SET/10 RED POLKADOT PARTY CANDLES",
         "1",
         "2010-12-01 12:49:00",
         "1.25",
         "15012",
         "United Kingdom"
        ],
        [
         "1065",
         "536522",
         "21122",
         "SET/10 PINK POLKADOT PARTY CANDLES",
         "1",
         "2010-12-01 12:49:00",
         "1.25",
         "15012",
         "United Kingdom"
        ],
        [
         "1070",
         "536522",
         "21122",
         "SET/10 PINK POLKADOT PARTY CANDLES",
         "1",
         "2010-12-01 12:49:00",
         "1.25",
         "15012",
         "United Kingdom"
        ],
        [
         "1139",
         "536528",
         "22411",
         "JUMBO SHOPPER VINTAGE RED PAISLEY",
         "1",
         "2010-12-01 13:17:00",
         "1.95",
         "15525",
         "United Kingdom"
        ],
        [
         "1172",
         "536528",
         "22411",
         "JUMBO SHOPPER VINTAGE RED PAISLEY",
         "1",
         "2010-12-01 13:17:00",
         "1.95",
         "15525",
         "United Kingdom"
        ]
       ],
       "shape": {
        "columns": 8,
        "rows": 10131
       }
      },
      "text/html": [
       "<div>\n",
       "<style scoped>\n",
       "    .dataframe tbody tr th:only-of-type {\n",
       "        vertical-align: middle;\n",
       "    }\n",
       "\n",
       "    .dataframe tbody tr th {\n",
       "        vertical-align: top;\n",
       "    }\n",
       "\n",
       "    .dataframe thead th {\n",
       "        text-align: right;\n",
       "    }\n",
       "</style>\n",
       "<table border=\"1\" class=\"dataframe\">\n",
       "  <thead>\n",
       "    <tr style=\"text-align: right;\">\n",
       "      <th></th>\n",
       "      <th>InvoiceNo</th>\n",
       "      <th>StockCode</th>\n",
       "      <th>Description</th>\n",
       "      <th>Quantity</th>\n",
       "      <th>InvoiceDate</th>\n",
       "      <th>UnitPrice</th>\n",
       "      <th>CustomerID</th>\n",
       "      <th>Country</th>\n",
       "    </tr>\n",
       "  </thead>\n",
       "  <tbody>\n",
       "    <tr>\n",
       "      <th>496</th>\n",
       "      <td>536409</td>\n",
       "      <td>21866</td>\n",
       "      <td>UNION JACK FLAG LUGGAGE TAG</td>\n",
       "      <td>1</td>\n",
       "      <td>2010-12-01 11:45:00</td>\n",
       "      <td>1.25</td>\n",
       "      <td>17908</td>\n",
       "      <td>United Kingdom</td>\n",
       "    </tr>\n",
       "    <tr>\n",
       "      <th>519</th>\n",
       "      <td>536409</td>\n",
       "      <td>21866</td>\n",
       "      <td>UNION JACK FLAG LUGGAGE TAG</td>\n",
       "      <td>1</td>\n",
       "      <td>2010-12-01 11:45:00</td>\n",
       "      <td>1.25</td>\n",
       "      <td>17908</td>\n",
       "      <td>United Kingdom</td>\n",
       "    </tr>\n",
       "    <tr>\n",
       "      <th>486</th>\n",
       "      <td>536409</td>\n",
       "      <td>22111</td>\n",
       "      <td>SCOTTIE DOG HOT WATER BOTTLE</td>\n",
       "      <td>1</td>\n",
       "      <td>2010-12-01 11:45:00</td>\n",
       "      <td>4.95</td>\n",
       "      <td>17908</td>\n",
       "      <td>United Kingdom</td>\n",
       "    </tr>\n",
       "    <tr>\n",
       "      <th>541</th>\n",
       "      <td>536409</td>\n",
       "      <td>22111</td>\n",
       "      <td>SCOTTIE DOG HOT WATER BOTTLE</td>\n",
       "      <td>1</td>\n",
       "      <td>2010-12-01 11:45:00</td>\n",
       "      <td>4.95</td>\n",
       "      <td>17908</td>\n",
       "      <td>United Kingdom</td>\n",
       "    </tr>\n",
       "    <tr>\n",
       "      <th>491</th>\n",
       "      <td>536409</td>\n",
       "      <td>22866</td>\n",
       "      <td>HAND WARMER SCOTTY DOG DESIGN</td>\n",
       "      <td>1</td>\n",
       "      <td>2010-12-01 11:45:00</td>\n",
       "      <td>2.10</td>\n",
       "      <td>17908</td>\n",
       "      <td>United Kingdom</td>\n",
       "    </tr>\n",
       "    <tr>\n",
       "      <th>...</th>\n",
       "      <td>...</td>\n",
       "      <td>...</td>\n",
       "      <td>...</td>\n",
       "      <td>...</td>\n",
       "      <td>...</td>\n",
       "      <td>...</td>\n",
       "      <td>...</td>\n",
       "      <td>...</td>\n",
       "    </tr>\n",
       "    <tr>\n",
       "      <th>440209</th>\n",
       "      <td>C574510</td>\n",
       "      <td>22360</td>\n",
       "      <td>GLASS JAR ENGLISH CONFECTIONERY</td>\n",
       "      <td>-1</td>\n",
       "      <td>2011-11-04 13:25:00</td>\n",
       "      <td>2.95</td>\n",
       "      <td>15110</td>\n",
       "      <td>United Kingdom</td>\n",
       "    </tr>\n",
       "    <tr>\n",
       "      <th>461456</th>\n",
       "      <td>C575940</td>\n",
       "      <td>23309</td>\n",
       "      <td>SET OF 60 I LOVE LONDON CAKE CASES</td>\n",
       "      <td>-24</td>\n",
       "      <td>2011-11-13 11:38:00</td>\n",
       "      <td>0.55</td>\n",
       "      <td>17838</td>\n",
       "      <td>United Kingdom</td>\n",
       "    </tr>\n",
       "    <tr>\n",
       "      <th>461457</th>\n",
       "      <td>C575940</td>\n",
       "      <td>23309</td>\n",
       "      <td>SET OF 60 I LOVE LONDON CAKE CASES</td>\n",
       "      <td>-24</td>\n",
       "      <td>2011-11-13 11:38:00</td>\n",
       "      <td>0.55</td>\n",
       "      <td>17838</td>\n",
       "      <td>United Kingdom</td>\n",
       "    </tr>\n",
       "    <tr>\n",
       "      <th>529993</th>\n",
       "      <td>C580764</td>\n",
       "      <td>22667</td>\n",
       "      <td>RECIPE BOX RETROSPOT</td>\n",
       "      <td>-12</td>\n",
       "      <td>2011-12-06 10:38:00</td>\n",
       "      <td>2.95</td>\n",
       "      <td>14562</td>\n",
       "      <td>United Kingdom</td>\n",
       "    </tr>\n",
       "    <tr>\n",
       "      <th>529994</th>\n",
       "      <td>C580764</td>\n",
       "      <td>22667</td>\n",
       "      <td>RECIPE BOX RETROSPOT</td>\n",
       "      <td>-12</td>\n",
       "      <td>2011-12-06 10:38:00</td>\n",
       "      <td>2.95</td>\n",
       "      <td>14562</td>\n",
       "      <td>United Kingdom</td>\n",
       "    </tr>\n",
       "  </tbody>\n",
       "</table>\n",
       "<p>10131 rows × 8 columns</p>\n",
       "</div>"
      ],
      "text/plain": [
       "       InvoiceNo StockCode                          Description  Quantity  \\\n",
       "496       536409     21866          UNION JACK FLAG LUGGAGE TAG         1   \n",
       "519       536409     21866          UNION JACK FLAG LUGGAGE TAG         1   \n",
       "486       536409     22111         SCOTTIE DOG HOT WATER BOTTLE         1   \n",
       "541       536409     22111         SCOTTIE DOG HOT WATER BOTTLE         1   \n",
       "491       536409     22866        HAND WARMER SCOTTY DOG DESIGN         1   \n",
       "...          ...       ...                                  ...       ...   \n",
       "440209   C574510     22360      GLASS JAR ENGLISH CONFECTIONERY        -1   \n",
       "461456   C575940     23309  SET OF 60 I LOVE LONDON CAKE CASES        -24   \n",
       "461457   C575940     23309  SET OF 60 I LOVE LONDON CAKE CASES        -24   \n",
       "529993   C580764     22667                RECIPE BOX RETROSPOT        -12   \n",
       "529994   C580764     22667                RECIPE BOX RETROSPOT        -12   \n",
       "\n",
       "               InvoiceDate  UnitPrice CustomerID         Country  \n",
       "496    2010-12-01 11:45:00       1.25      17908  United Kingdom  \n",
       "519    2010-12-01 11:45:00       1.25      17908  United Kingdom  \n",
       "486    2010-12-01 11:45:00       4.95      17908  United Kingdom  \n",
       "541    2010-12-01 11:45:00       4.95      17908  United Kingdom  \n",
       "491    2010-12-01 11:45:00       2.10      17908  United Kingdom  \n",
       "...                    ...        ...        ...             ...  \n",
       "440209 2011-11-04 13:25:00       2.95      15110  United Kingdom  \n",
       "461456 2011-11-13 11:38:00       0.55      17838  United Kingdom  \n",
       "461457 2011-11-13 11:38:00       0.55      17838  United Kingdom  \n",
       "529993 2011-12-06 10:38:00       2.95      14562  United Kingdom  \n",
       "529994 2011-12-06 10:38:00       2.95      14562  United Kingdom  \n",
       "\n",
       "[10131 rows x 8 columns]"
      ]
     },
     "execution_count": 40,
     "metadata": {},
     "output_type": "execute_result"
    }
   ],
   "source": [
    "churn[churn.duplicated(keep=False, subset=['InvoiceNo', \n",
    "                                     'StockCode', \n",
    "                                     'Description', \n",
    "                                     'Quantity',\n",
    "                                     'InvoiceDate',\n",
    "                                     'UnitPrice', \n",
    "                                     'CustomerID'])].sort_values(by=['InvoiceNo',\n",
    "                                                                     'StockCode'])"
   ]
  },
  {
   "cell_type": "code",
   "execution_count": 41,
   "id": "a2fa07d0",
   "metadata": {},
   "outputs": [],
   "source": [
    "churn.sort_values(by=['InvoiceNo', \n",
    "                   'StockCode', \n",
    "                   'Description', \n",
    "                   'Quantity',\n",
    "                   'InvoiceDate',\n",
    "                   'UnitPrice', \n",
    "                   'CustomerID'],\n",
    "               inplace=True)"
   ]
  },
  {
   "cell_type": "code",
   "execution_count": 42,
   "id": "351f2a6e",
   "metadata": {},
   "outputs": [],
   "source": [
    "churn.drop_duplicates(subset=['InvoiceNo', \n",
    "                          'StockCode', \n",
    "                          'Description', \n",
    "                          'Quantity',\n",
    "                          'InvoiceDate',\n",
    "                          'UnitPrice', \n",
    "                          'CustomerID'],\n",
    "                   keep='first',\n",
    "                   inplace=True)"
   ]
  },
  {
   "cell_type": "code",
   "execution_count": 43,
   "id": "db7861bf",
   "metadata": {},
   "outputs": [],
   "source": [
    "churn['LastPurchaseDate'] = churn[churn['Quantity'] > 0].groupby('CustomerID')['InvoiceDate'].transform('max')\n",
    "churn['TotalPurchase'] = (churn['Quantity'] * churn['UnitPrice']).round(2)"
   ]
  },
  {
   "cell_type": "code",
   "execution_count": 44,
   "id": "5a3e8408",
   "metadata": {},
   "outputs": [
    {
     "data": {
      "image/png": "[encoded data removed]",
      "text/plain": [
       "<Figure size 1000x600 with 1 Axes>"
      ]
     },
     "metadata": {},
     "output_type": "display_data"
    }
   ],
   "source": [
    "monthly_counts = churn['InvoiceDate'].dt.to_period('M').value_counts().sort_index()\n",
    "\n",
    "plt.figure(figsize=(10, 6))\n",
    "sns.barplot(\n",
    "    x=monthly_counts.index.astype(str),\n",
    "    y=monthly_counts.values\n",
    ")\n",
    "plt.title('Monthly Invoice Counts')\n",
    "plt.xlabel('Month')\n",
    "plt.ylabel('Count')\n",
    "plt.xticks(rotation=45)\n",
    "plt.show();"
   ]
  },
  {
   "cell_type": "code",
   "execution_count": 45,
   "id": "a6c987f6",
   "metadata": {},
   "outputs": [],
   "source": [
    "churn['Period'] = churn['InvoiceDate'].dt.to_period('Y')\n",
    "frecuency = churn.groupby(['CustomerID', 'Period'])['InvoiceNo'].nunique().reset_index().pivot_table(index='CustomerID', \n",
    "                                                                                                  columns='Period', \n",
    "                                                                                                  values='InvoiceNo', \n",
    "                                                                                                  fill_value=0)\n",
    "frecuency.columns = frecuency.columns.astype(str)"
   ]
  },
  {
   "cell_type": "code",
   "execution_count": 46,
   "id": "accf4646",
   "metadata": {},
   "outputs": [],
   "source": [
    "churn2 = churn.groupby(['CustomerID', 'Country']).agg({'LastPurchaseDate': 'max',\n",
    "                                                 'TotalPurchase': ['sum', 'min', 'mean']}).reset_index()\n",
    "churn2.columns = ['CustomerID', 'Country','LastPurchaseDate', 'TotalPurchase', 'MinPurchase', 'AvgPurchase']"
   ]
  },
  {
   "cell_type": "code",
   "execution_count": 47,
   "id": "8a524db9",
   "metadata": {},
   "outputs": [],
   "source": [
    "churn2['Recency'] = (churn2['LastPurchaseDate'].max() - churn2['LastPurchaseDate']).dt.days\n",
    "churn2 = churn2.merge(frecuency, on='CustomerID', how='left')\n",
    "churn2.rename(columns={'2010': 'Frequency-2010',\n",
    "                    '2011': 'Frequency-2011'}, \n",
    "           inplace=True)"
   ]
  },
  {
   "cell_type": "code",
   "execution_count": 48,
   "id": "044ac15d",
   "metadata": {},
   "outputs": [
    {
     "data": {
      "application/vnd.microsoft.datawrangler.viewer.v0+json": {
       "columns": [
        {
         "name": "index",
         "rawType": "object",
         "type": "string"
        },
        {
         "name": "TotalPurchase",
         "rawType": "float64",
         "type": "float"
        },
        {
         "name": "MinPurchase",
         "rawType": "float64",
         "type": "float"
        },
        {
         "name": "AvgPurchase",
         "rawType": "float64",
         "type": "float"
        },
        {
         "name": "Recency",
         "rawType": "float64",
         "type": "float"
        },
        {
         "name": "Frequency-2010",
         "rawType": "float64",
         "type": "float"
        },
        {
         "name": "Frequency-2011",
         "rawType": "float64",
         "type": "float"
        }
       ],
       "ref": "789ea359-bc1a-4264-8005-d06fc73d724c",
       "rows": [
        [
         "count",
         "4379.0",
         "4379.0",
         "4379.0",
         "4379.0",
         "4379.0",
         "4379.0"
        ],
        [
         "mean",
         "2182.806218314684",
         "-69.43931491208039",
         "32.830545786709294",
         "90.84973738296415",
         "0.7328157113496232",
         "7.264443936971912"
        ],
        [
         "std",
         "20809.690561152427",
         "2817.8237278901993",
         "180.58548483115402",
         "100.03821691752565",
         "7.687943525217551",
         "59.0791406057175"
        ],
        [
         "min",
         "-1192.2",
         "-168469.6",
         "-238.44",
         "0.0",
         "0.0",
         "0.0"
        ],
        [
         "25%",
         "292.58500000000004",
         "-9.95",
         "11.16",
         "16.0",
         "0.0",
         "1.0"
        ],
        [
         "50%",
         "642.02",
         "0.85",
         "16.82",
         "49.0",
         "0.0",
         "2.0"
        ],
        [
         "75%",
         "1581.4299999999998",
         "6.96",
         "23.32",
         "139.5",
         "0.0",
         "5.0"
        ],
        [
         "max",
         "1266035.05",
         "3861.0",
         "9904.88",
         "373.0",
         "168.0",
         "1296.0"
        ]
       ],
       "shape": {
        "columns": 6,
        "rows": 8
       }
      },
      "text/html": [
       "<div>\n",
       "<style scoped>\n",
       "    .dataframe tbody tr th:only-of-type {\n",
       "        vertical-align: middle;\n",
       "    }\n",
       "\n",
       "    .dataframe tbody tr th {\n",
       "        vertical-align: top;\n",
       "    }\n",
       "\n",
       "    .dataframe thead th {\n",
       "        text-align: right;\n",
       "    }\n",
       "</style>\n",
       "<table border=\"1\" class=\"dataframe\">\n",
       "  <thead>\n",
       "    <tr style=\"text-align: right;\">\n",
       "      <th></th>\n",
       "      <th>TotalPurchase</th>\n",
       "      <th>MinPurchase</th>\n",
       "      <th>AvgPurchase</th>\n",
       "      <th>Recency</th>\n",
       "      <th>Frequency-2010</th>\n",
       "      <th>Frequency-2011</th>\n",
       "    </tr>\n",
       "  </thead>\n",
       "  <tbody>\n",
       "    <tr>\n",
       "      <th>count</th>\n",
       "      <td>4.379000e+03</td>\n",
       "      <td>4379.000000</td>\n",
       "      <td>4379.000000</td>\n",
       "      <td>4379.000000</td>\n",
       "      <td>4379.000000</td>\n",
       "      <td>4379.000000</td>\n",
       "    </tr>\n",
       "    <tr>\n",
       "      <th>mean</th>\n",
       "      <td>2.182806e+03</td>\n",
       "      <td>-69.439315</td>\n",
       "      <td>32.830546</td>\n",
       "      <td>90.849737</td>\n",
       "      <td>0.732816</td>\n",
       "      <td>7.264444</td>\n",
       "    </tr>\n",
       "    <tr>\n",
       "      <th>std</th>\n",
       "      <td>2.080969e+04</td>\n",
       "      <td>2817.823728</td>\n",
       "      <td>180.585485</td>\n",
       "      <td>100.038217</td>\n",
       "      <td>7.687944</td>\n",
       "      <td>59.079141</td>\n",
       "    </tr>\n",
       "    <tr>\n",
       "      <th>min</th>\n",
       "      <td>-1.192200e+03</td>\n",
       "      <td>-168469.600000</td>\n",
       "      <td>-238.440000</td>\n",
       "      <td>0.000000</td>\n",
       "      <td>0.000000</td>\n",
       "      <td>0.000000</td>\n",
       "    </tr>\n",
       "    <tr>\n",
       "      <th>25%</th>\n",
       "      <td>2.925850e+02</td>\n",
       "      <td>-9.950000</td>\n",
       "      <td>11.160000</td>\n",
       "      <td>16.000000</td>\n",
       "      <td>0.000000</td>\n",
       "      <td>1.000000</td>\n",
       "    </tr>\n",
       "    <tr>\n",
       "      <th>50%</th>\n",
       "      <td>6.420200e+02</td>\n",
       "      <td>0.850000</td>\n",
       "      <td>16.820000</td>\n",
       "      <td>49.000000</td>\n",
       "      <td>0.000000</td>\n",
       "      <td>2.000000</td>\n",
       "    </tr>\n",
       "    <tr>\n",
       "      <th>75%</th>\n",
       "      <td>1.581430e+03</td>\n",
       "      <td>6.960000</td>\n",
       "      <td>23.320000</td>\n",
       "      <td>139.500000</td>\n",
       "      <td>0.000000</td>\n",
       "      <td>5.000000</td>\n",
       "    </tr>\n",
       "    <tr>\n",
       "      <th>max</th>\n",
       "      <td>1.266035e+06</td>\n",
       "      <td>3861.000000</td>\n",
       "      <td>9904.880000</td>\n",
       "      <td>373.000000</td>\n",
       "      <td>168.000000</td>\n",
       "      <td>1296.000000</td>\n",
       "    </tr>\n",
       "  </tbody>\n",
       "</table>\n",
       "</div>"
      ],
      "text/plain": [
       "       TotalPurchase    MinPurchase  AvgPurchase      Recency  Frequency-2010  \\\n",
       "count   4.379000e+03    4379.000000  4379.000000  4379.000000     4379.000000   \n",
       "mean    2.182806e+03     -69.439315    32.830546    90.849737        0.732816   \n",
       "std     2.080969e+04    2817.823728   180.585485   100.038217        7.687944   \n",
       "min    -1.192200e+03 -168469.600000  -238.440000     0.000000        0.000000   \n",
       "25%     2.925850e+02      -9.950000    11.160000    16.000000        0.000000   \n",
       "50%     6.420200e+02       0.850000    16.820000    49.000000        0.000000   \n",
       "75%     1.581430e+03       6.960000    23.320000   139.500000        0.000000   \n",
       "max     1.266035e+06    3861.000000  9904.880000   373.000000      168.000000   \n",
       "\n",
       "       Frequency-2011  \n",
       "count     4379.000000  \n",
       "mean         7.264444  \n",
       "std         59.079141  \n",
       "min          0.000000  \n",
       "25%          1.000000  \n",
       "50%          2.000000  \n",
       "75%          5.000000  \n",
       "max       1296.000000  "
      ]
     },
     "execution_count": 48,
     "metadata": {},
     "output_type": "execute_result"
    }
   ],
   "source": [
    "churn2['TotalPurchase'] = churn2['TotalPurchase'].fillna(0).astype(float).round(2)\n",
    "churn2['MinPurchase'] = churn2['MinPurchase'].fillna(0).astype(float).round(2)\n",
    "churn2['AvgPurchase'] = churn2['AvgPurchase'].fillna(0).astype(float).round(2)\n",
    "churn2['Recency'] = churn2['Recency'].fillna(0).astype(int)\n",
    "churn2['Frequency-2010'] = churn2['Frequency-2010'].fillna(0).astype(int)\n",
    "churn2['Frequency-2011'] = churn2['Frequency-2011'].fillna(0).astype(int)\n",
    "churn2.describe(include='number')"
   ]
  },
  {
   "cell_type": "code",
   "execution_count": 49,
   "id": "223d2760",
   "metadata": {},
   "outputs": [
    {
     "data": {
      "image/png": "[encoded data removed]",
      "text/plain": [
       "<Figure size 800x500 with 1 Axes>"
      ]
     },
     "metadata": {},
     "output_type": "display_data"
    }
   ],
   "source": [
    "plt.figure(figsize=(8, 5))\n",
    "sns.histplot(churn2['Recency'], bins=30, kde=True, color='blue')\n",
    "plt.title('Recency Distribution')\n",
    "plt.xlabel('Recency')\n",
    "plt.ylabel('Density')\n",
    "plt.show()"
   ]
  },
  {
   "cell_type": "code",
   "execution_count": 50,
   "id": "0b1efb72",
   "metadata": {},
   "outputs": [
    {
     "data": {
      "image/png": "[encoded data removed]",
      "text/plain": [
       "<Figure size 800x500 with 1 Axes>"
      ]
     },
     "metadata": {},
     "output_type": "display_data"
    }
   ],
   "source": [
    "plt.figure(figsize=(8, 5))\n",
    "sns.histplot(churn2['TotalPurchase'], bins=30, kde=True, color='green')\n",
    "plt.title('TotalPurchase Distribution')\n",
    "plt.xlabel('TotalPurchase')\n",
    "plt.ylabel('Density')\n",
    "plt.show()"
   ]
  },
  {
   "cell_type": "code",
   "execution_count": 51,
   "id": "c931f92a",
   "metadata": {},
   "outputs": [
    {
     "data": {
      "image/png": "[encoded data removed]",
      "text/plain": [
       "<Figure size 800x500 with 1 Axes>"
      ]
     },
     "metadata": {},
     "output_type": "display_data"
    }
   ],
   "source": [
    "plt.figure(figsize=(8, 5))\n",
    "sns.histplot(churn2['Frequency-2010'], bins=30, kde=True, color='red')\n",
    "plt.title('Frequency-2010 Distribution')\n",
    "plt.xlabel('Frequency-2010')\n",
    "plt.ylabel('Density')\n",
    "plt.show()"
   ]
  },
  {
   "cell_type": "code",
   "execution_count": 52,
   "id": "d44965a5",
   "metadata": {},
   "outputs": [
    {
     "data": {
      "image/png": "[encoded data removed]",
      "text/plain": [
       "<Figure size 800x500 with 1 Axes>"
      ]
     },
     "metadata": {},
     "output_type": "display_data"
    }
   ],
   "source": [
    "plt.figure(figsize=(8, 5))\n",
    "sns.histplot(churn2['Frequency-2011'], bins=30, kde=True, color='red')\n",
    "plt.title('Frequency-2011 Distribution')\n",
    "plt.xlabel('Frequency-2011')\n",
    "plt.ylabel('Density')\n",
    "plt.show()"
   ]
  }
 ],
 "metadata": {
  "kernelspec": {
   "display_name": "user",
   "language": "python",
   "name": "python3"
  },
  "language_info": {
   "codemirror_mode": {
    "name": "ipython",
    "version": 3
   },
   "file_extension": ".py",
   "mimetype": "text/x-python",
   "name": "python",
   "nbconvert_exporter": "python",
   "pygments_lexer": "ipython3",
   "version": "3.12.9"
  }
 },
 "nbformat": 4,
 "nbformat_minor": 5
}
